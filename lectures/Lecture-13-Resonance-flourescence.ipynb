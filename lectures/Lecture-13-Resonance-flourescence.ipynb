{
 "cells": [
  {
   "cell_type": "code",
   "execution_count": null,
   "id": "ccc567c1",
   "metadata": {},
   "outputs": [],
   "source": [
    "!pip3 install qutip==4.7.0 qutip-qip==0.2.1 numpy==1.21.0 scipy==1.8.1 matplotlib==3.5.2 jupytext==1.13.8 black==22.3.0 flake8==4.0.1 nbqa==1.3.1 isort==5.10.1"
   ]
  },
  {
   "cell_type": "markdown",
   "id": "28b34546",
   "metadata": {},
   "source": [
    "# Lecture 13 - Resonance flourescence"
   ]
  },
  {
   "cell_type": "markdown",
   "id": "79573718",
   "metadata": {},
   "source": [
    "Author: J. R. Johansson (robert@riken.jp), https://jrjohansson.github.io/\n",
    "\n",
    "This lecture series was developed by J.R. Johannson. The original lecture notebooks are available [here](https://github.com/jrjohansson/qutip-lectures).\n",
    "\n",
    "This is a slightly modified version of the lectures, to work with the current release of QuTiP. You can find these lectures as a part of the [qutip-tutorials repository](https://github.com/qutip/qutip-tutorials). This lecture and other tutorial notebooks are indexed at the [QuTiP Tutorial webpage](https://qutip.org/tutorials.html)."
   ]
  },
  {
   "cell_type": "code",
   "execution_count": null,
   "id": "d4953e9e",
   "metadata": {},
   "outputs": [],
   "source": [
    "import matplotlib.pyplot as plt\n",
    "import numpy as np\n",
    "from qutip import (about, basis, correlation_2op_1t, mesolve, n_thermal, num,\n",
    "                   sigmam, sigmap, sigmax, sigmay, sigmaz,\n",
    "                   spectrum_correlation_fft)\n",
    "\n",
    "%matplotlib inline"
   ]
  },
  {
   "cell_type": "markdown",
   "id": "488f6edc",
   "metadata": {},
   "source": [
    "## Introduction\n",
    "\n",
    "$\\displaystyle H_L = -\\frac{\\Omega}{2}(\\sigma_+ + \\sigma_-)$\n",
    "\n",
    "\n",
    "$\\displaystyle \\frac{d}{dt}\\rho = -i[H_L, \\rho] + \\gamma_0(N+1)\\left(\\sigma_-\\rho(t)\\sigma_+ - \\frac{1}{2}\\sigma_+\\sigma_-\\rho(t) - \\frac{1}{2}\\rho(t)\\sigma_+\\sigma_-\\right) + \\gamma_0 N \\left(\\sigma_+\\rho(t)\\sigma_- - \\frac{1}{2}\\sigma_-\\sigma_+\\rho(t) - \\frac{1}{2}\\rho(t)\\sigma_-\\sigma_+\\right)$\n"
   ]
  },
  {
   "cell_type": "markdown",
   "id": "4dff4f4c",
   "metadata": {},
   "source": [
    "### Problem definition in QuTiP"
   ]
  },
  {
   "cell_type": "code",
   "execution_count": null,
   "id": "219c3e54",
   "metadata": {},
   "outputs": [],
   "source": [
    "Omega = 1.0 * 2 * np.pi"
   ]
  },
  {
   "cell_type": "code",
   "execution_count": null,
   "id": "8b887708",
   "metadata": {},
   "outputs": [],
   "source": [
    "gamma0 = 0.05\n",
    "w_th = 0.0\n",
    "N = n_thermal(Omega, w_th)"
   ]
  },
  {
   "cell_type": "code",
   "execution_count": null,
   "id": "0db72a50",
   "metadata": {},
   "outputs": [],
   "source": [
    "def system_spec(Omega, gamma0, N):\n",
    "    HL = -0.5 * Omega * (sigmap() + sigmam())\n",
    "    c_ops = [np.sqrt(gamma0 * (N + 1)) * sigmam(),\n",
    "             np.sqrt(gamma0 * N) * sigmap()]\n",
    "    return HL, c_ops"
   ]
  },
  {
   "cell_type": "code",
   "execution_count": null,
   "id": "8d03a5e6",
   "metadata": {},
   "outputs": [],
   "source": [
    "HL, c_ops = system_spec(Omega, gamma0, N)"
   ]
  },
  {
   "cell_type": "code",
   "execution_count": null,
   "id": "b42dd738",
   "metadata": {},
   "outputs": [],
   "source": [
    "e_ops = [sigmax(), sigmay(), sigmaz(), sigmam(), sigmap(), num(2)]"
   ]
  },
  {
   "cell_type": "code",
   "execution_count": null,
   "id": "0e4b1ab7",
   "metadata": {},
   "outputs": [],
   "source": [
    "psi0 = basis(2, 0)"
   ]
  },
  {
   "cell_type": "code",
   "execution_count": null,
   "id": "dff83bee",
   "metadata": {},
   "outputs": [],
   "source": [
    "tlist = np.linspace(0, 20 / (2 * np.pi), 200)\n",
    "result = mesolve(HL, psi0, tlist, c_ops, e_ops)"
   ]
  },
  {
   "cell_type": "code",
   "execution_count": null,
   "id": "80e85a14",
   "metadata": {},
   "outputs": [],
   "source": [
    "fig, axes = plt.subplots(2, 1, figsize=(12, 6), sharex=True)\n",
    "\n",
    "axes[0].plot(result.times, result.expect[0], \"r\",\n",
    "             label=r\"$\\langle\\sigma_x\\rangle$\")\n",
    "axes[0].plot(result.times, result.expect[1], \"g\",\n",
    "             label=r\"$\\langle\\sigma_y\\rangle$\")\n",
    "axes[0].plot(result.times, result.expect[2], \"b\",\n",
    "             label=r\"$\\langle\\sigma_z\\rangle$\")\n",
    "axes[0].legend()\n",
    "axes[0].set_ylim(-1, 1)\n",
    "\n",
    "\n",
    "axes[1].plot(result.times, result.expect[5], \"b\", label=r\"$P_e$\")\n",
    "\n",
    "# axes[1].set_ylabel(r'$\\langle\\sigma_z\\rangle$', fontsize=16)\n",
    "axes[1].set_xlabel(\"time\", fontsize=16)\n",
    "axes[1].legend()\n",
    "axes[1].set_ylim(0, 1);"
   ]
  },
  {
   "cell_type": "code",
   "execution_count": null,
   "id": "5b32f437",
   "metadata": {},
   "outputs": [],
   "source": [
    "fig, ax = plt.subplots(1, 1, figsize=(12, 6), sharex=True)\n",
    "\n",
    "\n",
    "for idx, gamma0 in enumerate([0.1 * Omega, 0.5 * Omega, 1.0 * Omega]):\n",
    "\n",
    "    HL, c_ops = system_spec(Omega, gamma0, N)\n",
    "    result = mesolve(HL, psi0, tlist, c_ops, e_ops)\n",
    "\n",
    "    ax.plot(result.times, result.expect[5], \"b\",\n",
    "            label=r\"$\\langle\\sigma_z\\rangle$\")\n",
    "\n",
    "ax.set_ylim(0, 1);"
   ]
  },
  {
   "cell_type": "code",
   "execution_count": null,
   "id": "88cea37a",
   "metadata": {},
   "outputs": [],
   "source": [
    "fig, ax = plt.subplots(1, 1, figsize=(12, 6), sharex=True)\n",
    "\n",
    "\n",
    "for idx, gamma0 in enumerate([0.1 * Omega, 0.5 * Omega, 1.0 * Omega]):\n",
    "\n",
    "    HL, c_ops = system_spec(Omega, gamma0, N)\n",
    "    result = mesolve(HL, psi0, tlist, c_ops, e_ops)\n",
    "\n",
    "    ax.plot(\n",
    "        result.times, np.imag(result.expect[4]),\n",
    "        label=r\"im $\\langle\\sigma_+\\rangle$\"\n",
    "    )\n",
    "\n",
    "ax.set_ylim(-0.5, 0.5);"
   ]
  },
  {
   "cell_type": "code",
   "execution_count": null,
   "id": "a426f038",
   "metadata": {},
   "outputs": [],
   "source": [
    "fig, axes = plt.subplots(1, 2, figsize=(12, 6))\n",
    "\n",
    "taulist = np.linspace(0, 100, 10000)\n",
    "\n",
    "for idx, gamma0 in enumerate([2 * Omega, 0.5 * Omega, 0.25 * Omega]):\n",
    "\n",
    "    HL, c_ops = system_spec(Omega, gamma0, N)\n",
    "    corr_vec = correlation_2op_1t(HL, None, taulist, c_ops, sigmap(), sigmam())\n",
    "    w, S = spectrum_correlation_fft(taulist, corr_vec)\n",
    "\n",
    "    axes[0].plot(taulist, corr_vec, label=r\"$<\\sigma_+(\\tau)\\sigma_-(0)>$\")\n",
    "    axes[1].plot(-w / (gamma0), S, \"b\", label=r\"$S(\\omega)$\")\n",
    "    axes[1].plot(w / (gamma0), S, \"b\", label=r\"$S(\\omega)$\")\n",
    "\n",
    "axes[0].set_xlim(0, 10)\n",
    "axes[1].set_xlim(-5, 5);"
   ]
  },
  {
   "cell_type": "markdown",
   "id": "05866954",
   "metadata": {},
   "source": [
    "### Software versions"
   ]
  },
  {
   "cell_type": "code",
   "execution_count": null,
   "id": "a7d11a2e",
   "metadata": {},
   "outputs": [],
   "source": [
    "about()"
   ]
  }
 ],
 "metadata": {
  "jupytext": {
   "cell_metadata_filter": "-all",
   "notebook_metadata_filter": "-jupytext.cell_metadata_filter,-jupytext.notebook_metadata_filter"
  },
  "kernelspec": {
   "display_name": "Python 3 (ipykernel)",
   "language": "python",
   "name": "python3"
  }
 },
 "nbformat": 4,
 "nbformat_minor": 5
}
