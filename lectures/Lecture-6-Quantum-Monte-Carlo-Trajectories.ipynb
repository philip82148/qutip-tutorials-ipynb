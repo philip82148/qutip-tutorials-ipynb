{
 "cells": [
  {
   "cell_type": "code",
   "execution_count": null,
   "id": "ccc567c1",
   "metadata": {},
   "outputs": [],
   "source": [
    "!pip3 install qutip==4.7.0 qutip-qip==0.2.1 numpy==1.21.0 scipy==1.8.1 matplotlib==3.5.2 jupytext==1.13.8 black==22.3.0 flake8==4.0.1 nbqa==1.3.1 isort==5.10.1"
   ]
  },
  {
   "cell_type": "markdown",
   "id": "93a31271",
   "metadata": {},
   "source": [
    "# Lecture 6 - Quantum Monte-Carlo Trajectories"
   ]
  },
  {
   "cell_type": "markdown",
   "id": "acef4886",
   "metadata": {},
   "source": [
    "Author: J. R. Johansson (robert@riken.jp), https://jrjohansson.github.io/\n",
    "\n",
    "This lecture series was developed by J.R. Johannson. The original lecture notebooks are available [here](https://github.com/jrjohansson/qutip-lectures).\n",
    "\n",
    "This is a slightly modified version of the lectures, to work with the current release of QuTiP. You can find these lectures as a part of the [qutip-tutorials repository](https://github.com/qutip/qutip-tutorials). This lecture and other tutorial notebooks are indexed at the [QuTiP Tutorial webpage](https://qutip.org/tutorials.html)."
   ]
  },
  {
   "cell_type": "code",
   "execution_count": null,
   "id": "de31967f",
   "metadata": {},
   "outputs": [],
   "source": [
    "import matplotlib.font_manager\n",
    "import matplotlib.pyplot as plt\n",
    "import numpy as np\n",
    "from IPython.display import Image\n",
    "from qutip import about, basis, destroy, expect, mcsolve, mesolve, steadystate\n",
    "\n",
    "%matplotlib inline"
   ]
  },
  {
   "cell_type": "markdown",
   "id": "2cae87aa",
   "metadata": {},
   "source": [
    "## Introduction to the Quantum Monte-Carlo trajectory method\n",
    "\n",
    "The Quantum Monte-Carlo trajectory method is an equation of motion for a single realization of the state vector $\\left|\\psi(t)\\right>$ for a quantum system that interacts with its environment. The dynamics of the wave function is given by the Schrodinger equation,\n",
    "\n",
    "<center>\n",
    "$\\displaystyle\\frac{d}{dt}\\left|\\psi(t)\\right> = - \\frac{i}{\\hbar} H_{\\rm eff} \\left|\\psi(t)\\right>$\n",
    "</center>\n",
    "\n",
    "where the Hamiltonian is an effective Hamiltonian that, in addition to the system Hamiltonian $H(t)$, also contains a non-Hermitian contribution due to the interaction with the environment:\n",
    "\n",
    "<center>\n",
    "$\\displaystyle H_{\\rm eff}(t) = H(t) - \\frac{i\\hbar}{2}\\sum_n c_n^\\dagger c_n$\n",
    "</center>\n",
    "\n",
    "Since the effective Hamiltonian is non-Hermitian, the norm of the wavefunction is decreasing with time, which to first order in a small time step $\\delta t$ is given by $\\langle\\psi(t+\\delta t)|\\psi(t+\\delta t)\\rangle \\approx 1 - \\delta p\\;\\;\\;$, where \n",
    "\n",
    "<center>\n",
    "$\\displaystyle \\delta p = \\delta t \\sum_n \\left<\\psi(t)|c_n^\\dagger c_n|\\psi(t)\\right>$\n",
    "</center>\n",
    "\n",
    "The decreasing norm is used to determine when so-called quantum jumps are to be imposed on the dynamics, where we compare $\\delta p$ to a random number in the range [0, 1]. If the norm has decreased below the randomly chosen number, we apply a \"quantum jump\", so that the new wavefunction at $t+\\delta t$ is given by\n",
    "\n",
    "<center>\n",
    "$\\left|\\psi(t+\\delta t)\\right> = c_n \\left|\\psi(t)\\right>/\\left<\\psi(t)|c_n^\\dagger c_n|\\psi(t)\\right>^{1/2}$ \n",
    "</center>\n",
    "\n",
    "for a randomly chosen collapse operator $c_n$, weighted so the probability that the collapse being described by the nth collapse operator is given by\n",
    "    \n",
    "<center>\n",
    "$\\displaystyle P_n = \\left<\\psi(t)|c_n^\\dagger c_n|\\psi(t)\\right>/{\\delta p}$ \n",
    "</center>\n"
   ]
  },
  {
   "cell_type": "markdown",
   "id": "ff38d992",
   "metadata": {},
   "source": [
    "## Decay of a single-photon Fock state in a cavity\n",
    "\n",
    "This is a Monte-Carlo simulation showing the decay of a cavity Fock state $\\left|1\\right>$ in a thermal environment with an average occupation number of $n=0.063$ .\n",
    "\n",
    "Here, the coupling strength is given by the inverse of the cavity ring-down time $T_c = 0.129$ .\n",
    "\n",
    "The parameters chosen here correspond to those from S. Gleyzes, et al., Nature 446, 297 (2007), and we will carry out a simulation that corresponds to these experimental results from that paper:"
   ]
  },
  {
   "cell_type": "code",
   "execution_count": null,
   "id": "4c4d26ca",
   "metadata": {},
   "outputs": [],
   "source": [
    "Image(filename=\"images/exdecay.png\")"
   ]
  },
  {
   "cell_type": "markdown",
   "id": "252336dd",
   "metadata": {},
   "source": [
    "### Problem parameters"
   ]
  },
  {
   "cell_type": "code",
   "execution_count": null,
   "id": "523e0369",
   "metadata": {},
   "outputs": [],
   "source": [
    "N = 4  # number of basis states to consider\n",
    "kappa = 1.0 / 0.129  # coupling to heat bath\n",
    "nth = 0.063  # temperature with <n>=0.063\n",
    "\n",
    "tlist = np.linspace(0, 0.6, 100)"
   ]
  },
  {
   "cell_type": "markdown",
   "id": "7511f2b9",
   "metadata": {},
   "source": [
    "## Create operators, Hamiltonian and initial state\n",
    "\n",
    "Here we create QuTiP `Qobj` representations of the operators and state that are involved in this problem."
   ]
  },
  {
   "cell_type": "code",
   "execution_count": null,
   "id": "96ad7dc7",
   "metadata": {},
   "outputs": [],
   "source": [
    "a = destroy(N)  # cavity destruction operator\n",
    "H = a.dag() * a  # harmonic oscillator Hamiltonian\n",
    "psi0 = basis(N, 1)  # initial Fock state with one photon: |1>"
   ]
  },
  {
   "cell_type": "markdown",
   "id": "1f8699a3",
   "metadata": {},
   "source": [
    "## Create a list of collapse operators that describe the dissipation"
   ]
  },
  {
   "cell_type": "code",
   "execution_count": null,
   "id": "3bbc4785",
   "metadata": {},
   "outputs": [],
   "source": [
    "# collapse operator list\n",
    "c_op_list = []\n",
    "\n",
    "# decay operator\n",
    "c_op_list.append(np.sqrt(kappa * (1 + nth)) * a)\n",
    "\n",
    "# excitation operator\n",
    "c_op_list.append(np.sqrt(kappa * nth) * a.dag())"
   ]
  },
  {
   "cell_type": "markdown",
   "id": "a46ba685",
   "metadata": {},
   "source": [
    "## Monte-Carlo simulation\n",
    "\n",
    "Here we start the Monte-Carlo simulation, and we request expectation values of photon number operators with 1, 5, 15, and 904 trajectories (compare with experimental results above)."
   ]
  },
  {
   "cell_type": "code",
   "execution_count": null,
   "id": "3bccb69b",
   "metadata": {},
   "outputs": [],
   "source": [
    "ntraj = [1, 5, 15, 904]  # list of number of trajectories to avg. over\n",
    "\n",
    "mc = mcsolve(H, psi0, tlist, c_op_list, [a.dag() * a], ntraj)"
   ]
  },
  {
   "cell_type": "markdown",
   "id": "e78272f1",
   "metadata": {},
   "source": [
    "The expectation values of $a^\\dagger a$ are now available in array ``mc.expect[idx][0]`` where ``idx`` takes values in ``[0,1,2,3]`` corresponding to the averages of ``1, 5, 15, 904`` Monte Carlo trajectories, as specified above. Below we plot the array ``mc.expect[idx][0]`` vs. ``tlist`` for each index ``idx``."
   ]
  },
  {
   "cell_type": "markdown",
   "id": "cbf15db8",
   "metadata": {},
   "source": [
    "## Lindblad master-equation simulation and steady state\n",
    "\n",
    "For comparison with the averages of single quantum trajectories provided by the Monte-Carlo solver we here also calculate the dynamics of the Lindblad master equation, which should agree with the Monte-Carlo simultions for infinite number of trajectories."
   ]
  },
  {
   "cell_type": "code",
   "execution_count": null,
   "id": "d739ed3e",
   "metadata": {},
   "outputs": [],
   "source": [
    "# run master equation to get ensemble average expectation values\n",
    "me = mesolve(H, psi0, tlist, c_op_list, [a.dag() * a])\n",
    "\n",
    "# calulate final state using steadystate solver\n",
    "final_state = steadystate(H, c_op_list)  # find steady-state\n",
    "# find expectation value for particle number\n",
    "fexpt = expect(a.dag() * a, final_state)"
   ]
  },
  {
   "cell_type": "markdown",
   "id": "bca8a912",
   "metadata": {},
   "source": [
    "## Plot the results"
   ]
  },
  {
   "cell_type": "code",
   "execution_count": null,
   "id": "e689cf06",
   "metadata": {},
   "outputs": [],
   "source": [
    "leg_prop = matplotlib.font_manager.FontProperties(size=10)\n",
    "\n",
    "fig, axes = plt.subplots(4, 1, sharex=True, figsize=(8, 12))\n",
    "\n",
    "fig.subplots_adjust(hspace=0.1)  # reduce space between plots\n",
    "\n",
    "for idx, n in enumerate(ntraj):\n",
    "\n",
    "    axes[idx].step(tlist, mc.expect[idx][0], \"b\", lw=2)\n",
    "    axes[idx].plot(tlist, me.expect[0], \"r--\", lw=1.5)\n",
    "    axes[idx].axhline(y=fexpt, color=\"k\", lw=1.5)\n",
    "\n",
    "    axes[idx].set_yticks(np.linspace(0, 2, 5))\n",
    "    axes[idx].set_ylim([0, 1.5])\n",
    "    axes[idx].set_ylabel(r\"$\\left<N\\right>$\", fontsize=14)\n",
    "\n",
    "    if idx == 0:\n",
    "        axes[idx].set_title(\"Ensemble Averaging of Monte Carlo Trajectories\")\n",
    "        axes[idx].legend(\n",
    "            (\"Single trajectory\", \"master equation\", \"steady state\"),\n",
    "            prop=leg_prop\n",
    "        )\n",
    "    else:\n",
    "        axes[idx].legend(\n",
    "            (\"%d trajectories\" % n, \"master equation\", \"steady state\"),\n",
    "            prop=leg_prop\n",
    "        )\n",
    "\n",
    "\n",
    "axes[3].xaxis.set_major_locator(plt.MaxNLocator(4))\n",
    "axes[3].set_xlabel(\"Time (sec)\", fontsize=14);"
   ]
  },
  {
   "cell_type": "markdown",
   "id": "40135551",
   "metadata": {},
   "source": [
    "### Software versions:"
   ]
  },
  {
   "cell_type": "code",
   "execution_count": null,
   "id": "abc8c1f1",
   "metadata": {},
   "outputs": [],
   "source": [
    "about()"
   ]
  }
 ],
 "metadata": {
  "jupytext": {
   "cell_metadata_filter": "-all",
   "notebook_metadata_filter": "-jupytext.cell_metadata_filter,-jupytext.notebook_metadata_filter"
  },
  "kernelspec": {
   "display_name": "Python 3 (ipykernel)",
   "language": "python",
   "name": "python3"
  }
 },
 "nbformat": 4,
 "nbformat_minor": 5
}
