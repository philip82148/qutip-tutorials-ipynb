{
 "cells": [
  {
   "cell_type": "code",
   "execution_count": null,
   "id": "ccc567c1",
   "metadata": {},
   "outputs": [],
   "source": [
    "!pip3 install qutip==4.7.3 qutip-qip==0.3.0 numpy==1.25.2 scipy==1.11.2 matplotlib==3.5.2 jupytext==1.13.8 black==22.3.0 flake8==4.0.1 nbqa==1.3.1 isort==5.10.1"
   ]
  },
  {
   "cell_type": "markdown",
   "id": "12d43fa8",
   "metadata": {},
   "source": [
    "# Lecture 4 - Correlation functions \n",
    "\n",
    "Author: J. R. Johansson (robert@riken.jp), https://jrjohansson.github.io/\n",
    "\n",
    "This lecture series was developed by J.R. Johannson. The original lecture notebooks are available [here](https://github.com/jrjohansson/qutip-lectures).\n",
    "\n",
    "This is a slightly modified version of the lectures, to work with the current release of QuTiP. You can find these lectures as a part of the [qutip-tutorials repository](https://github.com/qutip/qutip-tutorials). This lecture and other tutorial notebooks are indexed at the [QuTiP Tutorial webpage](https://qutip.org/tutorials.html)."
   ]
  },
  {
   "cell_type": "code",
   "execution_count": null,
   "id": "14439eb4",
   "metadata": {},
   "outputs": [],
   "source": [
    "import matplotlib.pyplot as plt\n",
    "import numpy as np\n",
    "from qutip import (about, coherent_dm, correlation, destroy, fock_dm, mesolve,\n",
    "                   qeye, steadystate, tensor)\n",
    "\n",
    "%matplotlib inline"
   ]
  },
  {
   "cell_type": "markdown",
   "id": "8988ea02",
   "metadata": {},
   "source": [
    "## First-order coherence function\n",
    "\n",
    "\n",
    "Consider an oscillator that is interacting with a thermal environment. If the oscillator initially is in a coherent state, it will gradually decay to a thermal (incoherent) state. The amount of coherence can be quantified using the first-order optical coherence function\n",
    "\n",
    "<center>\n",
    "    $\\displaystyle g^{(1)}(\\tau) = \\frac{\\langle a^\\dagger(\\tau)a(0)\\rangle}{\\sqrt{\\langle a^\\dagger(\\tau)a(\\tau)\\rangle\\langle a^\\dagger(0)a(0)\\rangle}}$\n",
    "</center>\n",
    "\n",
    "For a coherent state $|g^{(1)}(\\tau)| = 1$, and for a completely incoherent (thermal) state $g^{(1)}(\\tau) = 0$. \n",
    "\n",
    "The following code calculates and plots $g^{(1)}(\\tau)$ as a function of $\\tau$."
   ]
  },
  {
   "cell_type": "markdown",
   "id": "20d27297",
   "metadata": {},
   "source": [
    "### Example: Decay of a coherent state to an incoherent (thermal) state"
   ]
  },
  {
   "cell_type": "code",
   "execution_count": null,
   "id": "32ed3d5d",
   "metadata": {},
   "outputs": [],
   "source": [
    "N = 20\n",
    "taulist = np.linspace(0, 10.0, 200)\n",
    "a = destroy(N)\n",
    "H = 2 * np.pi * a.dag() * a\n",
    "\n",
    "# collapse operator\n",
    "G1 = 0.75\n",
    "n_th = 2.00  # bath temperature in terms of excitation number\n",
    "c_ops = [np.sqrt(G1 * (1 + n_th)) * a, np.sqrt(G1 * n_th) * a.dag()]\n",
    "\n",
    "# start with a coherent state\n",
    "rho0 = coherent_dm(N, 2.0)\n",
    "\n",
    "# first calculate the occupation number as a function of time\n",
    "n = mesolve(H, rho0, taulist, c_ops, [a.dag() * a]).expect[0]\n",
    "\n",
    "# calculate the correlation function G1 and normalize with n to obtain g1\n",
    "G1 = correlation(H, rho0, None, taulist, c_ops, a.dag(), a)\n",
    "g1 = G1 / np.sqrt(n[0] * n)"
   ]
  },
  {
   "cell_type": "code",
   "execution_count": null,
   "id": "151ff5dc",
   "metadata": {},
   "outputs": [],
   "source": [
    "fig, axes = plt.subplots(2, 1, sharex=True, figsize=(12, 6))\n",
    "\n",
    "axes[0].plot(\n",
    "    taulist, np.real(g1), \"b\",\n",
    "    label=r\"First-order coherence function $g^{(1)}(\\tau)$\"\n",
    ")\n",
    "axes[1].plot(taulist, np.real(n), \"r\", label=r\"occupation number $n(\\tau)$\")\n",
    "axes[0].legend()\n",
    "axes[1].legend()\n",
    "axes[1].set_xlabel(r\"$\\tau$\");"
   ]
  },
  {
   "cell_type": "markdown",
   "id": "4a42e86e",
   "metadata": {},
   "source": [
    "## Second-order coherence function\n",
    "\n",
    "<center>\n",
    "    $\\displaystyle g^{(2)}(\\tau) = \\frac{\\langle a^\\dagger(0)a^\\dagger(\\tau)a(\\tau)a(0)\\rangle}{\\langle a^\\dagger(0)a(0)\\rangle^2}$\n",
    "</center>\n",
    "\n",
    "For a coherent state $|g^{(2)}(\\tau)| = 1$, and for a thermal state $g^{(2)}(\\tau) = 2$ (bunched photons, tend to appear together). \n",
    "\n",
    "The following code calculates and plots $g^{(2)}(\\tau)$ as a function of $\\tau$."
   ]
  },
  {
   "cell_type": "code",
   "execution_count": null,
   "id": "b3bdad75",
   "metadata": {},
   "outputs": [],
   "source": [
    "def correlation_ss_gtt(H, tlist, c_ops, a_op, b_op, c_op, d_op, rho0=None):\n",
    "    \"\"\"\n",
    "    Calculate the correlation function <A(0)B(tau)C(tau)D(0)>\n",
    "\n",
    "    (ss_gtt = steadystate general two-time)\n",
    "\n",
    "    See, Gardiner, Quantum Noise, Section 5.2.1\n",
    "\n",
    "    .. note::\n",
    "        Experimental.\n",
    "    \"\"\"\n",
    "    if rho0 is None:\n",
    "        rho0 = steadystate(H, c_ops)\n",
    "\n",
    "    return mesolve(H, d_op * rho0 * a_op, tlist, c_ops,\n",
    "                   [b_op * c_op]).expect[0]"
   ]
  },
  {
   "cell_type": "code",
   "execution_count": null,
   "id": "11070ecf",
   "metadata": {},
   "outputs": [],
   "source": [
    "# calculate the correlation function G2 and normalize with n to obtain g2\n",
    "G2 = correlation_ss_gtt(H, taulist, c_ops, a.dag(), a.dag(), a, a, rho0=rho0)\n",
    "g2 = G2 / n**2"
   ]
  },
  {
   "cell_type": "code",
   "execution_count": null,
   "id": "0875ecb5",
   "metadata": {},
   "outputs": [],
   "source": [
    "fig, axes = plt.subplots(2, 1, sharex=True, figsize=(12, 6))\n",
    "\n",
    "axes[0].plot(\n",
    "    taulist, np.real(g2), \"b\",\n",
    "    label=r\"Second-order coherence function $g^{(2)}(\\tau)$\"\n",
    ")\n",
    "axes[1].plot(taulist, np.real(n), \"r\", label=r\"occupation number $n(\\tau)$\")\n",
    "axes[0].legend(loc=0)\n",
    "axes[1].legend()\n",
    "axes[1].set_xlabel(r\"$\\tau$\");"
   ]
  },
  {
   "cell_type": "markdown",
   "id": "b69fb402",
   "metadata": {},
   "source": [
    "## Leggett-Garg inequality\n",
    "\n",
    "Definition: Given an observable $Q(t)$ that is bound below and above by $|Q(t)| \\leq 1$, the assumptions of \n",
    "\n",
    " * macroscopic realism\n",
    " * noninvasive measurements\n",
    "\n",
    "implies that\n",
    "\n",
    "<center>\n",
    "$L(t_1, t_2) = \\langle Q(t_1)Q(0)\\rangle + \\langle Q(t_1+t_2)Q(t_1)\\rangle - \\langle Q(t_1+t_2)Q(0)\\rangle \\leq 1$\n",
    "</center>\n",
    "\n",
    "If $Q$ is at a steady state at the initial time of measurement, we can set $\\tau = t_1 = t_2$ and the Leggett-Garg inequality then reads\n",
    "\n",
    "<center>\n",
    "$L(\\tau) = 2\\langle Q(\\tau)Q(0)\\rangle - \\langle Q(2\\tau)Q(0)\\rangle \\leq 1$\n",
    "</center>\n",
    "\n",
    "\n",
    "### References\n",
    "\n",
    "* [A. J. Leggett and A. Garg, Phys. Rev. Lett. 54, 857 (1985)](http://dx.doi.org/10.1103/PhysRevLett.54.857)\n",
    "* [A. J. Leggett, J. Phys. Condens. Matter 14, R415 (2002)](http://dx.doi.org/10.1088/0953-8984/14/15/201)"
   ]
  },
  {
   "cell_type": "code",
   "execution_count": null,
   "id": "1d03cc5a",
   "metadata": {},
   "outputs": [],
   "source": [
    "def leggett_garg(c_mat):\n",
    "    \"\"\"\n",
    "    For a given correlation matrix c_mat = <Q(t1+t2)Q(t1)>,\n",
    "    calculate the Leggett-Garg correlation.\n",
    "    \"\"\"\n",
    "\n",
    "    N, M = c_mat.shape\n",
    "\n",
    "    lg_mat = np.zeros([N // 2, M // 2], dtype=complex)\n",
    "    lg_vec = np.zeros(N // 2, dtype=complex)\n",
    "\n",
    "    # c_mat(i, j) = <Q(dt i+dt j)Q(dt i)>\n",
    "    # LG = <Q(t_1)Q(0)> + <Q(t_1+t_2)Q(t_1)> - <Q(t_1+t_2)Q(0)>\n",
    "\n",
    "    for i in range(N // 2):\n",
    "        lg_vec[i] = 2 * c_mat[0, i] - c_mat[0, 2 * i]\n",
    "\n",
    "        for j in range(M // 2):\n",
    "            lg_mat[i, j] = c_mat[0, i] + c_mat[i, j] - c_mat[0, i + j]\n",
    "\n",
    "    return lg_mat, lg_vec"
   ]
  },
  {
   "cell_type": "markdown",
   "id": "a93aded6",
   "metadata": {},
   "source": [
    "### Example: Leggett-Garg inequality for two coupled resonators (optomechanical system)\n",
    "\n",
    "\n",
    "References:\n",
    "\n",
    " * [N. Lambert, J.R. Johansson, F. Nori, Phys. Rev. B 82, 245421 (2011)](http://dx.doi.org/10.1103/PhysRevB.84.245421)."
   ]
  },
  {
   "cell_type": "code",
   "execution_count": null,
   "id": "7592e74e",
   "metadata": {},
   "outputs": [],
   "source": [
    "wc = 1.0 * 2 * np.pi  # cavity frequency\n",
    "wa = 1.0 * 2 * np.pi  # resonator frequency\n",
    "g = 0.3 * 2 * np.pi  # coupling strength\n",
    "kappa = 0.075  # cavity dissipation rate\n",
    "gamma = 0.005  # resonator dissipation rate\n",
    "Na = Nc = 3  # number of cavity fock states\n",
    "n_th = 0.0  # avg number of thermal bath excitation\n",
    "\n",
    "tlist = np.linspace(0, 7.5, 251)\n",
    "tlist_sub = tlist[0:int((len(tlist) / 2))]"
   ]
  },
  {
   "cell_type": "code",
   "execution_count": null,
   "id": "ede667b4",
   "metadata": {},
   "outputs": [],
   "source": [
    "# start with an excited resonator\n",
    "rho0 = tensor(fock_dm(Na, 0), fock_dm(Nc, 1))\n",
    "\n",
    "a = tensor(qeye(Nc), destroy(Na))\n",
    "c = tensor(destroy(Nc), qeye(Na))\n",
    "\n",
    "na = a.dag() * a\n",
    "nc = c.dag() * c\n",
    "\n",
    "H = wa * na + wc * nc - g * (a + a.dag()) * (c + c.dag())"
   ]
  },
  {
   "cell_type": "code",
   "execution_count": null,
   "id": "b4231bac",
   "metadata": {},
   "outputs": [],
   "source": [
    "# measurement operator on resonator\n",
    "Q = na  # photon number resolving detector\n",
    "# fock-state |1> detector\n",
    "# Q = tensor(qeye(Nc), 2 * fock_dm(Na, 1) - qeye(Na))\n",
    "# click or no-click detector\n",
    "# Q = tensor(qeye(Nc), qeye(Na) - 2 * fock_dm(Na, 0))"
   ]
  },
  {
   "cell_type": "code",
   "execution_count": null,
   "id": "721bfeb1",
   "metadata": {},
   "outputs": [],
   "source": [
    "c_op_list = []\n",
    "\n",
    "rate = kappa * (1 + n_th)\n",
    "if rate > 0.0:\n",
    "    c_op_list.append(np.sqrt(rate) * c)\n",
    "\n",
    "rate = kappa * n_th\n",
    "if rate > 0.0:\n",
    "    c_op_list.append(np.sqrt(rate) * c.dag())\n",
    "\n",
    "rate = gamma * (1 + n_th)\n",
    "if rate > 0.0:\n",
    "    c_op_list.append(np.sqrt(rate) * a)\n",
    "\n",
    "rate = gamma * n_th\n",
    "if rate > 0.0:\n",
    "    c_op_list.append(np.sqrt(rate) * a.dag())"
   ]
  },
  {
   "cell_type": "markdown",
   "id": "3191bbc2",
   "metadata": {},
   "source": [
    "### Calculate the correlation function $\\langle Q(t_1+t_2)Q(t_1)\\rangle$\n",
    "\n",
    "Using the regression theorem, and QuTiP function `correlation`."
   ]
  },
  {
   "cell_type": "code",
   "execution_count": null,
   "id": "8a536249",
   "metadata": {},
   "outputs": [],
   "source": [
    "corr_mat = correlation(H, rho0, tlist, tlist, c_op_list, Q, Q)"
   ]
  },
  {
   "cell_type": "markdown",
   "id": "ef0804a9",
   "metadata": {},
   "source": [
    "### Calculate the Leggett-Garg correlation"
   ]
  },
  {
   "cell_type": "code",
   "execution_count": null,
   "id": "9a8f700c",
   "metadata": {},
   "outputs": [],
   "source": [
    "LG_tt, LG_t = leggett_garg(corr_mat)"
   ]
  },
  {
   "cell_type": "markdown",
   "id": "0ad99038",
   "metadata": {},
   "source": [
    "### Plot results"
   ]
  },
  {
   "cell_type": "code",
   "execution_count": null,
   "id": "083cec95",
   "metadata": {},
   "outputs": [],
   "source": [
    "fig, axes = plt.subplots(1, 2, figsize=(12, 4))\n",
    "\n",
    "axes[0].pcolor(tlist, tlist, abs(corr_mat), edgecolors=\"none\")\n",
    "axes[0].set_xlabel(r\"$t_1 + t_2$\")\n",
    "axes[0].set_ylabel(r\"$t_1$\")\n",
    "axes[0].autoscale(tight=True)\n",
    "\n",
    "axes[1].pcolor(tlist_sub, tlist_sub, abs(LG_tt), edgecolors=\"none\")\n",
    "axes[1].set_xlabel(r\"$t_1$\")\n",
    "axes[1].set_ylabel(r\"$t_2$\")\n",
    "axes[1].autoscale(tight=True)\n",
    "\n",
    "fig, axes = plt.subplots(1, 1, figsize=(12, 4))\n",
    "axes.plot(tlist_sub, np.diag(np.real(LG_tt)), label=r\"$\\tau = t_1 = t_2$\")\n",
    "axes.plot(tlist_sub, np.ones(tlist_sub.shape), \"k\", label=r\"quantum boundary\")\n",
    "axes.fill_between(\n",
    "    tlist_sub,\n",
    "    np.diag(np.real(LG_tt)),\n",
    "    1,\n",
    "    where=(np.diag(np.real(LG_tt)) > 1),\n",
    "    color=\"green\",\n",
    "    alpha=0.5,\n",
    ")\n",
    "axes.set_xlim([0, max(tlist_sub)])\n",
    "axes.legend(loc=0)\n",
    "axes.set_xlabel(r\"$\\tau$\", fontsize=18)\n",
    "axes.set_ylabel(r\"LG($\\tau$)\", fontsize=18);"
   ]
  },
  {
   "cell_type": "markdown",
   "id": "bbd2076f",
   "metadata": {},
   "source": [
    "### Software versions"
   ]
  },
  {
   "cell_type": "code",
   "execution_count": null,
   "id": "7b3d5995",
   "metadata": {},
   "outputs": [],
   "source": [
    "about()"
   ]
  }
 ],
 "metadata": {
  "jupytext": {
   "cell_metadata_filter": "-all",
   "notebook_metadata_filter": "-jupytext.cell_metadata_filter,-jupytext.notebook_metadata_filter"
  },
  "kernelspec": {
   "display_name": "Python 3 (ipykernel)",
   "language": "python",
   "name": "python3"
  }
 },
 "nbformat": 4,
 "nbformat_minor": 5
}
