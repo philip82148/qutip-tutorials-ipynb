{
 "cells": [
  {
   "cell_type": "markdown",
   "id": "0c74b6ef",
   "metadata": {},
   "source": [
    "# Lecture 2A - Simulation of a two-qubit gate using a resonator as coupler\n",
    "\n",
    "Author: J. R. Johansson (robert@riken.jp), https://jrjohansson.github.io/\n",
    "\n",
    "This lecture series was developed by J.R. Johannson. The original lecture notebooks are available [here](https://github.com/jrjohansson/qutip-lectures).\n",
    "\n",
    "This is a slightly modified version of the lectures, to work with the current release of QuTiP. You can find these lectures as a part of the [qutip-tutorials repository](https://github.com/qutip/qutip-tutorials). This lecture and other tutorial notebooks are indexed at the [QuTiP Tutorial webpage](https://qutip.org/tutorials.html)."
   ]
  },
  {
   "cell_type": "code",
   "execution_count": null,
   "id": "92fe563c",
   "metadata": {},
   "outputs": [],
   "source": [
    "import matplotlib.pyplot as plt\n",
    "import numpy as np\n",
    "from qutip import (about, basis, concurrence, destroy, expect, fidelity,\n",
    "                   ket2dm, mesolve, phasegate, ptrace, qeye, sigmaz, sqrtiswap,\n",
    "                   tensor)\n",
    "from scipy.special import sici\n",
    "\n",
    "%matplotlib inline"
   ]
  },
  {
   "cell_type": "markdown",
   "id": "b4aa9e3e",
   "metadata": {},
   "source": [
    "## Parameters"
   ]
  },
  {
   "cell_type": "code",
   "execution_count": null,
   "id": "50b68ef2",
   "metadata": {},
   "outputs": [],
   "source": [
    "N = 10\n",
    "\n",
    "wc = 5.0 * 2 * np.pi\n",
    "w1 = 3.0 * 2 * np.pi\n",
    "w2 = 2.0 * 2 * np.pi\n",
    "\n",
    "g1 = 0.01 * 2 * np.pi\n",
    "g2 = 0.0125 * 2 * np.pi\n",
    "\n",
    "tlist = np.linspace(0, 100, 500)\n",
    "\n",
    "width = 0.5\n",
    "\n",
    "# resonant SQRT iSWAP gate\n",
    "T0_1 = 20\n",
    "T_gate_1 = (1 * np.pi) / (4 * g1)\n",
    "\n",
    "# resonant iSWAP gate\n",
    "T0_2 = 60\n",
    "T_gate_2 = (2 * np.pi) / (4 * g2)"
   ]
  },
  {
   "cell_type": "markdown",
   "id": "818c080c",
   "metadata": {},
   "source": [
    "### Operators, Hamiltonian and initial state "
   ]
  },
  {
   "cell_type": "code",
   "execution_count": null,
   "id": "ba564a9e",
   "metadata": {},
   "outputs": [],
   "source": [
    "# cavity operators\n",
    "a = tensor(destroy(N), qeye(2), qeye(2))\n",
    "n = a.dag() * a\n",
    "\n",
    "# operators for qubit 1\n",
    "sm1 = tensor(qeye(N), destroy(2), qeye(2))\n",
    "sz1 = tensor(qeye(N), sigmaz(), qeye(2))\n",
    "n1 = sm1.dag() * sm1\n",
    "\n",
    "# oeprators for qubit 2\n",
    "sm2 = tensor(qeye(N), qeye(2), destroy(2))\n",
    "sz2 = tensor(qeye(N), qeye(2), sigmaz())\n",
    "n2 = sm2.dag() * sm2"
   ]
  },
  {
   "cell_type": "code",
   "execution_count": null,
   "id": "33447044",
   "metadata": {},
   "outputs": [],
   "source": [
    "# Hamiltonian using QuTiP\n",
    "Hc = a.dag() * a\n",
    "H1 = -0.5 * sz1\n",
    "H2 = -0.5 * sz2\n",
    "Hc1 = g1 * (a.dag() * sm1 + a * sm1.dag())\n",
    "Hc2 = g2 * (a.dag() * sm2 + a * sm2.dag())\n",
    "\n",
    "H = wc * Hc + w1 * H1 + w2 * H2 + Hc1 + Hc2"
   ]
  },
  {
   "cell_type": "code",
   "execution_count": null,
   "id": "e90f973c",
   "metadata": {},
   "outputs": [],
   "source": [
    "H"
   ]
  },
  {
   "cell_type": "code",
   "execution_count": null,
   "id": "4823ff5e",
   "metadata": {},
   "outputs": [],
   "source": [
    "# initial state: start with one of the qubits in its excited state\n",
    "psi0 = tensor(basis(N, 0), basis(2, 1), basis(2, 0))"
   ]
  },
  {
   "cell_type": "markdown",
   "id": "7173ee6a",
   "metadata": {},
   "source": [
    "# Ideal two-qubit iSWAP gate"
   ]
  },
  {
   "cell_type": "code",
   "execution_count": null,
   "id": "38e55f76",
   "metadata": {},
   "outputs": [],
   "source": [
    "def step_t(w1, w2, t0, width, t):\n",
    "    \"\"\"\n",
    "    Step function that goes from w1 to w2 at time t0\n",
    "    as a function of t.\n",
    "    \"\"\"\n",
    "    return w1 + (w2 - w1) * (t > t0)\n",
    "\n",
    "\n",
    "fig, axes = plt.subplots(1, 1, figsize=(8, 2))\n",
    "axes.plot(tlist, [step_t(0.5, 1.5, 50, 0.0, t) for t in tlist], \"k\")\n",
    "axes.set_ylim(0, 2)\n",
    "fig.tight_layout()"
   ]
  },
  {
   "cell_type": "code",
   "execution_count": null,
   "id": "7e9092a6",
   "metadata": {},
   "outputs": [],
   "source": [
    "def wc_t(t, args=None):\n",
    "    return wc\n",
    "\n",
    "\n",
    "def w1_t(t, args=None):\n",
    "    return (\n",
    "        w1\n",
    "        + step_t(0.0, wc - w1, T0_1, width, t)\n",
    "        - step_t(0.0, wc - w1, T0_1 + T_gate_1, width, t)\n",
    "    )\n",
    "\n",
    "\n",
    "def w2_t(t, args=None):\n",
    "    return (\n",
    "        w2\n",
    "        + step_t(0.0, wc - w2, T0_2, width, t)\n",
    "        - step_t(0.0, wc - w2, T0_2 + T_gate_2, width, t)\n",
    "    )\n",
    "\n",
    "\n",
    "H_t = [[Hc, wc_t], [H1, w1_t], [H2, w2_t], Hc1 + Hc2]"
   ]
  },
  {
   "cell_type": "markdown",
   "id": "f5f12bf8",
   "metadata": {},
   "source": [
    "### Evolve the system"
   ]
  },
  {
   "cell_type": "code",
   "execution_count": null,
   "id": "6b62d2f8",
   "metadata": {},
   "outputs": [],
   "source": [
    "res = mesolve(H_t, psi0, tlist, [], [])"
   ]
  },
  {
   "cell_type": "markdown",
   "id": "c51c2669",
   "metadata": {},
   "source": [
    "### Plot the results"
   ]
  },
  {
   "cell_type": "code",
   "execution_count": null,
   "id": "f3be133d",
   "metadata": {},
   "outputs": [],
   "source": [
    "fig, axes = plt.subplots(2, 1, sharex=True, figsize=(12, 8))\n",
    "\n",
    "axes[0].plot(\n",
    "    tlist,\n",
    "    np.array(list(map(wc_t, tlist))) / (2 * np.pi),\n",
    "    \"r\",\n",
    "    linewidth=2,\n",
    "    label=\"cavity\",\n",
    ")\n",
    "axes[0].plot(\n",
    "    tlist,\n",
    "    np.array(list(map(w1_t, tlist))) / (2 * np.pi),\n",
    "    \"b\",\n",
    "    linewidth=2,\n",
    "    label=\"qubit 1\",\n",
    ")\n",
    "axes[0].plot(\n",
    "    tlist,\n",
    "    np.array(list(map(w2_t, tlist))) / (2 * np.pi),\n",
    "    \"g\",\n",
    "    linewidth=2,\n",
    "    label=\"qubit 2\",\n",
    ")\n",
    "axes[0].set_ylim(1, 6)\n",
    "axes[0].set_ylabel(\"Energy (GHz)\", fontsize=16)\n",
    "axes[0].legend()\n",
    "\n",
    "axes[1].plot(tlist, np.real(expect(n, res.states)), \"r\",\n",
    "             linewidth=2, label=\"cavity\")\n",
    "axes[1].plot(tlist, np.real(expect(n1, res.states)), \"b\",\n",
    "             linewidth=2, label=\"qubit 1\")\n",
    "axes[1].plot(tlist, np.real(expect(n2, res.states)), \"g\",\n",
    "             linewidth=2, label=\"qubit 2\")\n",
    "axes[1].set_ylim(0, 1)\n",
    "\n",
    "axes[1].set_xlabel(\"Time (ns)\", fontsize=16)\n",
    "axes[1].set_ylabel(\"Occupation probability\", fontsize=16)\n",
    "axes[1].legend()\n",
    "\n",
    "fig.tight_layout()"
   ]
  },
  {
   "cell_type": "markdown",
   "id": "805c5519",
   "metadata": {},
   "source": [
    "### Inspect the final state"
   ]
  },
  {
   "cell_type": "code",
   "execution_count": null,
   "id": "292461ab",
   "metadata": {},
   "outputs": [],
   "source": [
    "# extract the final state from the result of the simulation\n",
    "rho_final = res.states[-1]"
   ]
  },
  {
   "cell_type": "code",
   "execution_count": null,
   "id": "4c9ef16d",
   "metadata": {},
   "outputs": [],
   "source": [
    "# trace out the resonator mode and print the two-qubit density matrix\n",
    "rho_qubits = ptrace(rho_final, [1, 2])\n",
    "rho_qubits"
   ]
  },
  {
   "cell_type": "code",
   "execution_count": null,
   "id": "39e7ed1b",
   "metadata": {},
   "outputs": [],
   "source": [
    "# compare to the ideal result of the sqrtiswap gate (plus phase correction)\n",
    "# for the current initial state\n",
    "rho_qubits_ideal = ket2dm(\n",
    "    tensor(phasegate(0), phasegate(-np.pi / 2))\n",
    "    * sqrtiswap()\n",
    "    * tensor(basis(2, 1), basis(2, 0))\n",
    ")\n",
    "rho_qubits_ideal"
   ]
  },
  {
   "cell_type": "markdown",
   "id": "f8af2007",
   "metadata": {},
   "source": [
    "### Fidelity and concurrence"
   ]
  },
  {
   "cell_type": "code",
   "execution_count": null,
   "id": "4e100e63",
   "metadata": {},
   "outputs": [],
   "source": [
    "fidelity(rho_qubits, rho_qubits_ideal)"
   ]
  },
  {
   "cell_type": "code",
   "execution_count": null,
   "id": "8e57d76a",
   "metadata": {},
   "outputs": [],
   "source": [
    "concurrence(rho_qubits)"
   ]
  },
  {
   "cell_type": "markdown",
   "id": "cb406f4e",
   "metadata": {},
   "source": [
    "# Dissipative two-qubit iSWAP gate"
   ]
  },
  {
   "cell_type": "markdown",
   "id": "6fb2ecf6",
   "metadata": {},
   "source": [
    "### Define collapse operators that describe dissipation\n",
    "\n"
   ]
  },
  {
   "cell_type": "code",
   "execution_count": null,
   "id": "add8e7ca",
   "metadata": {},
   "outputs": [],
   "source": [
    "kappa = 0.0001\n",
    "gamma1 = 0.005\n",
    "gamma2 = 0.005\n",
    "\n",
    "c_ops = [np.sqrt(kappa) * a, np.sqrt(gamma1) * sm1, np.sqrt(gamma2) * sm2]"
   ]
  },
  {
   "cell_type": "markdown",
   "id": "fae34035",
   "metadata": {},
   "source": [
    "### Evolve the system"
   ]
  },
  {
   "cell_type": "code",
   "execution_count": null,
   "id": "feb07621",
   "metadata": {},
   "outputs": [],
   "source": [
    "res = mesolve(H_t, psi0, tlist, c_ops, [])"
   ]
  },
  {
   "cell_type": "markdown",
   "id": "028a6845",
   "metadata": {},
   "source": [
    "### Plot the results"
   ]
  },
  {
   "cell_type": "code",
   "execution_count": null,
   "id": "20e518b2",
   "metadata": {},
   "outputs": [],
   "source": [
    "fig, axes = plt.subplots(2, 1, sharex=True, figsize=(12, 8))\n",
    "\n",
    "axes[0].plot(\n",
    "    tlist,\n",
    "    np.array(list(map(wc_t, tlist))) / (2 * np.pi),\n",
    "    \"r\",\n",
    "    linewidth=2,\n",
    "    label=\"cavity\",\n",
    ")\n",
    "axes[0].plot(\n",
    "    tlist,\n",
    "    np.array(list(map(w1_t, tlist))) / (2 * np.pi),\n",
    "    \"b\",\n",
    "    linewidth=2,\n",
    "    label=\"qubit 1\",\n",
    ")\n",
    "axes[0].plot(\n",
    "    tlist,\n",
    "    np.array(list(map(w2_t, tlist))) / (2 * np.pi),\n",
    "    \"g\",\n",
    "    linewidth=2,\n",
    "    label=\"qubit 2\",\n",
    ")\n",
    "axes[0].set_ylim(1, 6)\n",
    "axes[0].set_ylabel(\"Energy (GHz)\", fontsize=16)\n",
    "axes[0].legend()\n",
    "\n",
    "axes[1].plot(tlist, np.real(expect(n, res.states)), \"r\", linewidth=2,\n",
    "             label=\"cavity\")\n",
    "axes[1].plot(tlist, np.real(expect(n1, res.states)), \"b\", linewidth=2,\n",
    "             label=\"qubit 1\")\n",
    "axes[1].plot(tlist, np.real(expect(n2, res.states)), \"g\", linewidth=2,\n",
    "             label=\"qubit 2\")\n",
    "axes[1].set_ylim(0, 1)\n",
    "\n",
    "axes[1].set_xlabel(\"Time (ns)\", fontsize=16)\n",
    "axes[1].set_ylabel(\"Occupation probability\", fontsize=16)\n",
    "axes[1].legend()\n",
    "\n",
    "fig.tight_layout()"
   ]
  },
  {
   "cell_type": "markdown",
   "id": "6ee892b0",
   "metadata": {},
   "source": [
    "### Fidelity and concurrence"
   ]
  },
  {
   "cell_type": "code",
   "execution_count": null,
   "id": "5a44c61d",
   "metadata": {},
   "outputs": [],
   "source": [
    "rho_final = res.states[-1]\n",
    "rho_qubits = ptrace(rho_final, [1, 2])"
   ]
  },
  {
   "cell_type": "code",
   "execution_count": null,
   "id": "40aec94a",
   "metadata": {},
   "outputs": [],
   "source": [
    "fidelity(rho_qubits, rho_qubits_ideal)"
   ]
  },
  {
   "cell_type": "code",
   "execution_count": null,
   "id": "fa10b6fc",
   "metadata": {},
   "outputs": [],
   "source": [
    "concurrence(rho_qubits)"
   ]
  },
  {
   "cell_type": "markdown",
   "id": "ff9ba86e",
   "metadata": {},
   "source": [
    "# Two-qubit iSWAP gate: Finite pulse rise time"
   ]
  },
  {
   "cell_type": "code",
   "execution_count": null,
   "id": "9ef68b46",
   "metadata": {},
   "outputs": [],
   "source": [
    "def step_t(w1, w2, t0, width, t):\n",
    "    \"\"\"\n",
    "    Step function that goes from w1 to w2 at time t0\n",
    "    as a function of t, with finite rise time defined\n",
    "    by the parameter width.\n",
    "    \"\"\"\n",
    "    return w1 + (w2 - w1) / (1 + np.exp(-(t - t0) / width))\n",
    "\n",
    "\n",
    "fig, axes = plt.subplots(1, 1, figsize=(8, 2))\n",
    "axes.plot(tlist, [step_t(0.5, 1.5, 50, width, t) for t in tlist], \"k\")\n",
    "axes.set_ylim(0, 2)\n",
    "fig.tight_layout()"
   ]
  },
  {
   "cell_type": "markdown",
   "id": "e4d1cece",
   "metadata": {},
   "source": [
    "### Evolve the system"
   ]
  },
  {
   "cell_type": "code",
   "execution_count": null,
   "id": "cbe7a0be",
   "metadata": {},
   "outputs": [],
   "source": [
    "res = mesolve(H_t, psi0, tlist, [], [])"
   ]
  },
  {
   "cell_type": "markdown",
   "id": "075209a6",
   "metadata": {},
   "source": [
    "### Plot the results"
   ]
  },
  {
   "cell_type": "code",
   "execution_count": null,
   "id": "f9f455f9",
   "metadata": {},
   "outputs": [],
   "source": [
    "fig, axes = plt.subplots(2, 1, sharex=True, figsize=(12, 8))\n",
    "\n",
    "axes[0].plot(\n",
    "    tlist,\n",
    "    np.array(list(map(wc_t, tlist))) / (2 * np.pi),\n",
    "    \"r\",\n",
    "    linewidth=2,\n",
    "    label=\"cavity\",\n",
    ")\n",
    "axes[0].plot(\n",
    "    tlist,\n",
    "    np.array(list(map(w1_t, tlist))) / (2 * np.pi),\n",
    "    \"b\",\n",
    "    linewidth=2,\n",
    "    label=\"qubit 1\",\n",
    ")\n",
    "axes[0].plot(\n",
    "    tlist,\n",
    "    np.array(list(map(w2_t, tlist))) / (2 * np.pi),\n",
    "    \"g\",\n",
    "    linewidth=2,\n",
    "    label=\"qubit 2\",\n",
    ")\n",
    "axes[0].set_ylim(1, 6)\n",
    "axes[0].set_ylabel(\"Energy (GHz)\", fontsize=16)\n",
    "axes[0].legend()\n",
    "\n",
    "axes[1].plot(tlist, np.real(expect(n, res.states)), \"r\", linewidth=2,\n",
    "             label=\"cavity\")\n",
    "axes[1].plot(tlist, np.real(expect(n1, res.states)), \"b\", linewidth=2,\n",
    "             label=\"qubit 1\")\n",
    "axes[1].plot(tlist, np.real(expect(n2, res.states)), \"g\", linewidth=2,\n",
    "             label=\"qubit 2\")\n",
    "axes[1].set_ylim(0, 1)\n",
    "\n",
    "axes[1].set_xlabel(\"Time (ns)\", fontsize=16)\n",
    "axes[1].set_ylabel(\"Occupation probability\", fontsize=16)\n",
    "axes[1].legend()\n",
    "\n",
    "fig.tight_layout()"
   ]
  },
  {
   "cell_type": "markdown",
   "id": "060a0304",
   "metadata": {},
   "source": [
    "### Fidelity and concurrence"
   ]
  },
  {
   "cell_type": "code",
   "execution_count": null,
   "id": "2b63a761",
   "metadata": {},
   "outputs": [],
   "source": [
    "rho_final = res.states[-1]\n",
    "rho_qubits = ptrace(rho_final, [1, 2])"
   ]
  },
  {
   "cell_type": "code",
   "execution_count": null,
   "id": "7ff927c1",
   "metadata": {},
   "outputs": [],
   "source": [
    "fidelity(rho_qubits, rho_qubits_ideal)"
   ]
  },
  {
   "cell_type": "code",
   "execution_count": null,
   "id": "654583af",
   "metadata": {},
   "outputs": [],
   "source": [
    "concurrence(rho_qubits)"
   ]
  },
  {
   "cell_type": "markdown",
   "id": "5128d410",
   "metadata": {},
   "source": [
    "# Two-qubit iSWAP gate: Finite rise time with overshoot"
   ]
  },
  {
   "cell_type": "code",
   "execution_count": null,
   "id": "f8a391ab",
   "metadata": {},
   "outputs": [],
   "source": [
    "def step_t(w1, w2, t0, width, t):\n",
    "    \"\"\"\n",
    "    Step function that goes from w1 to w2 at time t0\n",
    "    as a function of t, with finite rise time and\n",
    "    and overshoot defined by the parameter width.\n",
    "    \"\"\"\n",
    "\n",
    "    return w1 + (w2 - w1) * (0.5 + sici((t - t0) / width)[0] / (np.pi))\n",
    "\n",
    "\n",
    "fig, axes = plt.subplots(1, 1, figsize=(8, 2))\n",
    "axes.plot(tlist, [step_t(0.5, 1.5, 50, width, t) for t in tlist], \"k\")\n",
    "axes.set_ylim(0, 2)\n",
    "fig.tight_layout()"
   ]
  },
  {
   "cell_type": "markdown",
   "id": "d507c32b",
   "metadata": {},
   "source": [
    "### Evolve the system"
   ]
  },
  {
   "cell_type": "code",
   "execution_count": null,
   "id": "1306057f",
   "metadata": {},
   "outputs": [],
   "source": [
    "res = mesolve(H_t, psi0, tlist, [], [])"
   ]
  },
  {
   "cell_type": "markdown",
   "id": "464cf0a4",
   "metadata": {},
   "source": [
    "### Plot the results"
   ]
  },
  {
   "cell_type": "code",
   "execution_count": null,
   "id": "ace46f9f",
   "metadata": {},
   "outputs": [],
   "source": [
    "fig, axes = plt.subplots(2, 1, sharex=True, figsize=(12, 8))\n",
    "\n",
    "axes[0].plot(\n",
    "    tlist,\n",
    "    np.array(list(map(wc_t, tlist))) / (2 * np.pi),\n",
    "    \"r\",\n",
    "    linewidth=2,\n",
    "    label=\"cavity\",\n",
    ")\n",
    "axes[0].plot(\n",
    "    tlist,\n",
    "    np.array(list(map(w1_t, tlist))) / (2 * np.pi),\n",
    "    \"b\",\n",
    "    linewidth=2,\n",
    "    label=\"qubit 1\",\n",
    ")\n",
    "axes[0].plot(\n",
    "    tlist,\n",
    "    np.array(list(map(w2_t, tlist))) / (2 * np.pi),\n",
    "    \"g\",\n",
    "    linewidth=2,\n",
    "    label=\"qubit 2\",\n",
    ")\n",
    "axes[0].set_ylim(1, 6)\n",
    "axes[0].set_ylabel(\"Energy (GHz)\", fontsize=16)\n",
    "axes[0].legend()\n",
    "\n",
    "axes[1].plot(tlist, np.real(expect(n, res.states)), \"r\", linewidth=2,\n",
    "             label=\"cavity\")\n",
    "axes[1].plot(tlist, np.real(expect(n1, res.states)), \"b\", linewidth=2,\n",
    "             label=\"qubit 1\")\n",
    "axes[1].plot(tlist, np.real(expect(n2, res.states)), \"g\", linewidth=2,\n",
    "             label=\"qubit 2\")\n",
    "axes[1].set_ylim(0, 1)\n",
    "\n",
    "axes[1].set_xlabel(\"Time (ns)\", fontsize=16)\n",
    "axes[1].set_ylabel(\"Occupation probability\", fontsize=16)\n",
    "axes[1].legend()\n",
    "\n",
    "fig.tight_layout()"
   ]
  },
  {
   "cell_type": "markdown",
   "id": "f61bfe14",
   "metadata": {},
   "source": [
    "### Fidelity and concurrence"
   ]
  },
  {
   "cell_type": "code",
   "execution_count": null,
   "id": "fb048534",
   "metadata": {},
   "outputs": [],
   "source": [
    "rho_final = res.states[-1]\n",
    "rho_qubits = ptrace(rho_final, [1, 2])"
   ]
  },
  {
   "cell_type": "code",
   "execution_count": null,
   "id": "23d0ab97",
   "metadata": {},
   "outputs": [],
   "source": [
    "fidelity(rho_qubits, rho_qubits_ideal)"
   ]
  },
  {
   "cell_type": "code",
   "execution_count": null,
   "id": "d22a1539",
   "metadata": {},
   "outputs": [],
   "source": [
    "concurrence(rho_qubits)"
   ]
  },
  {
   "cell_type": "markdown",
   "id": "e38b0022",
   "metadata": {},
   "source": [
    "# Two-qubit iSWAP gate: Finite pulse rise time and dissipation"
   ]
  },
  {
   "cell_type": "code",
   "execution_count": null,
   "id": "da6ea7fe",
   "metadata": {},
   "outputs": [],
   "source": [
    "# increase the pulse rise time a bit\n",
    "width = 0.6\n",
    "\n",
    "# high-Q resonator but dissipative qubits\n",
    "kappa = 0.00001\n",
    "gamma1 = 0.005\n",
    "gamma2 = 0.005\n",
    "\n",
    "c_ops = [np.sqrt(kappa) * a, np.sqrt(gamma1) * sm1, np.sqrt(gamma2) * sm2]"
   ]
  },
  {
   "cell_type": "markdown",
   "id": "f67cfd09",
   "metadata": {},
   "source": [
    "### Evolve the system"
   ]
  },
  {
   "cell_type": "code",
   "execution_count": null,
   "id": "6f2b37db",
   "metadata": {},
   "outputs": [],
   "source": [
    "res = mesolve(H_t, psi0, tlist, c_ops, [])"
   ]
  },
  {
   "cell_type": "markdown",
   "id": "ac718d85",
   "metadata": {},
   "source": [
    "### Plot results"
   ]
  },
  {
   "cell_type": "code",
   "execution_count": null,
   "id": "88650723",
   "metadata": {},
   "outputs": [],
   "source": [
    "fig, axes = plt.subplots(2, 1, sharex=True, figsize=(12, 8))\n",
    "\n",
    "axes[0].plot(\n",
    "    tlist,\n",
    "    np.array(list(map(wc_t, tlist))) / (2 * np.pi),\n",
    "    \"r\",\n",
    "    linewidth=2,\n",
    "    label=\"cavity\",\n",
    ")\n",
    "axes[0].plot(\n",
    "    tlist,\n",
    "    np.array(list(map(w1_t, tlist))) / (2 * np.pi),\n",
    "    \"b\",\n",
    "    linewidth=2,\n",
    "    label=\"qubit 1\",\n",
    ")\n",
    "axes[0].plot(\n",
    "    tlist,\n",
    "    np.array(list(map(w2_t, tlist))) / (2 * np.pi),\n",
    "    \"g\",\n",
    "    linewidth=2,\n",
    "    label=\"qubit 2\",\n",
    ")\n",
    "axes[0].set_ylim(1, 6)\n",
    "axes[0].set_ylabel(\"Energy (GHz)\", fontsize=16)\n",
    "axes[0].legend()\n",
    "\n",
    "axes[1].plot(tlist, np.real(expect(n, res.states)), \"r\", linewidth=2,\n",
    "             label=\"cavity\")\n",
    "axes[1].plot(tlist, np.real(expect(n1, res.states)), \"b\", linewidth=2,\n",
    "             label=\"qubit 1\")\n",
    "axes[1].plot(tlist, np.real(expect(n2, res.states)), \"g\", linewidth=2,\n",
    "             label=\"qubit 2\")\n",
    "axes[1].set_ylim(0, 1)\n",
    "\n",
    "axes[1].set_xlabel(\"Time (ns)\", fontsize=16)\n",
    "axes[1].set_ylabel(\"Occupation probability\", fontsize=16)\n",
    "axes[1].legend()\n",
    "\n",
    "fig.tight_layout()"
   ]
  },
  {
   "cell_type": "markdown",
   "id": "f0f4cd84",
   "metadata": {},
   "source": [
    "### Fidelity and concurrence"
   ]
  },
  {
   "cell_type": "code",
   "execution_count": null,
   "id": "c9576e04",
   "metadata": {},
   "outputs": [],
   "source": [
    "rho_final = res.states[-1]\n",
    "rho_qubits = ptrace(rho_final, [1, 2])"
   ]
  },
  {
   "cell_type": "code",
   "execution_count": null,
   "id": "4231fc39",
   "metadata": {},
   "outputs": [],
   "source": [
    "fidelity(rho_qubits, rho_qubits_ideal)"
   ]
  },
  {
   "cell_type": "code",
   "execution_count": null,
   "id": "e3aebd19",
   "metadata": {},
   "outputs": [],
   "source": [
    "concurrence(rho_qubits)"
   ]
  },
  {
   "cell_type": "markdown",
   "id": "3e9b0093",
   "metadata": {},
   "source": [
    "# Two-qubit iSWAP gate: Using tunable resonator and fixed-frequency qubits"
   ]
  },
  {
   "cell_type": "code",
   "execution_count": null,
   "id": "9ff98267",
   "metadata": {},
   "outputs": [],
   "source": [
    "# reduce the rise time\n",
    "width = 0.25\n",
    "\n",
    "\n",
    "def wc_t(t, args=None):\n",
    "    return (\n",
    "        wc\n",
    "        - step_t(0.0, wc - w1, T0_1, width, t)\n",
    "        + step_t(0.0, wc - w1, T0_1 + T_gate_1, width, t)\n",
    "        - step_t(0.0, wc - w2, T0_2, width, t)\n",
    "        + step_t(0.0, wc - w2, T0_2 + T_gate_2, width, t)\n",
    "    )\n",
    "\n",
    "\n",
    "H_t = [[Hc, wc_t], H1 * w1 + H2 * w2 + Hc1 + Hc2]"
   ]
  },
  {
   "cell_type": "markdown",
   "id": "dca01abe",
   "metadata": {},
   "source": [
    "### Evolve the system"
   ]
  },
  {
   "cell_type": "code",
   "execution_count": null,
   "id": "d72ba97b",
   "metadata": {},
   "outputs": [],
   "source": [
    "res = mesolve(H_t, psi0, tlist, c_ops, [])"
   ]
  },
  {
   "cell_type": "markdown",
   "id": "f8410e01",
   "metadata": {},
   "source": [
    "### Plot the results"
   ]
  },
  {
   "cell_type": "code",
   "execution_count": null,
   "id": "264c104a",
   "metadata": {},
   "outputs": [],
   "source": [
    "fig, axes = plt.subplots(2, 1, sharex=True, figsize=(12, 8))\n",
    "\n",
    "axes[0].plot(\n",
    "    tlist,\n",
    "    np.array(list(map(wc_t, tlist))) / (2 * np.pi),\n",
    "    \"r\",\n",
    "    linewidth=2,\n",
    "    label=\"cavity\",\n",
    ")\n",
    "axes[0].plot(\n",
    "    tlist,\n",
    "    np.array(list(map(w1_t, tlist))) / (2 * np.pi),\n",
    "    \"b\",\n",
    "    linewidth=2,\n",
    "    label=\"qubit 1\",\n",
    ")\n",
    "axes[0].plot(\n",
    "    tlist,\n",
    "    np.array(list(map(w2_t, tlist))) / (2 * np.pi),\n",
    "    \"g\",\n",
    "    linewidth=2,\n",
    "    label=\"qubit 2\",\n",
    ")\n",
    "axes[0].set_ylim(1, 6)\n",
    "axes[0].set_ylabel(\"Energy (GHz)\", fontsize=16)\n",
    "axes[0].legend()\n",
    "\n",
    "axes[1].plot(tlist, np.real(expect(n, res.states)), \"r\", linewidth=2,\n",
    "             label=\"cavity\")\n",
    "axes[1].plot(tlist, np.real(expect(n1, res.states)), \"b\", linewidth=2,\n",
    "             label=\"qubit 1\")\n",
    "axes[1].plot(tlist, np.real(expect(n2, res.states)), \"g\", linewidth=2,\n",
    "             label=\"qubit 2\")\n",
    "axes[1].set_ylim(0, 1)\n",
    "\n",
    "axes[1].set_xlabel(\"Time (ns)\", fontsize=16)\n",
    "axes[1].set_ylabel(\"Occupation probability\", fontsize=16)\n",
    "axes[1].legend()\n",
    "\n",
    "fig.tight_layout()"
   ]
  },
  {
   "cell_type": "markdown",
   "id": "24ec8a9c",
   "metadata": {},
   "source": [
    "### Fidelity and concurrence"
   ]
  },
  {
   "cell_type": "code",
   "execution_count": null,
   "id": "4da19db8",
   "metadata": {},
   "outputs": [],
   "source": [
    "rho_final = res.states[-1]\n",
    "rho_qubits = ptrace(rho_final, [1, 2])"
   ]
  },
  {
   "cell_type": "code",
   "execution_count": null,
   "id": "2a03210c",
   "metadata": {},
   "outputs": [],
   "source": [
    "fidelity(rho_qubits, rho_qubits_ideal)"
   ]
  },
  {
   "cell_type": "code",
   "execution_count": null,
   "id": "cfab0f83",
   "metadata": {},
   "outputs": [],
   "source": [
    "concurrence(rho_qubits)"
   ]
  },
  {
   "cell_type": "markdown",
   "id": "38eb0992",
   "metadata": {},
   "source": [
    "### Software versions"
   ]
  },
  {
   "cell_type": "code",
   "execution_count": null,
   "id": "747483c3",
   "metadata": {},
   "outputs": [],
   "source": [
    "about()"
   ]
  }
 ],
 "metadata": {
  "jupytext": {
   "cell_metadata_filter": "-all",
   "notebook_metadata_filter": "-jupytext.cell_metadata_filter,-jupytext.notebook_metadata_filter"
  },
  "kernelspec": {
   "display_name": "Python 3 (ipykernel)",
   "language": "python",
   "name": "python3"
  }
 },
 "nbformat": 4,
 "nbformat_minor": 5
}
