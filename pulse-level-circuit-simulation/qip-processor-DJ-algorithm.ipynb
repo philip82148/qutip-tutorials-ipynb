{
 "cells": [
  {
   "cell_type": "code",
   "execution_count": null,
   "id": "ccc567c1",
   "metadata": {},
   "outputs": [],
   "source": [
    "!pip3 install qutip==4.7.3 qutip-qip==0.3.0 numpy==1.25.2 scipy==1.11.2 matplotlib==3.5.2 jupytext==1.13.8 black==22.3.0 flake8==4.0.1 nbqa==1.3.1 isort==5.10.1"
   ]
  },
  {
   "cell_type": "markdown",
   "id": "3f3e13fa",
   "metadata": {},
   "source": [
    "# Simulating the Deutsch–Jozsa algorithm at the pulse level"
   ]
  },
  {
   "cell_type": "markdown",
   "id": "4b391454",
   "metadata": {},
   "source": [
    "Author: Boxi Li (etamin1201@gmail.com)"
   ]
  },
  {
   "cell_type": "markdown",
   "id": "2d0f0f52",
   "metadata": {},
   "source": [
    "In this example, we demonstrate how to simulate simple quantum algorithms on a qauntum hardware with QuTiP. The simulators are defined in the class `Processor`(and its sub-classes). `Processor` represents a general quantum device. The interaction of the quantum systems such as qubits is defined by the control Hamiltonian. For a general introduction of pulse-level simulation, please refer to [the user guide](https://qutip-qip.readthedocs.io/en/stable/qip-processor.html).\n",
    "\n",
    "In the following, we compile a simple three-qubit quantum circuit into control pulses on different Hamiltonian model.\n",
    "\n",
    "## The Deutsch–Jozsa algorithm\n",
    "The Deutsch–Jozsa algorithm is the simplest quantum algorithm that offers an exponential speed-up compared to the classical one. It assumes that we have a function $f:\\{0,1\\}^n \\rightarrow \\{0,1\\}$ which is either balanced or constant. Constant means that $f(x)$ is either 1 or 0 for all inputs while balanced means that $f(x)$ is 1 for half of the input domain and 0 for the other half. A more rigorous definition can be found at https://en.wikipedia.org/wiki/Deutsch-Jozsa_algorithm.\n",
    "\n",
    "The implementation of the Deutsch–Jozsa algorithm includes $n$ input qubits and 1 ancilla initialised in state $1$. At the end of the algorithm, the first $n$ qubits are measured on the computational basis. If the function is constant, the result will be $0$ for all $n$ qubits. If balanced, $\\left|00...0\\right\\rangle$ will never be measured.\n",
    "The following example is implemented for the balanced function $f:\\{00,01,10,11\\} \\rightarrow \\{0,1\\}$, where $f(00)=f(11)=0$ and $f(01)=f(10)=1$. This function is balanced, so the probability of measuring state $\\left|00\\right\\rangle$ should be 0."
   ]
  },
  {
   "cell_type": "code",
   "execution_count": null,
   "id": "e1b284ac",
   "metadata": {},
   "outputs": [],
   "source": [
    "import numpy as np\n",
    "from qutip import basis, ptrace\n",
    "from qutip_qip.circuit import QubitCircuit\n",
    "from qutip_qip.device import (LinearSpinChain, OptPulseProcessor, SCQubits,\n",
    "                              SpinChainModel)\n",
    "from qutip.ipynbtools import version_table\n",
    "import qutip_qip"
   ]
  },
  {
   "cell_type": "code",
   "execution_count": null,
   "id": "8d6c13e4",
   "metadata": {},
   "outputs": [],
   "source": [
    "qc = QubitCircuit(N=3)\n",
    "qc.add_gate(\"X\", targets=2)\n",
    "qc.add_gate(\"SNOT\", targets=0)\n",
    "qc.add_gate(\"SNOT\", targets=1)\n",
    "qc.add_gate(\"SNOT\", targets=2)\n",
    "\n",
    "# function f(x)\n",
    "qc.add_gate(\"CNOT\", controls=0, targets=2)\n",
    "qc.add_gate(\"CNOT\", controls=1, targets=2)\n",
    "\n",
    "qc.add_gate(\"SNOT\", targets=0)\n",
    "qc.add_gate(\"SNOT\", targets=1)"
   ]
  },
  {
   "cell_type": "code",
   "execution_count": null,
   "id": "4528f7c2",
   "metadata": {},
   "outputs": [],
   "source": [
    "qc"
   ]
  },
  {
   "cell_type": "markdown",
   "id": "800d81a9",
   "metadata": {},
   "source": [
    "## Using the spin chain model\n",
    "First, we simulate the quantum circuit using the Hamiltonian model `LinearSpinChain`. The control Hamiltonians are defined in [`SpinChainModel`](https://qutip-qip.readthedocs.io/en/stable/apidoc/qutip_qip.device.html#qutip_qip.device.SpinChainModel)."
   ]
  },
  {
   "cell_type": "code",
   "execution_count": null,
   "id": "27684828",
   "metadata": {},
   "outputs": [],
   "source": [
    "processor = LinearSpinChain(3)\n",
    "processor.load_circuit(qc);"
   ]
  },
  {
   "cell_type": "markdown",
   "id": "ca5fd08f",
   "metadata": {},
   "source": [
    "To quickly visualize the pulse, `Processor` has a method called `plot_pulses`. In the figure bellow, each colour represents the pulse sequence of one control Hamiltonian in the system as a function of time. In each time interval, the pulse remains constant."
   ]
  },
  {
   "cell_type": "code",
   "execution_count": null,
   "id": "7183dff5",
   "metadata": {},
   "outputs": [],
   "source": [
    "processor.plot_pulses(title=\"Control pulse of Spin chain\",\n",
    "                      figsize=(8, 4), dpi=100);"
   ]
  },
  {
   "cell_type": "markdown",
   "id": "35ce87a8",
   "metadata": {},
   "source": [
    "Because for the spin chain model interaction only exists between neighbouring qubits, SWAP gates are added between and after the first CNOT gate, swapping the first two qubits. The SWAP gate is decomposed into three iSWAP gates, while the CNOT is decomposed into two iSWAP gates plus additional single-qubit corrections. Both the Hadamard gate and the two-qubit gates need to be decomposed to native gates (iSWAP and rotation on the $x$ and $z$ axes). The compiled coefficients are square pulses and the control coefficients on $\\sigma_z$ and $\\sigma_x$ are also different, resulting in different gate times."
   ]
  },
  {
   "cell_type": "markdown",
   "id": "b6023e7a",
   "metadata": {},
   "source": [
    "### Without decoherence"
   ]
  },
  {
   "cell_type": "code",
   "execution_count": null,
   "id": "279ac97c",
   "metadata": {},
   "outputs": [],
   "source": [
    "basis00 = basis([2, 2], [0, 0])\n",
    "psi0 = basis([2, 2, 2], [0, 0, 0])\n",
    "result = processor.run_state(init_state=psi0)\n",
    "print(\"Probability of measuring state 00:\")\n",
    "print(np.real((basis00.dag() * ptrace(result.states[-1], [0, 1]) * basis00)))"
   ]
  },
  {
   "cell_type": "markdown",
   "id": "6df99469",
   "metadata": {},
   "source": [
    "### With decoherence"
   ]
  },
  {
   "cell_type": "code",
   "execution_count": null,
   "id": "843eb792",
   "metadata": {},
   "outputs": [],
   "source": [
    "processor.t1 = 100\n",
    "processor.t2 = 30\n",
    "psi0 = basis([2, 2, 2], [0, 0, 0])\n",
    "result = processor.run_state(init_state=psi0)\n",
    "print(\"Probability of measuring state 00:\")\n",
    "print(np.real((basis00.dag() * ptrace(result.states[-1], [0, 1]) * basis00)))"
   ]
  },
  {
   "cell_type": "markdown",
   "id": "96c0cd14",
   "metadata": {},
   "source": [
    "## Using the optimal control module\n",
    "This feature integrated into the sub-class `OptPulseProcessor` which use methods in the optimal control module to find the optimal pulse sequence for the desired gates. It can find the optimal pulse either for the whole unitary evolution or for each gate. Here we choose the second option."
   ]
  },
  {
   "cell_type": "code",
   "execution_count": null,
   "id": "7d6a0f2b",
   "metadata": {},
   "outputs": [],
   "source": [
    "setting_args = {\n",
    "    \"SNOT\": {\"num_tslots\": 6, \"evo_time\": 2},\n",
    "    \"X\": {\"num_tslots\": 1, \"evo_time\": 0.5},\n",
    "    \"CNOT\": {\"num_tslots\": 12, \"evo_time\": 5},\n",
    "}\n",
    "# Use the control Hamiltonians of the spin chain model.\n",
    "processor = OptPulseProcessor(\n",
    "    num_qubits=3, model=SpinChainModel(3, setup=\"linear\")\n",
    ")\n",
    "processor.load_circuit(  # Provide parameters for the algorithm\n",
    "    qc,\n",
    "    setting_args=setting_args,\n",
    "    merge_gates=False,\n",
    "    verbose=True,\n",
    "    amp_ubound=5,\n",
    "    amp_lbound=0,\n",
    ");"
   ]
  },
  {
   "cell_type": "code",
   "execution_count": null,
   "id": "37a4f6b9",
   "metadata": {},
   "outputs": [],
   "source": [
    "processor.plot_pulses(\n",
    "    title=\"Control pulse of OptPulseProcessor\", figsize=(8, 4), dpi=100\n",
    ");"
   ]
  },
  {
   "cell_type": "markdown",
   "id": "06d9e022",
   "metadata": {},
   "source": [
    "For the optimal control model, we use the GRAPE algorithm, where control pulses are piece-wise constant functions. We provide the algorithm with the same control Hamiltonian model used for the spin chain model. In the compiled optimal signals, all controls are active (non-zero pulse amplitude) during most of the execution time. We note that for identical gates on different qubits (e.g., Hadamard), each optimized pulse is different, demonstrating that the optimized solution is not unique, and there are further constraints one could apply, such as adaptions for the specific hardware."
   ]
  },
  {
   "cell_type": "markdown",
   "id": "13ea1ffc",
   "metadata": {},
   "source": [
    "### Without decoherence"
   ]
  },
  {
   "cell_type": "code",
   "execution_count": null,
   "id": "05f14d5f",
   "metadata": {},
   "outputs": [],
   "source": [
    "basis00 = basis([2, 2], [0, 0])\n",
    "psi0 = basis([2, 2, 2], [0, 0, 0])\n",
    "result = processor.run_state(init_state=psi0)\n",
    "print(\"Probability of measuring state 00:\")\n",
    "print(np.real((basis00.dag() * ptrace(result.states[-1], [0, 1]) * basis00)))"
   ]
  },
  {
   "cell_type": "markdown",
   "id": "6a25a0cc",
   "metadata": {},
   "source": [
    "### With decoherence"
   ]
  },
  {
   "cell_type": "code",
   "execution_count": null,
   "id": "64cc2ef4",
   "metadata": {},
   "outputs": [],
   "source": [
    "processor.t1 = 100\n",
    "processor.t2 = 30\n",
    "psi0 = basis([2, 2, 2], [0, 0, 0])\n",
    "result = processor.run_state(init_state=psi0)\n",
    "print(\"Probability of measuring state 00:\")\n",
    "print(np.real((basis00.dag() * ptrace(result.states[-1], [0, 1]) * basis00)))"
   ]
  },
  {
   "cell_type": "markdown",
   "id": "59f65602",
   "metadata": {},
   "source": [
    "We can see that under noisy evolution their is a none zero probability of measuring state 00."
   ]
  },
  {
   "cell_type": "markdown",
   "id": "eee2a008",
   "metadata": {},
   "source": [
    "## Using the superconducting qubits model\n",
    "Below, we simulate the same quantum circuit using one sub-class `LinearSpinChain`. It will find the pulse based on the Hamiltonian available on a quantum computer of the linear spin chain system.\n",
    "Please refer to [the notebook of the spin chain model](../time-evolution/005_spin-chain.md) for more details."
   ]
  },
  {
   "cell_type": "code",
   "execution_count": null,
   "id": "f0f92bd9",
   "metadata": {},
   "outputs": [],
   "source": [
    "processor = SCQubits(num_qubits=3)\n",
    "processor.load_circuit(qc);"
   ]
  },
  {
   "cell_type": "code",
   "execution_count": null,
   "id": "abf7c4c3",
   "metadata": {},
   "outputs": [],
   "source": [
    "processor.plot_pulses(title=\"Control pulse of SCQubits\",\n",
    "                      figsize=(8, 4), dpi=100);"
   ]
  },
  {
   "cell_type": "markdown",
   "id": "efcf7d24",
   "metadata": {},
   "source": [
    "For the superconducting-qubit processor, the compiled pulses have a Gaussian shape. This is crucial for superconducting qubits because the second excited level is only slightly detuned from the qubit transition energy. A smooth pulse usually prevents leakage to the non-computational subspace. Similar to the spin chain, SWAP gates are added to switch the zeroth and first qubit and one SWAP gate is compiled to three CNOT gates. The control $ZX^{21}$ is not used because there is no CNOT gate that is controlled by the second qubit and acts on the first one."
   ]
  },
  {
   "cell_type": "markdown",
   "id": "d697deb0",
   "metadata": {},
   "source": [
    "### Without decoherence"
   ]
  },
  {
   "cell_type": "code",
   "execution_count": null,
   "id": "7b6d86a0",
   "metadata": {},
   "outputs": [],
   "source": [
    "basis00 = basis([3, 3], [0, 0])\n",
    "psi0 = basis([3, 3, 3], [0, 0, 0])\n",
    "result = processor.run_state(init_state=psi0)\n",
    "print(\"Probability of measuring state 00:\")\n",
    "print(np.real((basis00.dag() * ptrace(result.states[-1], [0, 1]) * basis00)))"
   ]
  },
  {
   "cell_type": "markdown",
   "id": "fa57a218",
   "metadata": {},
   "source": [
    "### With decoherence"
   ]
  },
  {
   "cell_type": "code",
   "execution_count": null,
   "id": "39367551",
   "metadata": {},
   "outputs": [],
   "source": [
    "processor.t1 = 50.0e3\n",
    "processor.t2 = 20.0e3\n",
    "psi0 = basis([3, 3, 3], [0, 0, 0])\n",
    "result = processor.run_state(init_state=psi0)\n",
    "print(\"Probability of measuring state 00:\")\n",
    "print(np.real((basis00.dag() * ptrace(result.states[-1], [0, 1]) * basis00)))"
   ]
  },
  {
   "cell_type": "code",
   "execution_count": null,
   "id": "3aa38d3f",
   "metadata": {
    "lines_to_next_cell": 0
   },
   "outputs": [],
   "source": [
    "print(\"qutip-qip version:\", qutip_qip.version.version)\n",
    "version_table()"
   ]
  },
  {
   "cell_type": "markdown",
   "id": "db5f09c8",
   "metadata": {},
   "source": []
  }
 ],
 "metadata": {
  "jupytext": {
   "cell_metadata_filter": "-all",
   "notebook_metadata_filter": "-jupytext.cell_metadata_filter,-jupytext.notebook_metadata_filter"
  },
  "kernelspec": {
   "display_name": "Python 3 (ipykernel)",
   "language": "python",
   "name": "python3"
  }
 },
 "nbformat": 4,
 "nbformat_minor": 5
}
