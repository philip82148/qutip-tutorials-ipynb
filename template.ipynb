{
 "cells": [
  {
   "cell_type": "markdown",
   "id": "d0d07a17",
   "metadata": {},
   "source": [
    "# Notebook Title\n",
    "\n",
    "Author: C. Staufenbiel, 2022\n",
    "\n",
    "### Introduction\n",
    "\n",
    "This notebook serves is a template for new Jupyter Notebooks used as a user\n",
    "guides for QuTiP. With this template we want to give you an idea of how a\n",
    "user guide can look like. Furthermore, we want to ensure that all notebooks\n",
    "have a similar style and that new users can easily understand them. To\n",
    "create your own notebook, just copy this template and insert your own\n",
    "content. The descriptions in this template should give you an idea of the\n",
    "general style.\n",
    "\n",
    "In this introductory section, you should explain the goal of this notebook,\n",
    "just as I did. We continue now with some steps. It is a good practice (and most\n",
    "of the times appreciated by new users) to comment every code cell with one\n",
    "markdown cell. Also please update the notebook title and the headings of the\n",
    "different section.\n",
    "\n",
    "### First Section\n",
    "\n",
    "The first thing we do in this notebook (and possibly in any notebook) is that we\n",
    "import needed packages."
   ]
  },
  {
   "cell_type": "code",
   "execution_count": null,
   "id": "5a5ef322",
   "metadata": {},
   "outputs": [],
   "source": [
    "import matplotlib.pyplot as plt\n",
    "import numpy as np\n",
    "import qutip\n",
    "from qutip import Bloch, basis, sesolve, sigmay, sigmaz\n",
    "\n",
    "%matplotlib inline"
   ]
  },
  {
   "cell_type": "markdown",
   "id": "ef46591e",
   "metadata": {},
   "source": [
    "In the next step we setup some qubit state and plot it on the bloch sphere. It's\n",
    "always great to give some nice visuals."
   ]
  },
  {
   "cell_type": "code",
   "execution_count": null,
   "id": "07ea264c",
   "metadata": {},
   "outputs": [],
   "source": [
    "psi = (2.0 * basis(2, 0) + basis(2, 1)).unit()\n",
    "b = Bloch()\n",
    "b.add_states(psi)\n",
    "b.show()"
   ]
  },
  {
   "cell_type": "markdown",
   "id": "6db02e01",
   "metadata": {},
   "source": [
    "### Simulation\n",
    "\n",
    "Let's define a simple Hamiltonian and use `qutip.sesolve` to solve the\n",
    "Schrödinger equation and look at the expectation value of $\\sigma_y$. You can\n",
    "also use comments in the code section to separate the operations you perform."
   ]
  },
  {
   "cell_type": "code",
   "execution_count": null,
   "id": "6a902dc4",
   "metadata": {},
   "outputs": [],
   "source": [
    "# simulate the unitary dynamics\n",
    "H = sigmaz()\n",
    "times = np.linspace(0, 10, 100)\n",
    "result = sesolve(H, psi, times, [sigmay()])\n",
    "\n",
    "# plot the expectation value\n",
    "plt.plot(times, result.expect[0])\n",
    "plt.xlabel(\"Time\"), plt.ylabel(\"<sigma_y>\")\n",
    "plt.show()"
   ]
  },
  {
   "cell_type": "markdown",
   "id": "71f81afa",
   "metadata": {},
   "source": [
    "We created a nice looking plot of the Larmor precision. Every notebook has to\n",
    "include the `qutip.about()` call at the end, to show the setup under which the\n",
    "notebook was executed and make it reproducible for others.\n",
    "\n",
    "### About"
   ]
  },
  {
   "cell_type": "code",
   "execution_count": null,
   "id": "6473b027",
   "metadata": {},
   "outputs": [],
   "source": [
    "qutip.about()"
   ]
  },
  {
   "cell_type": "markdown",
   "id": "449a2056",
   "metadata": {},
   "source": [
    "### Testing\n",
    "\n",
    "This section can include some tests to verify that the expected outputs are\n",
    "generated within the notebook. We put this section at the end of the notebook,\n",
    "so it's not interfering with the user experience. Please, define the tests\n",
    "using `assert`, so that the cell execution fails if a wrong output is generated."
   ]
  },
  {
   "cell_type": "code",
   "execution_count": null,
   "id": "00ce1541",
   "metadata": {},
   "outputs": [],
   "source": [
    "assert np.allclose(result.expect[0][0], 0), \\\n",
    "    \"Expectation value does not start at 0\"\n",
    "assert 1 == 1"
   ]
  }
 ],
 "metadata": {
  "jupytext": {
   "cell_metadata_filter": "-all",
   "notebook_metadata_filter": "-jupytext.cell_metadata_filter,-jupytext.notebook_metadata_filter"
  },
  "kernelspec": {
   "display_name": "Python 3 (ipykernel)",
   "language": "python",
   "name": "python3"
  }
 },
 "nbformat": 4,
 "nbformat_minor": 5
}
