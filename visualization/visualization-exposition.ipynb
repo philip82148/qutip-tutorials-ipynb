{
 "cells": [
  {
   "cell_type": "markdown",
   "id": "26edd587",
   "metadata": {},
   "source": [
    "# Visualization demos"
   ]
  },
  {
   "cell_type": "code",
   "execution_count": null,
   "id": "44eb5c70",
   "metadata": {},
   "outputs": [],
   "source": [
    "import matplotlib.pyplot as plt\n",
    "import numpy as np\n",
    "import qutip as qt\n",
    "from qutip import about, basis, identity, sigmax, sigmay, sigmaz\n",
    "\n",
    "%matplotlib inline"
   ]
  },
  {
   "cell_type": "markdown",
   "id": "39f1ebd0",
   "metadata": {},
   "source": [
    "## Hinton"
   ]
  },
  {
   "cell_type": "code",
   "execution_count": null,
   "id": "a4cad6a5",
   "metadata": {},
   "outputs": [],
   "source": [
    "rho = qt.rand_dm(5)"
   ]
  },
  {
   "cell_type": "code",
   "execution_count": null,
   "id": "281ed7fc",
   "metadata": {},
   "outputs": [],
   "source": [
    "qt.hinton(rho);"
   ]
  },
  {
   "cell_type": "markdown",
   "id": "40757c31",
   "metadata": {},
   "source": [
    "## Sphereplot"
   ]
  },
  {
   "cell_type": "code",
   "execution_count": null,
   "id": "b98fb3da",
   "metadata": {},
   "outputs": [],
   "source": [
    "theta = np.linspace(0, np.pi, 90)\n",
    "phi = np.linspace(0, 2 * np.pi, 60)"
   ]
  },
  {
   "cell_type": "code",
   "execution_count": null,
   "id": "87a9a0f0",
   "metadata": {},
   "outputs": [],
   "source": [
    "qt.sphereplot(theta, phi, qt.orbital(theta, phi, basis(3, 0)).T);"
   ]
  },
  {
   "cell_type": "code",
   "execution_count": null,
   "id": "ad90eb6f",
   "metadata": {},
   "outputs": [],
   "source": [
    "fig = plt.figure(figsize=(16, 4))\n",
    "\n",
    "ax = fig.add_subplot(1, 3, 1, projection=\"3d\")\n",
    "qt.sphereplot(theta, phi, qt.orbital(theta, phi, basis(3, 0)).T, fig, ax)\n",
    "\n",
    "ax = fig.add_subplot(1, 3, 2, projection=\"3d\")\n",
    "qt.sphereplot(theta, phi, qt.orbital(theta, phi, basis(3, 1)).T, fig, ax)\n",
    "\n",
    "ax = fig.add_subplot(1, 3, 3, projection=\"3d\")\n",
    "qt.sphereplot(theta, phi, qt.orbital(theta, phi, basis(3, 2)).T, fig, ax);"
   ]
  },
  {
   "cell_type": "markdown",
   "id": "97d9a4af",
   "metadata": {},
   "source": [
    "# Matrix histogram"
   ]
  },
  {
   "cell_type": "code",
   "execution_count": null,
   "id": "7d814c9e",
   "metadata": {},
   "outputs": [],
   "source": [
    "qt.matrix_histogram(rho.full().real);"
   ]
  },
  {
   "cell_type": "code",
   "execution_count": null,
   "id": "b53a2d2a",
   "metadata": {},
   "outputs": [],
   "source": [
    "qt.matrix_histogram_complex(rho.full());"
   ]
  },
  {
   "cell_type": "markdown",
   "id": "7f5cf00e",
   "metadata": {},
   "source": [
    "# Plot energy levels"
   ]
  },
  {
   "cell_type": "code",
   "execution_count": null,
   "id": "6b224e9e",
   "metadata": {},
   "outputs": [],
   "source": [
    "H0 = qt.tensor(sigmaz(), identity(2)) + qt.tensor(identity(2), sigmaz())\n",
    "Hint = 0.1 * qt.tensor(sigmax(), sigmax())\n",
    "\n",
    "qt.plot_energy_levels([H0, Hint], figsize=(8, 4));"
   ]
  },
  {
   "cell_type": "markdown",
   "id": "fadf30b7",
   "metadata": {},
   "source": [
    "# Plot Fock distribution"
   ]
  },
  {
   "cell_type": "code",
   "execution_count": null,
   "id": "d937ca18",
   "metadata": {},
   "outputs": [],
   "source": [
    "rho = (qt.coherent(15, 1.5) + qt.coherent(15, -1.5)).unit()"
   ]
  },
  {
   "cell_type": "code",
   "execution_count": null,
   "id": "5b139cf2",
   "metadata": {},
   "outputs": [],
   "source": [
    "qt.plot_fock_distribution(rho);"
   ]
  },
  {
   "cell_type": "markdown",
   "id": "b530e6f7",
   "metadata": {},
   "source": [
    "# Plot Wigner function and Fock distribution"
   ]
  },
  {
   "cell_type": "code",
   "execution_count": null,
   "id": "3084b6c8",
   "metadata": {},
   "outputs": [],
   "source": [
    "qt.plot_wigner_fock_distribution(rho);"
   ]
  },
  {
   "cell_type": "markdown",
   "id": "16def0ca",
   "metadata": {},
   "source": [
    "# Plot winger function"
   ]
  },
  {
   "cell_type": "code",
   "execution_count": null,
   "id": "89652fa4",
   "metadata": {},
   "outputs": [],
   "source": [
    "qt.plot_wigner(rho, figsize=(6, 6));"
   ]
  },
  {
   "cell_type": "markdown",
   "id": "bbc41c0c",
   "metadata": {},
   "source": [
    "# Plot expectation values"
   ]
  },
  {
   "cell_type": "code",
   "execution_count": null,
   "id": "58b75a40",
   "metadata": {},
   "outputs": [],
   "source": [
    "H = sigmaz() + 0.3 * sigmay()\n",
    "e_ops = [sigmax(), sigmay(), sigmaz()]\n",
    "times = np.linspace(0, 10, 100)\n",
    "psi0 = (basis(2, 0) + basis(2, 1)).unit()\n",
    "result = qt.mesolve(H, psi0, times, [], e_ops)"
   ]
  },
  {
   "cell_type": "code",
   "execution_count": null,
   "id": "e8752af5",
   "metadata": {},
   "outputs": [],
   "source": [
    "qt.plot_expectation_values(result);"
   ]
  },
  {
   "cell_type": "markdown",
   "id": "8ceefdf0",
   "metadata": {},
   "source": [
    "# Bloch sphere"
   ]
  },
  {
   "cell_type": "code",
   "execution_count": null,
   "id": "518750e3",
   "metadata": {},
   "outputs": [],
   "source": [
    "b = qt.Bloch()\n",
    "b.add_vectors(qt.expect(H.unit(), e_ops))\n",
    "b.add_points(result.expect, meth=\"l\")\n",
    "b.make_sphere()"
   ]
  },
  {
   "cell_type": "markdown",
   "id": "fa8554e5",
   "metadata": {},
   "source": [
    "# Plot spin Q-functions"
   ]
  },
  {
   "cell_type": "code",
   "execution_count": null,
   "id": "6f155090",
   "metadata": {},
   "outputs": [],
   "source": [
    "j = 5\n",
    "psi = qt.spin_state(j, -j)\n",
    "psi = qt.spin_coherent(j, np.random.rand() * np.pi,\n",
    "                       np.random.rand() * 2 * np.pi)\n",
    "rho = qt.ket2dm(psi)"
   ]
  },
  {
   "cell_type": "code",
   "execution_count": null,
   "id": "23e12fe4",
   "metadata": {},
   "outputs": [],
   "source": [
    "theta = np.linspace(0, np.pi, 50)\n",
    "phi = np.linspace(0, 2 * np.pi, 50)"
   ]
  },
  {
   "cell_type": "code",
   "execution_count": null,
   "id": "5b3a3f58",
   "metadata": {},
   "outputs": [],
   "source": [
    "Q, THETA, PHI = qt.spin_q_function(psi, theta, phi)"
   ]
  },
  {
   "cell_type": "markdown",
   "id": "c3263ec7",
   "metadata": {},
   "source": [
    "## 2D"
   ]
  },
  {
   "cell_type": "code",
   "execution_count": null,
   "id": "1290907f",
   "metadata": {},
   "outputs": [],
   "source": [
    "qt.plot_spin_distribution_2d(Q, THETA, PHI);"
   ]
  },
  {
   "cell_type": "markdown",
   "id": "c3d44b54",
   "metadata": {},
   "source": [
    "## 3D"
   ]
  },
  {
   "cell_type": "code",
   "execution_count": null,
   "id": "1529efee",
   "metadata": {},
   "outputs": [],
   "source": [
    "fig, ax = qt.plot_spin_distribution_3d(Q, THETA, PHI)\n",
    "\n",
    "ax.view_init(15, 30)"
   ]
  },
  {
   "cell_type": "markdown",
   "id": "048e5a72",
   "metadata": {},
   "source": [
    "## Combined 2D and 3D"
   ]
  },
  {
   "cell_type": "code",
   "execution_count": null,
   "id": "6a0e214b",
   "metadata": {},
   "outputs": [],
   "source": [
    "fig = plt.figure(figsize=(14, 6))\n",
    "\n",
    "ax = fig.add_subplot(1, 2, 1)\n",
    "f1, a1 = qt.plot_spin_distribution_2d(Q, THETA, PHI, fig=fig, ax=ax)\n",
    "\n",
    "ax = fig.add_subplot(1, 2, 2, projection=\"3d\")\n",
    "f2, a2 = qt.plot_spin_distribution_3d(Q, THETA, PHI, fig=fig, ax=ax)"
   ]
  },
  {
   "cell_type": "markdown",
   "id": "16136eda",
   "metadata": {},
   "source": [
    "# Plot spin-Wigner functions"
   ]
  },
  {
   "cell_type": "code",
   "execution_count": null,
   "id": "3266111f",
   "metadata": {},
   "outputs": [],
   "source": [
    "W, THETA, PHI = qt.spin_wigner(psi, theta, phi)"
   ]
  },
  {
   "cell_type": "code",
   "execution_count": null,
   "id": "0083b3c2",
   "metadata": {},
   "outputs": [],
   "source": [
    "fig = plt.figure(figsize=(14, 6))\n",
    "\n",
    "ax = fig.add_subplot(1, 2, 1)\n",
    "f1, a1 = qt.plot_spin_distribution_2d(W.real, THETA, PHI, fig=fig, ax=ax)\n",
    "\n",
    "ax = fig.add_subplot(1, 2, 2, projection=\"3d\")\n",
    "f2, a2 = qt.plot_spin_distribution_3d(W.real, THETA, PHI, fig=fig, ax=ax)"
   ]
  },
  {
   "cell_type": "markdown",
   "id": "fdf9f51d",
   "metadata": {},
   "source": [
    "# Versions"
   ]
  },
  {
   "cell_type": "code",
   "execution_count": null,
   "id": "3012d35d",
   "metadata": {},
   "outputs": [],
   "source": [
    "about()"
   ]
  }
 ],
 "metadata": {
  "jupytext": {
   "cell_metadata_filter": "-all",
   "notebook_metadata_filter": "-jupytext.cell_metadata_filter,-jupytext.notebook_metadata_filter"
  },
  "kernelspec": {
   "display_name": "Python 3 (ipykernel)",
   "language": "python",
   "name": "python3"
  }
 },
 "nbformat": 4,
 "nbformat_minor": 5
}
