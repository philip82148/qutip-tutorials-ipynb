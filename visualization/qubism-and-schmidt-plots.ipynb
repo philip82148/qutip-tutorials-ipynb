{
 "cells": [
  {
   "cell_type": "code",
   "execution_count": null,
   "id": "ccc567c1",
   "metadata": {},
   "outputs": [],
   "source": [
    "!pip3 install qutip==4.7.3 qutip-qip==0.2.1 numpy==1.25.2 scipy==1.11.2 matplotlib==3.5.2 jupytext==1.13.8 black==22.3.0 flake8==4.0.1 nbqa==1.3.1 isort==5.10.1"
   ]
  },
  {
   "cell_type": "markdown",
   "id": "f8ebfe17",
   "metadata": {},
   "source": [
    "# Qubism visualizations"
   ]
  },
  {
   "cell_type": "markdown",
   "id": "f4be18a3",
   "metadata": {},
   "source": [
    "by [Piotr Migdał](http://migdal.wikidot.com/), June 2014\n",
    "\n",
    "For more information about QuTiP see http://qutip.org.\n",
    "\n",
    "For more information about Qubism see:\n",
    "* J. Rodriguez-Laguna, P. Migdał, M. Ibanez Berganza, M. Lewenstein, G. Sierra,\n",
    "  [Qubism: self-similar visualization of many-body wavefunctions](http://dx.doi.org/10.1088/1367-2630/14/5/053028), New J. Phys. 14 053028 (2012), [arXiv:1112.3560](http://arxiv.org/abs/1112.3560),\n",
    "* [its video abstract](https://www.youtube.com/watch?v=8fPAzOziTZo),\n",
    "* [C++ and Mathematica code on GitHub](https://github.com/stared/qubism).\n",
    "\n",
    "This note describes plotting functions `plot_schmidt` and `plot_qubism`, and additionally - `complex_array_to_rgb`, along with their applications.\n",
    "\n"
   ]
  },
  {
   "cell_type": "code",
   "execution_count": null,
   "id": "af755bed",
   "metadata": {},
   "outputs": [],
   "source": [
    "import matplotlib.pyplot as plt\n",
    "import numpy as np\n",
    "from qutip import (Qobj, about, complex_array_to_rgb, jmat, ket, plot_qubism,\n",
    "                   plot_schmidt, qeye, sigmax, sigmay, sigmaz, tensor)\n",
    "\n",
    "%matplotlib inline"
   ]
  },
  {
   "cell_type": "markdown",
   "id": "c621f000",
   "metadata": {},
   "source": [
    "## Colors"
   ]
  },
  {
   "cell_type": "markdown",
   "id": "e1b7d7cf",
   "metadata": {},
   "source": [
    "In quantum mechanics, complex numbers are as natual as real numbers.\n",
    "\n",
    "Before going into details of particular plots, we show how `complex_array_to_rgb` maps $z = x + i y$ into colors.\n",
    "There are two variants, `theme='light'` and `theme='dark'`. For both, we use hue for phase, with red for positive numbers and aqua for negative.\n",
    "\n",
    "For a longer comment on coloring complex functions I recommend IPython Notebook [Visualizing complex-valued functions with Matplotlib and Mayavi](http://nbviewer.jupyter.org/github/empet/Math/blob/master/DomainColoring.ipynb) by Emilia Petrisor."
   ]
  },
  {
   "cell_type": "code",
   "execution_count": null,
   "id": "ec4f51ff",
   "metadata": {},
   "outputs": [],
   "source": [
    "compl_circ = np.array(\n",
    "    [\n",
    "        [(x + 1j * y) if x ** 2 + y**2 <= 1 else 0j\n",
    "            for x in np.arange(-1, 1, 0.005)]\n",
    "        for y in np.arange(-1, 1, 0.005)\n",
    "    ]\n",
    ")\n",
    "\n",
    "fig = plt.figure(figsize=(6, 3))\n",
    "for i, theme in enumerate([\"light\", \"dark\"]):\n",
    "    ax = plt.subplot(1, 2, i + 1)\n",
    "    ax.set_xlabel(\"x\", fontsize=14)\n",
    "    ax.set_ylabel(\"y\", fontsize=14)\n",
    "    ax.imshow(\n",
    "        complex_array_to_rgb(compl_circ, rmax=1, theme=theme),\n",
    "        extent=(-1, 1, -1, 1)\n",
    "    )\n",
    "plt.tight_layout()"
   ]
  },
  {
   "cell_type": "markdown",
   "id": "53124b67",
   "metadata": {},
   "source": [
    "## Schmidt plot"
   ]
  },
  {
   "cell_type": "markdown",
   "id": "1119e933",
   "metadata": {},
   "source": [
    "Arguably, the easiest way to show entanglement is to plot a wavefunction against two variables.\n",
    "If the plot is a product of them, the state is a product state. If not - it is entangled.\n",
    "\n",
    "As writing a wavefunction as a matrix $|\\psi\\rangle_{ij}$ is the the crucial step in [Schmidt decomposition](http://en.wikipedia.org/wiki/Schmidt_decomposition),\n",
    "we call such plots Schmidt plots.\n",
    "\n",
    "Let us consider two states:\n",
    "\n",
    "* entangled: singlet state $|\\psi^-\\rangle = (|01\\rangle - |10\\rangle)/\\sqrt{2}$,\n",
    "* product $(|01\\rangle - |00\\rangle)/\\sqrt{2}$.\n",
    "\n",
    "They may look seamingly similar, but the later can be decomposed into a product $|0\\rangle(|1\\rangle - |0\\rangle)/\\sqrt{2}$."
   ]
  },
  {
   "cell_type": "code",
   "execution_count": null,
   "id": "71792821",
   "metadata": {},
   "outputs": [],
   "source": [
    "singlet = (ket(\"01\") - ket(\"10\")).unit()\n",
    "separable = (ket(\"01\") - ket(\"00\")).unit()"
   ]
  },
  {
   "cell_type": "code",
   "execution_count": null,
   "id": "325c1131",
   "metadata": {},
   "outputs": [],
   "source": [
    "plot_schmidt(singlet, figsize=(2, 2));"
   ]
  },
  {
   "cell_type": "code",
   "execution_count": null,
   "id": "c49b1c34",
   "metadata": {},
   "outputs": [],
   "source": [
    "plot_schmidt(separable, figsize=(2, 2));"
   ]
  },
  {
   "cell_type": "markdown",
   "id": "cf3724be",
   "metadata": {},
   "source": [
    "As we see, for separable state the plot is a product of `x` and `y` coordinates, while for the singlet state - is is not.\n",
    "\n",
    "Let us now consider a product of two singlet states: $|\\psi^-\\rangle|\\psi^-\\rangle$.\n",
    "Schmidt plot, by default, makes spliting of equal numbers of particles.\n",
    "\n",
    "(And just for fun, let's multiply it by the imaginary unit, to get diffeerent colors.)"
   ]
  },
  {
   "cell_type": "code",
   "execution_count": null,
   "id": "cf1a6749",
   "metadata": {},
   "outputs": [],
   "source": [
    "plot_schmidt(1j * tensor([singlet, singlet]), figsize=(2, 2));"
   ]
  },
  {
   "cell_type": "markdown",
   "id": "85a23c78",
   "metadata": {},
   "source": [
    "As we see, we have a product, as the state is a product state with the respect to the splitting of first 2 vs last 2 particles.\n",
    "\n",
    "But what if we shift particles, getting $|\\psi^-\\rangle_{23}|\\psi^-\\rangle_{41}$?"
   ]
  },
  {
   "cell_type": "code",
   "execution_count": null,
   "id": "7c4298e2",
   "metadata": {},
   "outputs": [],
   "source": [
    "plot_schmidt(1j * tensor([singlet, singlet]).permute([1, 2, 3, 0]),\n",
    "             figsize=(2, 2));"
   ]
  },
  {
   "cell_type": "markdown",
   "id": "c3f5ae8e",
   "metadata": {},
   "source": [
    "So we see that it is entangled.\n",
    "\n",
    "`plot_schmidt` allows us to specify other splittings. With parameter `splitting` we decide how many particles we want to have as columns. In general, we can plot systems of various numbers of particles, each being of a different dimension.\n",
    "\n",
    "For example:"
   ]
  },
  {
   "cell_type": "code",
   "execution_count": null,
   "id": "b9c44393",
   "metadata": {},
   "outputs": [],
   "source": [
    "plot_schmidt(\n",
    "    1j * tensor([singlet, singlet]),\n",
    "    splitting=1,\n",
    "    labels_iteration=(1, 3),\n",
    "    figsize=(4, 2),\n",
    ");"
   ]
  },
  {
   "cell_type": "markdown",
   "id": "c56457d0",
   "metadata": {},
   "source": [
    "## Qubism plot"
   ]
  },
  {
   "cell_type": "code",
   "execution_count": null,
   "id": "d236342f",
   "metadata": {},
   "outputs": [],
   "source": [
    "fig = plt.figure(figsize=(8, 4))\n",
    "for i in [1, 2]:\n",
    "    ax = plt.subplot(1, 2, i)\n",
    "    plot_qubism(0 * ket(\"0000\"), legend_iteration=i, grid_iteration=i,\n",
    "                fig=fig, ax=ax)"
   ]
  },
  {
   "cell_type": "markdown",
   "id": "9da69896",
   "metadata": {},
   "source": [
    "That is, all amplitudes for states starting with:\n",
    "\n",
    "* $|00\\rangle$ go to the upper left quadrant,\n",
    "* $|01\\rangle$ go to the upper right quadrant,\n",
    "* $|10\\rangle$ go to the lower left quadrant,\n",
    "* $|11\\rangle$ go to the lower right quadrant.\n",
    "\n",
    "And we proceed recursively with the next particles. So, for example:"
   ]
  },
  {
   "cell_type": "code",
   "execution_count": null,
   "id": "7dc66644",
   "metadata": {},
   "outputs": [],
   "source": [
    "state = (\n",
    "    ket(\"0010\")\n",
    "    + 0.5 * ket(\"1111\")\n",
    "    + 0.5j * ket(\"0101\")\n",
    "    - 1j * ket(\"1101\")\n",
    "    - 0.2 * ket(\"0110\")\n",
    ")\n",
    "plot_qubism(state, figsize=(4, 4));"
   ]
  },
  {
   "cell_type": "markdown",
   "id": "ebd245bc",
   "metadata": {},
   "source": [
    "Or if we want to make sure how did we map amplitudes to particular regions in the plot:"
   ]
  },
  {
   "cell_type": "code",
   "execution_count": null,
   "id": "1cfa6f01",
   "metadata": {},
   "outputs": [],
   "source": [
    "plot_qubism(state, legend_iteration=2, figsize=(4, 4));"
   ]
  },
  {
   "cell_type": "markdown",
   "id": "70db00eb",
   "metadata": {},
   "source": [
    "Or how about making it dark? (E.g. to fit out slides with black background)."
   ]
  },
  {
   "cell_type": "code",
   "execution_count": null,
   "id": "f505568f",
   "metadata": {},
   "outputs": [],
   "source": [
    "plot_qubism(state, legend_iteration=2, theme=\"dark\", figsize=(4, 4));"
   ]
  },
  {
   "cell_type": "markdown",
   "id": "7ceac6e8",
   "metadata": {},
   "source": [
    "The most important property of Qubism is the recursive structure. So that we can add more particles seamlessly.\n",
    "For example, let's consider a plot of `k` copies of the singlet states, i.e. $|\\psi^-\\rangle^{\\otimes k}$:"
   ]
  },
  {
   "cell_type": "code",
   "execution_count": null,
   "id": "06403389",
   "metadata": {},
   "outputs": [],
   "source": [
    "fig = plt.figure(figsize=(15, 3))\n",
    "for k in range(1, 6):\n",
    "    ax = plt.subplot(1, 5, k)\n",
    "    plot_qubism(tensor([singlet] * k), fig=fig, ax=ax)"
   ]
  },
  {
   "cell_type": "markdown",
   "id": "9bcc75bd",
   "metadata": {},
   "source": [
    "OK, but once we can type the wavefunction by hand, plots offer little added value.\n",
    "\n",
    "Let's see how we can plot ground states.\n",
    "Before doing that, we define some functions to easy make a translationally-invariant Hamiltonian."
   ]
  },
  {
   "cell_type": "code",
   "execution_count": null,
   "id": "47077e70",
   "metadata": {},
   "outputs": [],
   "source": [
    "def spinchainize(op, n, bc=\"periodic\"):\n",
    "\n",
    "    if isinstance(op, list):\n",
    "        return sum([spinchainize(each, n, bc=bc) for each in op])\n",
    "\n",
    "    k = len(op.dims[0])\n",
    "    d = op.dims[0][0]\n",
    "\n",
    "    expanded = tensor([op] + [qeye(d)] * (n - k))\n",
    "\n",
    "    if bc == \"periodic\":\n",
    "        shifts = n\n",
    "    elif bc == \"open\":\n",
    "        shifts = n - k + 1\n",
    "\n",
    "    shifteds = [\n",
    "        expanded.permute([(i + j) % n for i in range(n)])\n",
    "        for j in range(shifts)\n",
    "    ]\n",
    "\n",
    "    return sum(shifteds)\n",
    "\n",
    "\n",
    "def gs_of(ham):\n",
    "    gval, gstate = ham.groundstate()\n",
    "    return gstate"
   ]
  },
  {
   "cell_type": "markdown",
   "id": "e7215fcc",
   "metadata": {},
   "source": [
    "For example, let us consider Hamiltonian for $N$ particles, of the following form (a generalization of the [Majumdar-Ghosh model](http://en.wikipedia.org/wiki/Majumdar%E2%80%93Ghosh_Model)):\n",
    "\n",
    "$$H = \\sum_{i=1}^N \\vec{S}_i \\cdot \\vec{S}_{i+1} + J \\sum_{i=1}^N \\vec{S}_i \\cdot \\vec{S}_{i+2},$$\n",
    "\n",
    "where $\\vec{S}_i = \\tfrac{1}{2} (\\sigma^x, \\sigma^y, \\sigma^z)$ is the spin operator (with sigmas being [Pauli matrices](http://en.wikipedia.org/wiki/Pauli_matrices)).\n",
    "\n",
    "Moreover, we can set two different boundary conditions:\n",
    "\n",
    "* periodic - spin chain forms a loop ($N+1 \\equiv 1$ and $N+2 \\equiv 2$),\n",
    "* open - spin chain forms a line (we remove terms with $N+1$ and $N+2$)."
   ]
  },
  {
   "cell_type": "code",
   "execution_count": null,
   "id": "8fa5aed3",
   "metadata": {},
   "outputs": [],
   "source": [
    "heis = sum([tensor([pauli] * 2) for pauli in [sigmax(), sigmay(), sigmaz()]])\n",
    "heis2 = sum(\n",
    "    [tensor([pauli, qeye(2), pauli])\n",
    "     for pauli in [sigmax(), sigmay(), sigmaz()]]\n",
    ")\n",
    "\n",
    "N = 10\n",
    "Js = [0.0, 0.5, 1.0]\n",
    "\n",
    "fig = plt.figure(figsize=(2 * len(Js), 4.4))\n",
    "\n",
    "for b in [0, 1]:\n",
    "    for k, J in enumerate(Js):\n",
    "        ax = plt.subplot(2, len(Js), b * len(Js) + k + 1)\n",
    "\n",
    "        if b == 0:\n",
    "            spinchain = spinchainize([heis, J * heis2], N, bc=\"periodic\")\n",
    "        elif b == 1:\n",
    "            spinchain = spinchainize([heis, J * heis2], N, bc=\"open\")\n",
    "\n",
    "        plot_qubism(gs_of(spinchain), ax=ax)\n",
    "\n",
    "        if k == 0:\n",
    "            if b == 0:\n",
    "                ax.set_ylabel(\"periodic BC\", fontsize=16)\n",
    "            else:\n",
    "                ax.set_ylabel(\"open BC\", fontsize=16)\n",
    "        if b == 1:\n",
    "            ax.set_xlabel(\"$J={0:.1f}$\".format(J), fontsize=16)\n",
    "\n",
    "plt.tight_layout()"
   ]
  },
  {
   "cell_type": "markdown",
   "id": "fbec0b53",
   "metadata": {},
   "source": [
    "We are not restricted to qubits. We can have it for other dimensions, e.g. qutrits.\n",
    "\n",
    "Let us consider [AKLT model](http://en.wikipedia.org/wiki/AKLT_Model) for spin-1 particles:\n",
    "\n",
    "$$H = \\sum_{i=1}^N \\vec{S}_i \\cdot \\vec{S}_{i+1} + \\tfrac{1}{3} \\sum_{i=1}^N (\\vec{S}_i \\cdot \\vec{S}_{i+1})^2.$$\n",
    "\n",
    "where $\\vec{S}_i$ is [spin operator](http://en.wikipedia.org/wiki/Pauli_matrices#Physics) for spin-1 particles (or for `qutip`: `jmat(1, 'x')`, `jmat(1, 'y')` and `jmat(1, 'z')`)."
   ]
  },
  {
   "cell_type": "code",
   "execution_count": null,
   "id": "301cd89b",
   "metadata": {},
   "outputs": [],
   "source": [
    "ss = sum([tensor([jmat(1, s)] * 2) for s in [\"x\", \"y\", \"z\"]])\n",
    "H = spinchainize([ss, (1.0 / 3.0) * ss**2], n=6, bc=\"periodic\")\n",
    "plot_qubism(gs_of(H), figsize=(4, 4));"
   ]
  },
  {
   "cell_type": "markdown",
   "id": "d329dbd0",
   "metadata": {},
   "source": [
    "Qubism for qutrits works similarly as for qubits:"
   ]
  },
  {
   "cell_type": "code",
   "execution_count": null,
   "id": "56ca71c8",
   "metadata": {},
   "outputs": [],
   "source": [
    "fig = plt.figure(figsize=(10, 5))\n",
    "for i in [1, 2]:\n",
    "    ax = plt.subplot(1, 2, i)\n",
    "    plot_qubism(\n",
    "        0 * ket(\"0000\", dim=3), legend_iteration=i, grid_iteration=i,\n",
    "        fig=fig, ax=ax\n",
    "    )"
   ]
  },
  {
   "cell_type": "markdown",
   "id": "70f8abca",
   "metadata": {},
   "source": [
    "Just in this case we interpret:\n",
    "\n",
    "* 0 as $s_z=-1$,\n",
    "* 1 as $s_z=\\ \\ 0$,\n",
    "* 2 as $s_z=+1$.\n",
    "\n",
    "While qubism works best for translationally-invariants states (so in particular, all particles need to have the same dimension), we can do it for others.\n",
    "\n",
    "Also, there are a few other Qubism-related plotting schemes. For example `how='pairs_skewed'`:"
   ]
  },
  {
   "cell_type": "code",
   "execution_count": null,
   "id": "1ab1b7ad",
   "metadata": {},
   "outputs": [],
   "source": [
    "fig = plt.figure(figsize=(8, 4))\n",
    "for i in [1, 2]:\n",
    "    ax = plt.subplot(1, 2, i)\n",
    "    plot_qubism(\n",
    "        0 * ket(\"0000\"),\n",
    "        how=\"pairs_skewed\",\n",
    "        legend_iteration=i,\n",
    "        grid_iteration=i,\n",
    "        fig=fig,\n",
    "        ax=ax,\n",
    "    )"
   ]
  },
  {
   "cell_type": "markdown",
   "id": "2489866e",
   "metadata": {},
   "source": [
    "The one above emphasis ferromagnetic (put on the left) vs antiferromagnetic (put on the right) states.\n",
    "\n",
    "Another one `how='before_after'` (inspired by [this](http://commons.wikimedia.org/wiki/File:Ising-tartan.png)) works in a bit different way: it uses typical recursion, but starting from middle particles. For example, the top left quadrant correspons to $|00\\rangle_{N/2,N/2+1}$: "
   ]
  },
  {
   "cell_type": "code",
   "execution_count": null,
   "id": "aa77ee11",
   "metadata": {},
   "outputs": [],
   "source": [
    "fig = plt.figure(figsize=(8, 4))\n",
    "for i in [1, 2]:\n",
    "    ax = plt.subplot(1, 2, i)\n",
    "    plot_qubism(\n",
    "        0 * ket(\"0000\"),\n",
    "        how=\"before_after\",\n",
    "        legend_iteration=i,\n",
    "        grid_iteration=i,\n",
    "        fig=fig,\n",
    "        ax=ax,\n",
    "    )"
   ]
  },
  {
   "cell_type": "markdown",
   "id": "b861f672",
   "metadata": {},
   "source": [
    "It is very similar to the Schmidt plot (for the default splitting), with the only difference being ordering of the `y` axis (particle order is reversed). All entanglement properties are the same.\n",
    "\n",
    "So how does it work on the same example? \n",
    "Well, let us take spin chain for (Majumdar-Ghosh model for $J=0$), i.e.\n",
    "$$H = \\sum_{i=1}^N \\vec{S}_i \\cdot \\vec{S}_{i+1}$$\n",
    "for qubits."
   ]
  },
  {
   "cell_type": "code",
   "execution_count": null,
   "id": "49b8171d",
   "metadata": {},
   "outputs": [],
   "source": [
    "heis = sum([tensor([pauli] * 2) for pauli in [sigmax(), sigmay(), sigmaz()]])\n",
    "N = 10\n",
    "gs = gs_of(spinchainize(heis, N, bc=\"periodic\"))\n",
    "\n",
    "fig = plt.figure(figsize=(12, 4))\n",
    "for i, how in enumerate([\"schmidt_plot\", \"pairs\",\n",
    "                         \"pairs_skewed\", \"before_after\"]):\n",
    "    ax = plt.subplot(1, 4, i + 1)\n",
    "    if how == \"schmidt_plot\":\n",
    "        plot_schmidt(gs, fig=fig, ax=ax)\n",
    "    else:\n",
    "        plot_qubism(gs, how=how, fig=fig, ax=ax)\n",
    "    ax.set_title(how)\n",
    "plt.tight_layout()"
   ]
  },
  {
   "cell_type": "markdown",
   "id": "69b0358c",
   "metadata": {},
   "source": [
    "## Seeing entanglement"
   ]
  },
  {
   "cell_type": "code",
   "execution_count": null,
   "id": "07cdbae3",
   "metadata": {},
   "outputs": [],
   "source": [
    "product_1 = ket(\"0000\")\n",
    "product_2 = tensor([(ket(\"0\") + ket(\"1\")).unit()] * 4)\n",
    "w = (ket(\"0001\") + ket(\"0010\") + ket(\"0100\") + ket(\"1000\")).unit()\n",
    "dicke_2of4 = (\n",
    "    ket(\"0011\") + ket(\"0101\") + ket(\"0110\") +\n",
    "    ket(\"1001\") + ket(\"1010\") + ket(\"1100\")\n",
    ").unit()\n",
    "ghz = (ket(\"0000\") + ket(\"1111\")).unit()"
   ]
  },
  {
   "cell_type": "code",
   "execution_count": null,
   "id": "2b0d80a7",
   "metadata": {},
   "outputs": [],
   "source": [
    "states = [\"product_1\", \"product_2\", \"w\", \"dicke_2of4\", \"ghz\"]\n",
    "fig = plt.figure(figsize=(2 * len(states), 2))\n",
    "for i, state_str in enumerate(states):\n",
    "    ax = plt.subplot(1, len(states), i + 1)\n",
    "    plot_qubism(eval(state_str), fig=fig, ax=ax)\n",
    "    ax.set_title(state_str)\n",
    "plt.tight_layout()"
   ]
  },
  {
   "cell_type": "markdown",
   "id": "40ed3cb0",
   "metadata": {},
   "source": [
    "Then entanglement (or exactly: Schmidt rank) for a given partition is equal to number to different, non-zero squares. (We don't allow rotations, we do allow multiplication by a factor and, what may be more tricky, linear superposition.)\n",
    "\n",
    "Here we use partition of first 2 particles vs last 2, as indicated by lines.\n",
    "\n",
    "That is,\n",
    "* `product_1` - only 1 non-zero square: Schmidt rank 1,\n",
    "* `product_2` - 4 non-zero squares, but they are the same: Schmidt rank 1,\n",
    "* `w` - 3 non-zero quares, but two of them are the same: Schmidt rank 2,\n",
    "* `dicke_2of4` - 4 non-zero squares, but two of them are the same: Schmidt rank 3,\n",
    "* `ghz` - 2 non-zero squares, each one different: Schmidt rank 2.\n",
    "\n",
    "This is basis-independent, but it may be easier to work in one basis rather than another.\n",
    "\n",
    "And for a comparision, let us see product states:\n",
    "\n",
    "$$\\left( \\cos(\\theta/2) |0\\rangle + \\sin(\\theta/2) e^{i \\varphi} |1\\rangle \\right)^N $$"
   ]
  },
  {
   "cell_type": "code",
   "execution_count": null,
   "id": "6a153399",
   "metadata": {},
   "outputs": [],
   "source": [
    "def product_state(theta, phi=0, n=1):\n",
    "    single = Qobj([[np.cos(theta / 2.0)],\n",
    "                   [np.sin(theta / 2.0) * np.exp(1j * phi)]])\n",
    "    return tensor([single] * n)\n",
    "\n",
    "\n",
    "thetas = 0.5 * np.pi * np.array([0.0, 0.5, 0.75, 1.0])\n",
    "phis = np.pi * np.array([0.0, 0.1, 0.2, 0.3])\n",
    "\n",
    "fig, axes2d = plt.subplots(nrows=len(phis),\n",
    "                           ncols=len(thetas), figsize=(6, 6))\n",
    "\n",
    "for i, row in enumerate(axes2d):\n",
    "    for j, cell in enumerate(row):\n",
    "        plot_qubism(\n",
    "            product_state(thetas[j], phi=phis[i], n=8),\n",
    "            grid_iteration=1, ax=cell\n",
    "        )\n",
    "        if i == len(axes2d) - 1:\n",
    "            cell.set_xlabel(\n",
    "                r\"$\\theta={0:s}\\pi$\".format(\n",
    "                    [\"0\", \"(1/4)\", \"(3/8)\", \"(1/2)\"][j]),\n",
    "                fontsize=16,\n",
    "            )\n",
    "        if j == 0:\n",
    "            cell.set_ylabel(\n",
    "                r\"$\\varphi={0:.1f}\\pi$\".format(phis[i] / np.pi), fontsize=16\n",
    "            )\n",
    "\n",
    "plt.tight_layout()"
   ]
  },
  {
   "cell_type": "markdown",
   "id": "d590be30",
   "metadata": {},
   "source": [
    "In each plot squares are the same, up to a factor (which is visualized as intensity and hue).\n",
    "\n",
    "You can lookup previous plots. Setting `grid_iteration=2` would show splitting of the first 4 particles vs N-4 others.\n",
    "And for `how='before_after'` it is the middle particles vs all others."
   ]
  },
  {
   "cell_type": "markdown",
   "id": "9efc2d2d",
   "metadata": {},
   "source": [
    "### Versions"
   ]
  },
  {
   "cell_type": "code",
   "execution_count": null,
   "id": "7c0a6dea",
   "metadata": {},
   "outputs": [],
   "source": [
    "about()"
   ]
  }
 ],
 "metadata": {
  "jupytext": {
   "cell_metadata_filter": "-all",
   "notebook_metadata_filter": "-jupytext.cell_metadata_filter,-jupytext.notebook_metadata_filter"
  },
  "kernelspec": {
   "display_name": "Python 3 (ipykernel)",
   "language": "python",
   "name": "python3"
  }
 },
 "nbformat": 4,
 "nbformat_minor": 5
}
