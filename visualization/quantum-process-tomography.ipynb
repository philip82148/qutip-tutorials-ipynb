{
 "cells": [
  {
   "cell_type": "markdown",
   "id": "dfc30d89",
   "metadata": {},
   "source": [
    "# Quantum Process Tomography"
   ]
  },
  {
   "cell_type": "markdown",
   "id": "20d82bef",
   "metadata": {},
   "source": [
    "J.R. Johansson and P.D. Nation\n",
    "\n",
    "For more information about QuTiP see [http://qutip.org](http://qutip.org)"
   ]
  },
  {
   "cell_type": "code",
   "execution_count": null,
   "id": "7941b5e0",
   "metadata": {},
   "outputs": [],
   "source": [
    "import numpy as np\n",
    "from qutip import (about, qeye, qpt, qpt_plot_combined, sigmax, sigmay, sigmaz,\n",
    "                   spost, spre)\n",
    "from qutip_qip.operations import (cnot, fredkin, iswap, phasegate, snot,\n",
    "                                  sqrtiswap, swap, toffoli)\n",
    "\n",
    "%matplotlib inline"
   ]
  },
  {
   "cell_type": "code",
   "execution_count": null,
   "id": "f6d2ab60",
   "metadata": {},
   "outputs": [],
   "source": [
    "\"\"\"\n",
    "Plot the process tomography matrices for some 1, 2, and 3-qubit qubit gates.\n",
    "\"\"\"\n",
    "gates = [\n",
    "    [\"C-NOT\", cnot()],\n",
    "    [\"SWAP\", swap()],\n",
    "    [\"$i$SWAP\", iswap()],\n",
    "    [r\"$\\sqrt{i\\mathrm{SWAP}}$\", sqrtiswap()],\n",
    "    [\"S-NOT\", snot()],\n",
    "    [r\"$\\pi/2$ phase gate\", phasegate(np.pi / 2)],\n",
    "    [\"Toffoli\", toffoli()],\n",
    "    [\"Fredkin\", fredkin()],\n",
    "]"
   ]
  },
  {
   "cell_type": "code",
   "execution_count": null,
   "id": "c5b2e2b7",
   "metadata": {},
   "outputs": [],
   "source": [
    "def plt_qpt_gate(gate, figsize=(8, 6)):\n",
    "\n",
    "    name = gate[0]\n",
    "    U_psi = gate[1]\n",
    "\n",
    "    N = len(U_psi.dims[0])  # number of qubits\n",
    "\n",
    "    # create a superoperator for the density matrix\n",
    "    # transformation rho = U_psi * rho_0 * U_psi.dag()\n",
    "    U_rho = spre(U_psi) * spost(U_psi.dag())\n",
    "\n",
    "    # operator basis for the process tomography\n",
    "    op_basis = [[qeye(2), sigmax(), sigmay(), sigmaz()] for i in range(N)]\n",
    "\n",
    "    # labels for operator basis\n",
    "    op_label = [[\"$i$\", \"$x$\", \"$y$\", \"$z$\"] for i in range(N)]\n",
    "\n",
    "    # calculate the chi matrix\n",
    "    chi = qpt(U_rho, op_basis)\n",
    "\n",
    "    # visualize the chi matrix\n",
    "    fig, ax = qpt_plot_combined(chi, op_label, name, figsize=figsize)\n",
    "\n",
    "    ax.set_title(name)\n",
    "\n",
    "    return fig, ax"
   ]
  },
  {
   "cell_type": "code",
   "execution_count": null,
   "id": "9b626887",
   "metadata": {},
   "outputs": [],
   "source": [
    "plt_qpt_gate(gates[0]);"
   ]
  },
  {
   "cell_type": "code",
   "execution_count": null,
   "id": "07cd565b",
   "metadata": {},
   "outputs": [],
   "source": [
    "plt_qpt_gate(gates[1]);"
   ]
  },
  {
   "cell_type": "code",
   "execution_count": null,
   "id": "794bdbf9",
   "metadata": {},
   "outputs": [],
   "source": [
    "plt_qpt_gate(gates[2]);"
   ]
  },
  {
   "cell_type": "code",
   "execution_count": null,
   "id": "5a99818b",
   "metadata": {},
   "outputs": [],
   "source": [
    "plt_qpt_gate(gates[3]);"
   ]
  },
  {
   "cell_type": "code",
   "execution_count": null,
   "id": "d5c94afb",
   "metadata": {},
   "outputs": [],
   "source": [
    "plt_qpt_gate(gates[4]);"
   ]
  },
  {
   "cell_type": "code",
   "execution_count": null,
   "id": "d5771312",
   "metadata": {},
   "outputs": [],
   "source": [
    "plt_qpt_gate(gates[5]);"
   ]
  },
  {
   "cell_type": "code",
   "execution_count": null,
   "id": "8a456008",
   "metadata": {},
   "outputs": [],
   "source": [
    "fig, ax = plt_qpt_gate(gates[6], figsize=(16, 12))\n",
    "ax.axis(\"tight\");"
   ]
  },
  {
   "cell_type": "code",
   "execution_count": null,
   "id": "5fe297aa",
   "metadata": {},
   "outputs": [],
   "source": [
    "fig, ax = plt_qpt_gate(gates[7], figsize=(16, 12))\n",
    "ax.axis(\"tight\");"
   ]
  },
  {
   "cell_type": "markdown",
   "id": "68f1eb9c",
   "metadata": {},
   "source": [
    "## Versions"
   ]
  },
  {
   "cell_type": "code",
   "execution_count": null,
   "id": "40675585",
   "metadata": {},
   "outputs": [],
   "source": [
    "about()"
   ]
  }
 ],
 "metadata": {
  "jupytext": {
   "cell_metadata_filter": "-all",
   "notebook_metadata_filter": "-jupytext.cell_metadata_filter,-jupytext.notebook_metadata_filter"
  },
  "kernelspec": {
   "display_name": "Python 3 (ipykernel)",
   "language": "python",
   "name": "python3"
  }
 },
 "nbformat": 4,
 "nbformat_minor": 5
}
