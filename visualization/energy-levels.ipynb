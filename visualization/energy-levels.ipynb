{
 "cells": [
  {
   "cell_type": "code",
   "execution_count": null,
   "id": "ccc567c1",
   "metadata": {},
   "outputs": [],
   "source": [
    "!pip3 install qutip==4.7.3 qutip-qip==0.2.1 numpy==1.25.2 scipy==1.11.2 matplotlib==3.5.2 jupytext==1.13.8 black==22.3.0 flake8==4.0.1 nbqa==1.3.1 isort==5.10.1"
   ]
  },
  {
   "cell_type": "markdown",
   "id": "634c1b5c",
   "metadata": {},
   "source": [
    "# Energy-level diagrams"
   ]
  },
  {
   "cell_type": "markdown",
   "id": "eec45efb",
   "metadata": {},
   "source": [
    "J.R. Johansson and P.D. Nation\n",
    "\n",
    "For more information about QuTiP see [http://qutip.org](http://qutip.org)"
   ]
  },
  {
   "cell_type": "code",
   "execution_count": null,
   "id": "b2a3a911",
   "metadata": {},
   "outputs": [],
   "source": [
    "import matplotlib.pyplot as plt\n",
    "import numpy as np\n",
    "from numpy import pi\n",
    "from qutip import about, qeye, sigmax, sigmaz, tensor\n",
    "\n",
    "%matplotlib inline"
   ]
  },
  {
   "cell_type": "markdown",
   "id": "7fd91b4b",
   "metadata": {},
   "source": [
    "## Energy spectrum of three coupled qubits"
   ]
  },
  {
   "cell_type": "code",
   "execution_count": null,
   "id": "01df73f7",
   "metadata": {},
   "outputs": [],
   "source": [
    "def compute(w1list, w2, w3, g12, g13):\n",
    "\n",
    "    # Pre-compute operators for the hamiltonian\n",
    "    sz1 = tensor(sigmaz(), qeye(2), qeye(2))\n",
    "    sx1 = tensor(sigmax(), qeye(2), qeye(2))\n",
    "\n",
    "    sz2 = tensor(qeye(2), sigmaz(), qeye(2))\n",
    "    sx2 = tensor(qeye(2), sigmax(), qeye(2))\n",
    "\n",
    "    sz3 = tensor(qeye(2), qeye(2), sigmaz())\n",
    "    sx3 = tensor(qeye(2), qeye(2), sigmax())\n",
    "\n",
    "    idx = 0\n",
    "    evals_mat = np.zeros((len(w1list), 2 * 2 * 2))\n",
    "    for w1 in w1list:\n",
    "\n",
    "        # evaluate the Hamiltonian\n",
    "        H = w1 * sz1 + w2 * sz2 + w3 * sz3 + g12 * sx1 * sx2 + g13 * sx1 * sx3\n",
    "\n",
    "        # find the energy eigenvalues of the composite system\n",
    "        evals, ekets = H.eigenstates()\n",
    "\n",
    "        evals_mat[idx, :] = np.real(evals)\n",
    "\n",
    "        idx += 1\n",
    "\n",
    "    return evals_mat"
   ]
  },
  {
   "cell_type": "code",
   "execution_count": null,
   "id": "a93635cf",
   "metadata": {},
   "outputs": [],
   "source": [
    "w1 = 1.0 * 2 * pi  # atom 1 frequency: sweep this one\n",
    "w2 = 0.9 * 2 * pi  # atom 2 frequency\n",
    "w3 = 1.1 * 2 * pi  # atom 3 frequency\n",
    "g12 = 0.05 * 2 * pi  # atom1-atom2 coupling strength\n",
    "g13 = 0.05 * 2 * pi  # atom1-atom3 coupling strength\n",
    "\n",
    "w1list = np.linspace(0.75, 1.25, 50) * 2 * pi  # atom 1 frequency range"
   ]
  },
  {
   "cell_type": "code",
   "execution_count": null,
   "id": "08d3df4c",
   "metadata": {},
   "outputs": [],
   "source": [
    "evals_mat = compute(w1list, w2, w3, g12, g13)"
   ]
  },
  {
   "cell_type": "code",
   "execution_count": null,
   "id": "96ca8464",
   "metadata": {},
   "outputs": [],
   "source": [
    "fig, ax = plt.subplots(figsize=(12, 6))\n",
    "\n",
    "for n in [1, 2, 3]:\n",
    "    ax.plot(w1list / (2 * pi),\n",
    "            (evals_mat[:, n] - evals_mat[:, 0]) / (2 * pi), \"b\")\n",
    "\n",
    "ax.set_xlabel(\"Energy splitting of atom 1\")\n",
    "ax.set_ylabel(\"Eigenenergies\")\n",
    "ax.set_title(\"Energy spectrum of three coupled qubits\");"
   ]
  },
  {
   "cell_type": "markdown",
   "id": "0f90c864",
   "metadata": {},
   "source": [
    "## Versions"
   ]
  },
  {
   "cell_type": "code",
   "execution_count": null,
   "id": "ddd577c1",
   "metadata": {},
   "outputs": [],
   "source": [
    "about()"
   ]
  }
 ],
 "metadata": {
  "jupytext": {
   "cell_metadata_filter": "-all",
   "notebook_metadata_filter": "-jupytext.cell_metadata_filter,-jupytext.notebook_metadata_filter"
  },
  "kernelspec": {
   "display_name": "Python 3 (ipykernel)",
   "language": "python",
   "name": "python3"
  }
 },
 "nbformat": 4,
 "nbformat_minor": 5
}
