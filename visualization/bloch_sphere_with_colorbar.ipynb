{
 "cells": [
  {
   "cell_type": "code",
   "execution_count": null,
   "id": "ccc567c1",
   "metadata": {},
   "outputs": [],
   "source": [
    "!pip3 install qutip==4.7.3 qutip-qip==0.2.1 numpy==1.25.2 scipy==1.11.2 matplotlib==3.5.2 jupytext==1.13.8 black==22.3.0 flake8==4.0.1 nbqa==1.3.1 isort==5.10.1"
   ]
  },
  {
   "cell_type": "markdown",
   "id": "0d19250c",
   "metadata": {},
   "source": [
    "# Bloch Sphere with colorbar"
   ]
  },
  {
   "cell_type": "code",
   "execution_count": null,
   "id": "699b10c0",
   "metadata": {},
   "outputs": [],
   "source": [
    "import matplotlib as mpl\n",
    "import numpy as np\n",
    "from matplotlib import cm\n",
    "from qutip import Bloch, about, basis, destroy, sesolve, sigmax, sigmay, sigmaz\n",
    "\n",
    "%matplotlib inline"
   ]
  },
  {
   "cell_type": "markdown",
   "id": "7b3edc96",
   "metadata": {},
   "source": [
    "## Do a closed Landau-Zener Evolution"
   ]
  },
  {
   "cell_type": "code",
   "execution_count": null,
   "id": "debb0398",
   "metadata": {},
   "outputs": [],
   "source": [
    "delta = 0.5 * 2 * np.pi\n",
    "v = 2.0 * 2 * np.pi  # sweep rate\n",
    "\n",
    "H0 = delta / 2.0 * sigmax()\n",
    "H1 = v / 2.0 * sigmaz()\n",
    "H = [H0, [H1, \"t\"]]\n",
    "psi0 = basis(2, 0)\n",
    "\n",
    "sm = destroy(2)\n",
    "sx = sigmax()\n",
    "sy = sigmay()\n",
    "sz = sigmaz()\n",
    "expt_ops = [sm.dag() * sm, sx, sy, sz]\n",
    "\n",
    "\n",
    "tlist = np.linspace(-10.0, 10.0, 1500)\n",
    "expt_list = sesolve(H, psi0, tlist, expt_ops).expect"
   ]
  },
  {
   "cell_type": "markdown",
   "id": "05c4d8ed",
   "metadata": {},
   "source": [
    "## Generate a Bloch Sphere with Multi-Colored Points"
   ]
  },
  {
   "cell_type": "markdown",
   "id": "928c0c8e",
   "metadata": {},
   "source": [
    "Note that I need to call `b.show` here so that I can grab a Figure instance later"
   ]
  },
  {
   "cell_type": "code",
   "execution_count": null,
   "id": "09135043",
   "metadata": {},
   "outputs": [],
   "source": [
    "b = Bloch()\n",
    "# normalize colors to times in tlist ##\n",
    "nrm = mpl.colors.Normalize(-2, 10)\n",
    "colors = cm.cool(nrm(tlist))\n",
    "\n",
    "# add data points from expectation values ##\n",
    "b.add_points([expt_list[1], expt_list[2], -expt_list[3]], \"m\")\n",
    "\n",
    "# customize sphere properties ##\n",
    "b.point_color = list(colors)\n",
    "b.point_marker = [\"o\"]\n",
    "b.point_size = [20]\n",
    "\n",
    "b.zlpos = [1.1, -1.2]\n",
    "\n",
    "b.show()"
   ]
  },
  {
   "cell_type": "markdown",
   "id": "ed7c979c",
   "metadata": {},
   "source": [
    "## Add  New Axis to Bloch Figure"
   ]
  },
  {
   "cell_type": "code",
   "execution_count": null,
   "id": "81ff16e1",
   "metadata": {},
   "outputs": [],
   "source": [
    "left, bottom, width, height = [0.98, 0.05, 0.05, 0.9]\n",
    "ax2 = b.fig.add_axes([left, bottom, width, height])\n",
    "\n",
    "mpl.colorbar.ColorbarBase(ax2, cmap=cm.cool, norm=nrm, orientation=\"vertical\");"
   ]
  },
  {
   "cell_type": "markdown",
   "id": "2e19c638",
   "metadata": {},
   "source": [
    "## Plot with Colorbar Added"
   ]
  },
  {
   "cell_type": "markdown",
   "id": "1aff2e90",
   "metadata": {},
   "source": [
    "Currently I need to call `b.fig` as replotting figures in a notebook is a bit tricky.  However, this is likely to be improved in the future."
   ]
  },
  {
   "cell_type": "code",
   "execution_count": null,
   "id": "2f916596",
   "metadata": {},
   "outputs": [],
   "source": [
    "b.fig"
   ]
  },
  {
   "cell_type": "code",
   "execution_count": null,
   "id": "6d74f84d",
   "metadata": {},
   "outputs": [],
   "source": [
    "about()"
   ]
  }
 ],
 "metadata": {
  "jupytext": {
   "cell_metadata_filter": "-all",
   "notebook_metadata_filter": "-jupytext.cell_metadata_filter,-jupytext.notebook_metadata_filter"
  },
  "kernelspec": {
   "display_name": "Python 3 (ipykernel)",
   "language": "python",
   "name": "python3"
  }
 },
 "nbformat": 4,
 "nbformat_minor": 5
}
