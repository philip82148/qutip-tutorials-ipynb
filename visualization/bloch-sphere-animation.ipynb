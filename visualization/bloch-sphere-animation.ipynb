{
 "cells": [
  {
   "cell_type": "code",
   "execution_count": null,
   "id": "ccc567c1",
   "metadata": {},
   "outputs": [],
   "source": [
    "!pip3 install qutip==4.7.0 qutip-qip==0.2.1 numpy==1.21.0 scipy==1.8.1 matplotlib==3.5.2 jupytext==1.13.8 black==22.3.0 flake8==4.0.1 nbqa==1.3.1 isort==5.10.1"
   ]
  },
  {
   "cell_type": "markdown",
   "id": "f1914c95",
   "metadata": {},
   "source": [
    "# Bloch Sphere animation"
   ]
  },
  {
   "cell_type": "markdown",
   "id": "0bf663e4",
   "metadata": {},
   "source": [
    "J.R. Johansson and P.D. Nation\n",
    "\n",
    "For more information about QuTiP see [http://qutip.org](http://qutip.org)"
   ]
  },
  {
   "cell_type": "markdown",
   "id": "20656dd6",
   "metadata": {},
   "source": [
    "Animation with qutip and matplotlib: decaying qubit visualized in a Bloch sphere.\n",
    "(Animation with matplotlib does not work yet in python3)"
   ]
  },
  {
   "cell_type": "code",
   "execution_count": null,
   "id": "51733c00",
   "metadata": {},
   "outputs": [],
   "source": [
    "import matplotlib.pyplot as plt\n",
    "import numpy as np\n",
    "from mpl_toolkits.mplot3d import Axes3D\n",
    "from qutip import Bloch, about, basis, mesolve, sigmam, sigmax, sigmay, sigmaz\n",
    "from qutip.ipynbtools import plot_animation\n",
    "\n",
    "%matplotlib inline"
   ]
  },
  {
   "cell_type": "code",
   "execution_count": null,
   "id": "ff5ca8cc",
   "metadata": {},
   "outputs": [],
   "source": [
    "def qubit_integrate(w, theta, gamma1, gamma2, psi0, tlist):\n",
    "    # operators and the hamiltonian\n",
    "    sx = sigmax()\n",
    "    sy = sigmay()\n",
    "    sz = sigmaz()\n",
    "    sm = sigmam()\n",
    "    H = w * (np.cos(theta) * sz + np.sin(theta) * sx)\n",
    "    # collapse operators\n",
    "    c_op_list = []\n",
    "    n_th = 0.5  # temperature\n",
    "    rate = gamma1 * (n_th + 1)\n",
    "    if rate > 0.0:\n",
    "        c_op_list.append(np.sqrt(rate) * sm)\n",
    "    rate = gamma1 * n_th\n",
    "    if rate > 0.0:\n",
    "        c_op_list.append(np.sqrt(rate) * sm.dag())\n",
    "    rate = gamma2\n",
    "    if rate > 0.0:\n",
    "        c_op_list.append(np.sqrt(rate) * sz)\n",
    "\n",
    "    # evolve and calculate expectation values\n",
    "    output = mesolve(H, psi0, tlist, c_op_list, [sx, sy, sz])\n",
    "    return output"
   ]
  },
  {
   "cell_type": "code",
   "execution_count": null,
   "id": "a9187d63",
   "metadata": {},
   "outputs": [],
   "source": [
    "w = 1.0 * 2 * np.pi  # qubit angular frequency\n",
    "theta = 0.2 * np.pi  # qubit angle from sigma_z axis (toward sigma_x axis)\n",
    "gamma1 = 0.5  # qubit relaxation rate\n",
    "gamma2 = 0.2  # qubit dephasing rate\n",
    "# initial state\n",
    "a = 1.0\n",
    "psi0 = (a * basis(2, 0) + (1 - a) * basis(2, 1)) / \\\n",
    "        (np.sqrt(a**2 + (1 - a) ** 2))\n",
    "tlist = np.linspace(0, 4, 150)"
   ]
  },
  {
   "cell_type": "code",
   "execution_count": null,
   "id": "f8f1ce4a",
   "metadata": {},
   "outputs": [],
   "source": [
    "result = qubit_integrate(w, theta, gamma1, gamma2, psi0, tlist)"
   ]
  },
  {
   "cell_type": "code",
   "execution_count": null,
   "id": "af185afc",
   "metadata": {},
   "outputs": [],
   "source": [
    "def plot_setup(result):\n",
    "\n",
    "    fig = plt.figure(figsize=(8, 8))\n",
    "    axes = Axes3D(fig, azim=-40, elev=30)\n",
    "\n",
    "    return fig, axes"
   ]
  },
  {
   "cell_type": "code",
   "execution_count": null,
   "id": "c7af7ebb",
   "metadata": {},
   "outputs": [],
   "source": [
    "sphere = None\n",
    "\n",
    "\n",
    "def plot_result(result, n, fig=None, axes=None):\n",
    "\n",
    "    global sphere\n",
    "\n",
    "    if fig is None or axes is None:\n",
    "        fig, axes = plot_setup(result)\n",
    "\n",
    "    if not sphere:\n",
    "        sphere = Bloch(axes=axes)\n",
    "        sphere.vector_color = [\"r\"]\n",
    "\n",
    "    sphere.clear()\n",
    "    sphere.add_vectors([result.expect[0][n],\n",
    "                        result.expect[1][n],\n",
    "                        result.expect[2][n]])\n",
    "    sphere.add_points(\n",
    "        [\n",
    "            result.expect[0][: n + 1],\n",
    "            result.expect[1][: n + 1],\n",
    "            result.expect[2][: n + 1],\n",
    "        ],\n",
    "        meth=\"l\",\n",
    "    )\n",
    "    sphere.make_sphere()\n",
    "\n",
    "    return axes.artists"
   ]
  },
  {
   "cell_type": "code",
   "execution_count": null,
   "id": "83a800a8",
   "metadata": {},
   "outputs": [],
   "source": [
    "# You can choose your own writer and codec here.\n",
    "# Setting codec=None sets the codec to the standard\n",
    "# defined in matplotlib.rcParams['animation.codec']\n",
    "plot_animation(plot_setup, plot_result, result, writer=\"ffmpeg\", codec=None)"
   ]
  },
  {
   "cell_type": "markdown",
   "id": "8837bee6",
   "metadata": {},
   "source": [
    "## Versions"
   ]
  },
  {
   "cell_type": "code",
   "execution_count": null,
   "id": "c038b25f",
   "metadata": {},
   "outputs": [],
   "source": [
    "about()"
   ]
  }
 ],
 "metadata": {
  "jupytext": {
   "cell_metadata_filter": "-all",
   "notebook_metadata_filter": "-jupytext.cell_metadata_filter,-jupytext.notebook_metadata_filter"
  },
  "kernelspec": {
   "display_name": "Python 3 (ipykernel)",
   "language": "python",
   "name": "python3"
  }
 },
 "nbformat": 4,
 "nbformat_minor": 5
}
