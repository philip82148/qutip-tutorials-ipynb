{
 "cells": [
  {
   "cell_type": "code",
   "execution_count": null,
   "id": "ccc567c1",
   "metadata": {},
   "outputs": [],
   "source": [
    "!pip3 install qutip==4.7.3 qutip-qip==0.2.1 numpy==1.25.2 scipy==1.11.2 matplotlib==3.5.2 jupytext==1.13.8 black==22.3.0 flake8==4.0.1 nbqa==1.3.1 isort==5.10.1"
   ]
  },
  {
   "cell_type": "markdown",
   "id": "78d6241e",
   "metadata": {},
   "source": [
    "# Quantum Teleportation Circuit"
   ]
  },
  {
   "cell_type": "code",
   "execution_count": null,
   "id": "476f35d7",
   "metadata": {},
   "outputs": [],
   "source": [
    "from math import sqrt\n",
    "\n",
    "from qutip import about, basis, tensor\n",
    "from qutip_qip.circuit import QubitCircuit\n",
    "from qutip_qip.operations import Measurement"
   ]
  },
  {
   "cell_type": "markdown",
   "id": "f98d83b4",
   "metadata": {},
   "source": [
    "## Introduction \n",
    "\n",
    "This notebook introduces the basic quantum teleportation circuit (https://en.wikipedia.org/wiki/Quantum_teleportation), complete with measurements and classical control. This notebook also serves as an example on how to add measurement gates and classical controls to a circuit.\n",
    "\n",
    "We will describe the circuit that enables quantum teleportation. We will use two classical wires and three qubit wires. The first qubit wire represents the quantum state $| q0 ⟩ = | \\psi ⟩$ that needs to be transferred from Alice to Bob (so the first qubit is in the possession of Alice). "
   ]
  },
  {
   "cell_type": "code",
   "execution_count": null,
   "id": "ad295ddb",
   "metadata": {},
   "outputs": [],
   "source": [
    "teleportation = QubitCircuit(\n",
    "    3, num_cbits=2, input_states=[r\"\\psi\", \"0\", \"0\", \"c0\", \"c1\"]\n",
    ")"
   ]
  },
  {
   "cell_type": "markdown",
   "id": "6b9d91dc",
   "metadata": {},
   "source": [
    "First, Alice and Bob need to create the shared EPR pair ($\\frac{| 00 ⟩ + | 11 ⟩} {2}$) between the second and third qubit by using the hadamard gate on Alice's qubit followed by an entangling CNOT gate.  "
   ]
  },
  {
   "cell_type": "code",
   "execution_count": null,
   "id": "a043545f",
   "metadata": {},
   "outputs": [],
   "source": [
    "teleportation.add_gate(\"SNOT\", targets=[1])\n",
    "teleportation.add_gate(\"CNOT\", targets=[2], controls=[1])"
   ]
  },
  {
   "cell_type": "markdown",
   "id": "09ac0387",
   "metadata": {},
   "source": [
    "Following this, Alice makes the qubit $| q0 ⟩$ interact with Alice's EPR qubit, followed by measuring on the two qubits belonging to Alice. The measurement results for the first qubit is stored in classical register $c1$ and the second qubit is stored in classical register $c0$."
   ]
  },
  {
   "cell_type": "code",
   "execution_count": null,
   "id": "944288da",
   "metadata": {},
   "outputs": [],
   "source": [
    "teleportation.add_gate(\"CNOT\", targets=[1], controls=[0])\n",
    "teleportation.add_gate(\"SNOT\", targets=[0])\n",
    "\n",
    "teleportation.add_measurement(\"M0\", targets=[0], classical_store=1)\n",
    "teleportation.add_measurement(\"M1\", targets=[1], classical_store=0)"
   ]
  },
  {
   "cell_type": "markdown",
   "id": "8d48cfc4",
   "metadata": {},
   "source": [
    "Now, we apply the $X$ gate on Bob's qubit based on the classical control $c0$ and $Z$ gate based on classical control $c1$. These operations correspond to the following operations based on the state of Alice's measurement. \n",
    "\n",
    "$|00⟩ \\rightarrow $ no operation \\\n",
    "$|01⟩ \\rightarrow Z$ \\\n",
    "$|10⟩ \\rightarrow X$ \\\n",
    "$|11⟩ \\rightarrow ZX$ \n",
    "\n",
    "The final circuit mathematically must result in the third qubit taking the state $|\\psi⟩$. "
   ]
  },
  {
   "cell_type": "code",
   "execution_count": null,
   "id": "d3e90a8b",
   "metadata": {},
   "outputs": [],
   "source": [
    "teleportation.add_gate(\"X\", targets=[2], classical_controls=[0])\n",
    "teleportation.add_gate(\"Z\", targets=[2], classical_controls=[1])"
   ]
  },
  {
   "cell_type": "markdown",
   "id": "ba03c9c4",
   "metadata": {},
   "source": [
    "Finally, our teleportation circuit is ready to run, we can view the circuit structure using the following command. "
   ]
  },
  {
   "cell_type": "code",
   "execution_count": null,
   "id": "b9fbd522",
   "metadata": {},
   "outputs": [],
   "source": [
    "teleportation.gates"
   ]
  },
  {
   "cell_type": "markdown",
   "id": "5dce0ee6",
   "metadata": {},
   "source": [
    "The circuit can also be visualized:"
   ]
  },
  {
   "cell_type": "code",
   "execution_count": null,
   "id": "688b4178",
   "metadata": {},
   "outputs": [],
   "source": [
    "teleportation"
   ]
  },
  {
   "cell_type": "markdown",
   "id": "b2709ea5",
   "metadata": {},
   "source": [
    "The first qubit is user-specified $|\\psi ⟩$ state and the other two must be $|0⟩$. \n",
    "\n",
    "### Example 1 \n",
    "#### $|\\psi⟩ = |+ ⟩$  "
   ]
  },
  {
   "cell_type": "code",
   "execution_count": null,
   "id": "8c33dda0",
   "metadata": {},
   "outputs": [],
   "source": [
    "a = 1 / sqrt(2) * basis(2, 0) + 1 / sqrt(2) * basis(2, 1)\n",
    "state = tensor(a, basis(2, 0), basis(2, 0))"
   ]
  },
  {
   "cell_type": "markdown",
   "id": "7983b9ee",
   "metadata": {},
   "source": [
    "We can confirm our state is initialized correctly by observing the measurment statistics on the first qubit, followed by which we run the circuit."
   ]
  },
  {
   "cell_type": "code",
   "execution_count": null,
   "id": "04d13ab9",
   "metadata": {},
   "outputs": [],
   "source": [
    "initial_measurement = Measurement(\"start\", targets=[0])\n",
    "initial_measurement.measurement_comp_basis(state)"
   ]
  },
  {
   "cell_type": "markdown",
   "id": "0c825c28",
   "metadata": {},
   "source": [
    "We can run the circuit using the `QubitCircuit.run()` function which provided the initial state-vector (or density matrix) initiates one run on the circuit (including sampling any intermediate measurements) and providing the final results (any classical bits can also be explicitly set using the argument `cbits`). The results are returned as a `Result` object. The result states can be accessed through the `get_states()` function where the argument `index=0` specifies the first(only) result should be returned"
   ]
  },
  {
   "cell_type": "code",
   "execution_count": null,
   "id": "b13d974e",
   "metadata": {},
   "outputs": [],
   "source": [
    "state_final = teleportation.run(state)\n",
    "print(state_final)"
   ]
  },
  {
   "cell_type": "markdown",
   "id": "b0f3f286",
   "metadata": {},
   "source": [
    "After running, we can see the measurement statistics on the last qubit to see that the qubit is teleported correctly. "
   ]
  },
  {
   "cell_type": "code",
   "execution_count": null,
   "id": "4a118551",
   "metadata": {},
   "outputs": [],
   "source": [
    "final_measurement = Measurement(\"start\", targets=[2])\n",
    "final_measurement.measurement_comp_basis(state_final)"
   ]
  },
  {
   "cell_type": "markdown",
   "id": "68ab49dd",
   "metadata": {},
   "source": [
    "### Example 2 \n",
    "#### $|\\psi⟩ = |1 ⟩$  "
   ]
  },
  {
   "cell_type": "code",
   "execution_count": null,
   "id": "72b27c86",
   "metadata": {},
   "outputs": [],
   "source": [
    "state = tensor(basis(2, 1), basis(2, 0), basis(2, 0))\n",
    "initial_measurement = Measurement(\"start\", targets=[0])\n",
    "initial_measurement.measurement_comp_basis(state)"
   ]
  },
  {
   "cell_type": "code",
   "execution_count": null,
   "id": "447d5da2",
   "metadata": {},
   "outputs": [],
   "source": [
    "state_final = teleportation.run(state)\n",
    "print(state_final)"
   ]
  },
  {
   "cell_type": "code",
   "execution_count": null,
   "id": "a24dbe52",
   "metadata": {},
   "outputs": [],
   "source": [
    "final_measurement = Measurement(\"start\", targets=[2])\n",
    "final_measurement.measurement_comp_basis(state_final)"
   ]
  },
  {
   "cell_type": "markdown",
   "id": "897c7790",
   "metadata": {},
   "source": [
    "Another useful feature of the circuit module is the **QubitCircuit.run_statistics()** feature which provides the opportunity to gather all the possible output states of the circuit along with their output probabilities. Again, the results are returned as a `Result` object. The result states and respective probabilites can be accessed through the `get_results()` function. "
   ]
  },
  {
   "cell_type": "code",
   "execution_count": null,
   "id": "f60f2819",
   "metadata": {},
   "outputs": [],
   "source": [
    "results = teleportation.run_statistics(state)\n",
    "results.probabilities"
   ]
  },
  {
   "cell_type": "code",
   "execution_count": null,
   "id": "35f4f164",
   "metadata": {},
   "outputs": [],
   "source": [
    "results.final_states"
   ]
  },
  {
   "cell_type": "code",
   "execution_count": null,
   "id": "bcbbdc2c",
   "metadata": {},
   "outputs": [],
   "source": [
    "about()"
   ]
  }
 ],
 "metadata": {
  "jupytext": {
   "cell_metadata_filter": "-all",
   "notebook_metadata_filter": "-jupytext.cell_metadata_filter,-jupytext.notebook_metadata_filter"
  },
  "kernelspec": {
   "display_name": "Python 3 (ipykernel)",
   "language": "python",
   "name": "python3"
  }
 },
 "nbformat": 4,
 "nbformat_minor": 5
}
