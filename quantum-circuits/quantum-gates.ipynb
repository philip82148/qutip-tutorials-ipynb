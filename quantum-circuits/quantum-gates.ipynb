{
 "cells": [
  {
   "cell_type": "code",
   "execution_count": null,
   "id": "ccc567c1",
   "metadata": {},
   "outputs": [],
   "source": [
    "!pip3 install qutip==4.7.3 qutip-qip==0.2.1 numpy==1.25.2 scipy==1.11.2 matplotlib==3.5.2 jupytext==1.13.8 black==22.3.0 flake8==4.0.1 nbqa==1.3.1 isort==5.10.1"
   ]
  },
  {
   "cell_type": "markdown",
   "id": "3b7aa4ee",
   "metadata": {},
   "source": [
    "# QuTiP example: Quantum Gates and their usage"
   ]
  },
  {
   "cell_type": "markdown",
   "id": "f13c08cd",
   "metadata": {},
   "source": [
    "Author: Anubhav Vardhan (anubhavvardhan@gmail.com)\n",
    "\n",
    "User-defined gate added by: Boxi Li (etamin1201@gmail.com)\n",
    "\n",
    "For more information about QuTiP see [http://qutip.org](http://qutip.org)\n",
    "\n",
    "#### Installation: \n",
    "The circuit image visualization requires LaTeX and [ImageMagick](https://imagemagick.org/index.php) for display. The module automatically process the LaTeX code for plotting the circuit, generate the pdf and convert it to the png format.\n",
    "On Mac and Linux, ImageMagick can be easily installed with the command `conda install imagemagick` if you have conda installed.\n",
    "Otherwise, please follow the installation instructions on the ImageMagick documentation.\n",
    "\n",
    "On windows, you need to download and install ImageMagick installer. In addition, you also need [perl](https://www.perl.org/get.html) (for pdfcrop) and [Ghostscript](https://ghostscript.com/releases/index.html) (additional dependency of ImageMagick for png conversion).\n",
    "\n",
    "To test if the installation is complete, try the following three commands working correctly in Command Prompt: `pdflatex`, `pdfcrop` and `magick anypdf.pdf antpdf.png`, where `anypdf.pdf` is any pdf file you have."
   ]
  },
  {
   "cell_type": "code",
   "execution_count": null,
   "id": "aa128eba",
   "metadata": {},
   "outputs": [],
   "source": [
    "import numpy as np\n",
    "from numpy import pi\n",
    "from qutip import Qobj, about\n",
    "from qutip_qip.circuit import QubitCircuit\n",
    "from qutip_qip.operations import (Gate, berkeley, cnot, cphase, csign, fredkin,\n",
    "                                  gate_sequence_product, globalphase, iswap,\n",
    "                                  molmer_sorensen, phasegate, qrot, rx, ry, rz,\n",
    "                                  snot, sqrtiswap, sqrtnot, sqrtswap, swap,\n",
    "                                  swapalpha, toffoli)\n",
    "\n",
    "%matplotlib inline"
   ]
  },
  {
   "cell_type": "markdown",
   "id": "4f96cfe1",
   "metadata": {},
   "source": [
    "## Introduction"
   ]
  },
  {
   "cell_type": "markdown",
   "id": "7934c8bf",
   "metadata": {},
   "source": [
    "http://en.wikipedia.org/wiki/Quantum_gate\n"
   ]
  },
  {
   "cell_type": "markdown",
   "id": "dd981615",
   "metadata": {},
   "source": [
    "## Gates in QuTiP and their representation"
   ]
  },
  {
   "cell_type": "markdown",
   "id": "afe72547",
   "metadata": {},
   "source": [
    "### Controlled-PHASE"
   ]
  },
  {
   "cell_type": "code",
   "execution_count": null,
   "id": "ccf9b0cf",
   "metadata": {},
   "outputs": [],
   "source": [
    "cphase(pi / 2)"
   ]
  },
  {
   "cell_type": "code",
   "execution_count": null,
   "id": "fef69654",
   "metadata": {},
   "outputs": [],
   "source": [
    "q = QubitCircuit(2, reverse_states=False)\n",
    "q.add_gate(\"CSIGN\", controls=[0], targets=[1])\n",
    "q.png"
   ]
  },
  {
   "cell_type": "markdown",
   "id": "435339da",
   "metadata": {},
   "source": [
    "### Rotation about X-axis"
   ]
  },
  {
   "cell_type": "code",
   "execution_count": null,
   "id": "fc0a1b56",
   "metadata": {},
   "outputs": [],
   "source": [
    "rx(pi / 2)"
   ]
  },
  {
   "cell_type": "code",
   "execution_count": null,
   "id": "11617921",
   "metadata": {},
   "outputs": [],
   "source": [
    "q = QubitCircuit(1, reverse_states=False)\n",
    "q.add_gate(\"RX\", targets=[0], arg_value=pi / 2, arg_label=r\"\\frac{\\pi}{2}\")\n",
    "q.png"
   ]
  },
  {
   "cell_type": "markdown",
   "id": "b4e036dc",
   "metadata": {},
   "source": [
    "### Rotation about Y-axis"
   ]
  },
  {
   "cell_type": "code",
   "execution_count": null,
   "id": "c60b5dcd",
   "metadata": {},
   "outputs": [],
   "source": [
    "ry(pi / 2)"
   ]
  },
  {
   "cell_type": "code",
   "execution_count": null,
   "id": "2aaf587b",
   "metadata": {},
   "outputs": [],
   "source": [
    "q = QubitCircuit(1, reverse_states=False)\n",
    "q.add_gate(\"RY\", targets=[0], arg_value=pi / 2, arg_label=r\"\\frac{\\pi}{2}\")\n",
    "q.png"
   ]
  },
  {
   "cell_type": "markdown",
   "id": "05b85cec",
   "metadata": {},
   "source": [
    "### Rotation about Z-axis"
   ]
  },
  {
   "cell_type": "code",
   "execution_count": null,
   "id": "54f9dfea",
   "metadata": {},
   "outputs": [],
   "source": [
    "rz(pi / 2)"
   ]
  },
  {
   "cell_type": "code",
   "execution_count": null,
   "id": "ba97e393",
   "metadata": {},
   "outputs": [],
   "source": [
    "q = QubitCircuit(1, reverse_states=False)\n",
    "q.add_gate(\"RZ\", targets=[0], arg_value=pi / 2, arg_label=r\"\\frac{\\pi}{2}\")\n",
    "q.png"
   ]
  },
  {
   "cell_type": "markdown",
   "id": "d959d103",
   "metadata": {},
   "source": [
    "### CNOT"
   ]
  },
  {
   "cell_type": "code",
   "execution_count": null,
   "id": "99b60268",
   "metadata": {},
   "outputs": [],
   "source": [
    "cnot()"
   ]
  },
  {
   "cell_type": "code",
   "execution_count": null,
   "id": "99758b15",
   "metadata": {},
   "outputs": [],
   "source": [
    "q = QubitCircuit(2, reverse_states=False)\n",
    "q.add_gate(\"CNOT\", controls=[0], targets=[1])\n",
    "q.png"
   ]
  },
  {
   "cell_type": "markdown",
   "id": "1d6018d7",
   "metadata": {},
   "source": [
    "### CSIGN"
   ]
  },
  {
   "cell_type": "code",
   "execution_count": null,
   "id": "169495cf",
   "metadata": {},
   "outputs": [],
   "source": [
    "csign()"
   ]
  },
  {
   "cell_type": "code",
   "execution_count": null,
   "id": "91ee0923",
   "metadata": {},
   "outputs": [],
   "source": [
    "q = QubitCircuit(2, reverse_states=False)\n",
    "q.add_gate(\"CSIGN\", controls=[0], targets=[1])\n",
    "q.png"
   ]
  },
  {
   "cell_type": "markdown",
   "id": "42a5ff7e",
   "metadata": {},
   "source": [
    "### Berkeley"
   ]
  },
  {
   "cell_type": "code",
   "execution_count": null,
   "id": "87944492",
   "metadata": {},
   "outputs": [],
   "source": [
    "berkeley()"
   ]
  },
  {
   "cell_type": "code",
   "execution_count": null,
   "id": "10a85cb3",
   "metadata": {},
   "outputs": [],
   "source": [
    "q = QubitCircuit(2, reverse_states=False)\n",
    "q.add_gate(\"BERKELEY\", targets=[0, 1])\n",
    "q.png"
   ]
  },
  {
   "cell_type": "markdown",
   "id": "b543902c",
   "metadata": {},
   "source": [
    "### SWAPalpha"
   ]
  },
  {
   "cell_type": "code",
   "execution_count": null,
   "id": "7e981c22",
   "metadata": {},
   "outputs": [],
   "source": [
    "swapalpha(pi / 2)"
   ]
  },
  {
   "cell_type": "markdown",
   "id": "f6014a6c",
   "metadata": {},
   "source": [
    "### FREDKIN"
   ]
  },
  {
   "cell_type": "code",
   "execution_count": null,
   "id": "cd62b5d9",
   "metadata": {},
   "outputs": [],
   "source": [
    "fredkin()"
   ]
  },
  {
   "cell_type": "markdown",
   "id": "d80295f7",
   "metadata": {},
   "source": [
    "### TOFFOLI"
   ]
  },
  {
   "cell_type": "code",
   "execution_count": null,
   "id": "162e5335",
   "metadata": {},
   "outputs": [],
   "source": [
    "toffoli()"
   ]
  },
  {
   "cell_type": "markdown",
   "id": "a8869173",
   "metadata": {},
   "source": [
    "### SWAP"
   ]
  },
  {
   "cell_type": "code",
   "execution_count": null,
   "id": "4a7bfc72",
   "metadata": {},
   "outputs": [],
   "source": [
    "swap()\n",
    "q = QubitCircuit(2, reverse_states=False)\n",
    "q.add_gate(\"SWAP\", targets=[0, 1])\n",
    "q.png"
   ]
  },
  {
   "cell_type": "markdown",
   "id": "38316aa2",
   "metadata": {},
   "source": [
    "### ISWAP"
   ]
  },
  {
   "cell_type": "code",
   "execution_count": null,
   "id": "7bf08098",
   "metadata": {},
   "outputs": [],
   "source": [
    "iswap()\n",
    "q = QubitCircuit(2, reverse_states=False)\n",
    "q.add_gate(\"ISWAP\", targets=[0, 1])\n",
    "q.png"
   ]
  },
  {
   "cell_type": "markdown",
   "id": "47a28f88",
   "metadata": {},
   "source": [
    "### SQRTiSWAP"
   ]
  },
  {
   "cell_type": "code",
   "execution_count": null,
   "id": "0777e41e",
   "metadata": {},
   "outputs": [],
   "source": [
    "sqrtiswap()"
   ]
  },
  {
   "cell_type": "markdown",
   "id": "56f59a59",
   "metadata": {},
   "source": [
    "### SQRTSWAP"
   ]
  },
  {
   "cell_type": "code",
   "execution_count": null,
   "id": "a0e267d9",
   "metadata": {},
   "outputs": [],
   "source": [
    "sqrtswap()"
   ]
  },
  {
   "cell_type": "markdown",
   "id": "610b789c",
   "metadata": {},
   "source": [
    "### SQRTNOT"
   ]
  },
  {
   "cell_type": "code",
   "execution_count": null,
   "id": "02c42f89",
   "metadata": {},
   "outputs": [],
   "source": [
    "sqrtnot()"
   ]
  },
  {
   "cell_type": "markdown",
   "id": "f33aa6cb",
   "metadata": {},
   "source": [
    "### HADAMARD"
   ]
  },
  {
   "cell_type": "code",
   "execution_count": null,
   "id": "981b6a92",
   "metadata": {},
   "outputs": [],
   "source": [
    "snot()"
   ]
  },
  {
   "cell_type": "markdown",
   "id": "db906e03",
   "metadata": {},
   "source": [
    "### PHASEGATE"
   ]
  },
  {
   "cell_type": "code",
   "execution_count": null,
   "id": "9a965d77",
   "metadata": {},
   "outputs": [],
   "source": [
    "phasegate(pi / 2)"
   ]
  },
  {
   "cell_type": "markdown",
   "id": "11951613",
   "metadata": {},
   "source": [
    "### GLOBALPHASE"
   ]
  },
  {
   "cell_type": "code",
   "execution_count": null,
   "id": "3b919b00",
   "metadata": {},
   "outputs": [],
   "source": [
    "globalphase(pi / 2)"
   ]
  },
  {
   "cell_type": "markdown",
   "id": "9ecbaa2f",
   "metadata": {},
   "source": [
    "### Mølmer–Sørensen gate"
   ]
  },
  {
   "cell_type": "code",
   "execution_count": null,
   "id": "27a54336",
   "metadata": {},
   "outputs": [],
   "source": [
    "molmer_sorensen(pi / 2)"
   ]
  },
  {
   "cell_type": "markdown",
   "id": "ad3bb5f7",
   "metadata": {},
   "source": [
    "### Qubit rotation gate"
   ]
  },
  {
   "cell_type": "code",
   "execution_count": null,
   "id": "cfff9412",
   "metadata": {},
   "outputs": [],
   "source": [
    "qrot(pi / 2, pi / 4)"
   ]
  },
  {
   "cell_type": "markdown",
   "id": "d12cbb22",
   "metadata": {},
   "source": [
    "### Expanding gates to larger qubit registers"
   ]
  },
  {
   "cell_type": "markdown",
   "id": "bb16a46f",
   "metadata": {},
   "source": [
    "The example above show how to generate matrice representations of the gates implemented in QuTiP, in their minimal qubit requirements. If the same gates is to be represented in a qubit register of size $N$, the optional keywork argument `N` can be specified when calling the gate function. For example, to generate the matrix for the CNOT gate for a $N=3$ bit register:"
   ]
  },
  {
   "cell_type": "code",
   "execution_count": null,
   "id": "1d83b917",
   "metadata": {},
   "outputs": [],
   "source": [
    "cnot(N=3)"
   ]
  },
  {
   "cell_type": "code",
   "execution_count": null,
   "id": "241dff49",
   "metadata": {},
   "outputs": [],
   "source": [
    "q = QubitCircuit(3, reverse_states=False)\n",
    "q.add_gate(\"CNOT\", controls=[1], targets=[2])\n",
    "q.png"
   ]
  },
  {
   "cell_type": "markdown",
   "id": "afaeb7c0",
   "metadata": {},
   "source": [
    "Furthermore, the control and target qubits (when applicable) can also be similarly specified using keyword arguments `control` and `target` (or in some cases `controls` or `targets`):"
   ]
  },
  {
   "cell_type": "code",
   "execution_count": null,
   "id": "573c5409",
   "metadata": {},
   "outputs": [],
   "source": [
    "cnot(N=3, control=2, target=0)"
   ]
  },
  {
   "cell_type": "code",
   "execution_count": null,
   "id": "28c8c5a2",
   "metadata": {},
   "outputs": [],
   "source": [
    "q = QubitCircuit(3, reverse_states=False)\n",
    "q.add_gate(\"CNOT\", controls=[0], targets=[2])\n",
    "q.png"
   ]
  },
  {
   "cell_type": "markdown",
   "id": "ddf3c3aa",
   "metadata": {},
   "source": [
    "## Setup of a Qubit Circuit"
   ]
  },
  {
   "cell_type": "markdown",
   "id": "d629c613",
   "metadata": {},
   "source": [
    "The gates implemented in QuTiP can be used to build any qubit circuit using the class QubitCircuit. The output can be obtained in the form of a unitary matrix or a latex representation."
   ]
  },
  {
   "cell_type": "markdown",
   "id": "291346cd",
   "metadata": {},
   "source": [
    "In the following example, we take a SWAP gate. It is known that a swap gate is equivalent to three CNOT gates applied in the given format."
   ]
  },
  {
   "cell_type": "code",
   "execution_count": null,
   "id": "accf583b",
   "metadata": {},
   "outputs": [],
   "source": [
    "N = 2\n",
    "qc0 = QubitCircuit(N)\n",
    "qc0.add_gate(\"ISWAP\", [0, 1], None)\n",
    "qc0.png"
   ]
  },
  {
   "cell_type": "code",
   "execution_count": null,
   "id": "98332f0b",
   "metadata": {},
   "outputs": [],
   "source": [
    "U_list0 = qc0.propagators()\n",
    "U0 = gate_sequence_product(U_list0)\n",
    "U0"
   ]
  },
  {
   "cell_type": "code",
   "execution_count": null,
   "id": "196a9412",
   "metadata": {},
   "outputs": [],
   "source": [
    "qc1 = QubitCircuit(N)\n",
    "qc1.add_gate(\"CNOT\", 0, 1)\n",
    "qc1.add_gate(\"CNOT\", 1, 0)\n",
    "qc1.add_gate(\"CNOT\", 0, 1)\n",
    "qc1.png"
   ]
  },
  {
   "cell_type": "code",
   "execution_count": null,
   "id": "e72a192e",
   "metadata": {},
   "outputs": [],
   "source": [
    "U_list1 = qc1.propagators()\n",
    "U1 = gate_sequence_product(U_list1)\n",
    "U1"
   ]
  },
  {
   "cell_type": "markdown",
   "id": "904ef334",
   "metadata": {},
   "source": [
    "In place of manually converting the SWAP gate to CNOTs, it can be automatically converted using an inbuilt function in QubitCircuit"
   ]
  },
  {
   "cell_type": "code",
   "execution_count": null,
   "id": "4fde7e16",
   "metadata": {},
   "outputs": [],
   "source": [
    "qc2 = qc0.resolve_gates(\"CNOT\")\n",
    "qc2.png"
   ]
  },
  {
   "cell_type": "code",
   "execution_count": null,
   "id": "575c41af",
   "metadata": {},
   "outputs": [],
   "source": [
    "U_list2 = qc2.propagators()\n",
    "U2 = gate_sequence_product(U_list2)\n",
    "U2"
   ]
  },
  {
   "cell_type": "markdown",
   "id": "4827a022",
   "metadata": {},
   "source": [
    "From QuTiP 4.4, we can also add gate at arbitrary position in a circuit."
   ]
  },
  {
   "cell_type": "code",
   "execution_count": null,
   "id": "bdcdd1c1",
   "metadata": {},
   "outputs": [],
   "source": [
    "qc1.add_gate(\"CSIGN\", index=[1], targets=[0], controls=[1])\n",
    "qc1.png"
   ]
  },
  {
   "cell_type": "markdown",
   "id": "905ae61d",
   "metadata": {},
   "source": [
    "## Example of basis transformation"
   ]
  },
  {
   "cell_type": "code",
   "execution_count": null,
   "id": "da841e54",
   "metadata": {},
   "outputs": [],
   "source": [
    "qc3 = QubitCircuit(3)\n",
    "qc3.add_gate(\"CNOT\", 1, 0)\n",
    "qc3.add_gate(\"RX\", 0, None, pi / 2, r\"\\pi/2\")\n",
    "qc3.add_gate(\"RY\", 1, None, pi / 2, r\"\\pi/2\")\n",
    "qc3.add_gate(\"RZ\", 2, None, pi / 2, r\"\\pi/2\")\n",
    "qc3.add_gate(\"ISWAP\", [1, 2])\n",
    "qc3.png"
   ]
  },
  {
   "cell_type": "code",
   "execution_count": null,
   "id": "afd65e16",
   "metadata": {},
   "outputs": [],
   "source": [
    "U3 = gate_sequence_product(qc3.propagators())\n",
    "U3"
   ]
  },
  {
   "cell_type": "markdown",
   "id": "67cb9b45",
   "metadata": {},
   "source": [
    "### The transformation can either be only in terms of 2-qubit gates:"
   ]
  },
  {
   "cell_type": "code",
   "execution_count": null,
   "id": "4d07dedf",
   "metadata": {},
   "outputs": [],
   "source": [
    "qc4 = qc3.resolve_gates(\"CNOT\")\n",
    "qc4.png"
   ]
  },
  {
   "cell_type": "code",
   "execution_count": null,
   "id": "b4bf54eb",
   "metadata": {},
   "outputs": [],
   "source": [
    "U4 = gate_sequence_product(qc4.propagators())\n",
    "U4"
   ]
  },
  {
   "cell_type": "code",
   "execution_count": null,
   "id": "ebb0fe4f",
   "metadata": {},
   "outputs": [],
   "source": [
    "qc5 = qc3.resolve_gates(\"ISWAP\")\n",
    "qc5.png"
   ]
  },
  {
   "cell_type": "code",
   "execution_count": null,
   "id": "d7bcdb51",
   "metadata": {},
   "outputs": [],
   "source": [
    "U5 = gate_sequence_product(qc5.propagators())\n",
    "U5"
   ]
  },
  {
   "cell_type": "markdown",
   "id": "3c44f9f2",
   "metadata": {},
   "source": [
    "### Or the transformation can be in terms of any 2 single qubit rotation gates along with the 2-qubit gate."
   ]
  },
  {
   "cell_type": "code",
   "execution_count": null,
   "id": "a053199b",
   "metadata": {},
   "outputs": [],
   "source": [
    "qc6 = qc3.resolve_gates([\"ISWAP\", \"RX\", \"RY\"])\n",
    "qc6.png"
   ]
  },
  {
   "cell_type": "code",
   "execution_count": null,
   "id": "1960b1e9",
   "metadata": {},
   "outputs": [],
   "source": [
    "U6 = gate_sequence_product(qc6.propagators())\n",
    "U6"
   ]
  },
  {
   "cell_type": "code",
   "execution_count": null,
   "id": "b67dc530",
   "metadata": {},
   "outputs": [],
   "source": [
    "qc7 = qc3.resolve_gates([\"CNOT\", \"RZ\", \"RX\"])\n",
    "qc7.png"
   ]
  },
  {
   "cell_type": "code",
   "execution_count": null,
   "id": "cb23684a",
   "metadata": {},
   "outputs": [],
   "source": [
    "U7 = gate_sequence_product(qc7.propagators())\n",
    "U7"
   ]
  },
  {
   "cell_type": "markdown",
   "id": "4298b317",
   "metadata": {},
   "source": [
    "## Resolving non-adjacent interactions"
   ]
  },
  {
   "cell_type": "markdown",
   "id": "446686c5",
   "metadata": {},
   "source": [
    "Interactions between non-adjacent qubits can be resolved by QubitCircuit to a series of adjacent interactions, which is useful for systems such as spin chain models."
   ]
  },
  {
   "cell_type": "code",
   "execution_count": null,
   "id": "f645a125",
   "metadata": {},
   "outputs": [],
   "source": [
    "qc8 = QubitCircuit(3)\n",
    "qc8.add_gate(\"CNOT\", 2, 0)\n",
    "qc8.png"
   ]
  },
  {
   "cell_type": "code",
   "execution_count": null,
   "id": "c39d47d1",
   "metadata": {},
   "outputs": [],
   "source": [
    "U8 = gate_sequence_product(qc8.propagators())\n",
    "U8"
   ]
  },
  {
   "cell_type": "code",
   "execution_count": null,
   "id": "568989a0",
   "metadata": {},
   "outputs": [],
   "source": [
    "qc9 = qc8.adjacent_gates()\n",
    "qc9.gates"
   ]
  },
  {
   "cell_type": "code",
   "execution_count": null,
   "id": "c888395e",
   "metadata": {},
   "outputs": [],
   "source": [
    "U9 = gate_sequence_product(qc9.propagators())\n",
    "U9"
   ]
  },
  {
   "cell_type": "code",
   "execution_count": null,
   "id": "60841a5e",
   "metadata": {},
   "outputs": [],
   "source": [
    "qc10 = qc9.resolve_gates(\"CNOT\")\n",
    "qc10.png"
   ]
  },
  {
   "cell_type": "code",
   "execution_count": null,
   "id": "05214723",
   "metadata": {},
   "outputs": [],
   "source": [
    "U10 = gate_sequence_product(qc10.propagators())\n",
    "U10"
   ]
  },
  {
   "cell_type": "markdown",
   "id": "0fe0bd8e",
   "metadata": {},
   "source": [
    "## Adding gate in the middle of a circuit\n",
    "From QuTiP 4.4 one can add a gate at an arbitrary position of a circuit. All one needs to do is to specify the parameter index. With this, we can also add the same gate at multiple positions at the same time."
   ]
  },
  {
   "cell_type": "code",
   "execution_count": null,
   "id": "970a7409",
   "metadata": {},
   "outputs": [],
   "source": [
    "qc = QubitCircuit(1)\n",
    "qc.add_gate(\"RX\", targets=1, arg_value=np.pi / 2)\n",
    "qc.add_gate(\"RX\", targets=1, arg_value=np.pi / 2)\n",
    "qc.add_gate(\"RY\", targets=1, arg_value=np.pi / 2, index=[0])\n",
    "qc.gates"
   ]
  },
  {
   "cell_type": "markdown",
   "id": "227e5eab",
   "metadata": {},
   "source": [
    "## User defined gates\n",
    "From QuTiP 4.4 on, user defined gates can be defined by a python function that takes at most one parameter and return a `Qobj`, the dimension of the `Qobj` has to match the qubit system."
   ]
  },
  {
   "cell_type": "code",
   "execution_count": null,
   "id": "d1bb27b5",
   "metadata": {},
   "outputs": [],
   "source": [
    "def user_gate1(arg_value):\n",
    "    # controlled rotation X\n",
    "    mat = np.zeros((4, 4), dtype=np.complex)\n",
    "    mat[0, 0] = mat[1, 1] = 1.0\n",
    "    mat[2:4, 2:4] = rx(arg_value)\n",
    "    return Qobj(mat, dims=[[2, 2], [2, 2]])\n",
    "\n",
    "\n",
    "def user_gate2():\n",
    "    # S gate\n",
    "    mat = np.array([[1.0, 0], [0.0, 1.0j]])\n",
    "    return Qobj(mat, dims=[[2], [2]])"
   ]
  },
  {
   "cell_type": "markdown",
   "id": "65ea7253",
   "metadata": {},
   "source": [
    "To let the `QubitCircuit` process those gates, we need to modify its attribute `QubitCircuit.user_gates`, which is a python dictionary in the form `{name: gate_function}`."
   ]
  },
  {
   "cell_type": "code",
   "execution_count": null,
   "id": "bef44f95",
   "metadata": {},
   "outputs": [],
   "source": [
    "qc = QubitCircuit(2)\n",
    "qc.user_gates = {\"CTRLRX\": user_gate1, \"S\": user_gate2}"
   ]
  },
  {
   "cell_type": "markdown",
   "id": "29f6c72a",
   "metadata": {},
   "source": [
    "When calling the `add_gate` method, the target qubits and the argument need to be given."
   ]
  },
  {
   "cell_type": "code",
   "execution_count": null,
   "id": "b0ff9d21",
   "metadata": {},
   "outputs": [],
   "source": [
    "# qubit 0 controls qubit 1\n",
    "qc.add_gate(\"CTRLRX\", targets=[0, 1], arg_value=pi / 2)\n",
    "# qubit 1 controls qubit 0\n",
    "qc.add_gate(\"CTRLRX\", targets=[1, 0], arg_value=pi / 2)\n",
    "# a gate can also be added using the Gate class\n",
    "g_T = Gate(\"S\", targets=[1])\n",
    "qc.add_gate(\"S\", targets=[1])\n",
    "props = qc.propagators()"
   ]
  },
  {
   "cell_type": "code",
   "execution_count": null,
   "id": "65813154",
   "metadata": {},
   "outputs": [],
   "source": [
    "props[0]  # qubit 0 controls qubit 1"
   ]
  },
  {
   "cell_type": "code",
   "execution_count": null,
   "id": "baea3e61",
   "metadata": {},
   "outputs": [],
   "source": [
    "props[1]  # qubit 1 controls qubit 0"
   ]
  },
  {
   "cell_type": "code",
   "execution_count": null,
   "id": "d8bcc969",
   "metadata": {},
   "outputs": [],
   "source": [
    "props[2]  # S  gate acts on qubit 1"
   ]
  },
  {
   "cell_type": "markdown",
   "id": "bec692df",
   "metadata": {},
   "source": [
    "## Software versions"
   ]
  },
  {
   "cell_type": "code",
   "execution_count": null,
   "id": "8959742a",
   "metadata": {},
   "outputs": [],
   "source": [
    "about()"
   ]
  }
 ],
 "metadata": {
  "jupytext": {
   "cell_metadata_filter": "-all",
   "notebook_metadata_filter": "-jupytext.cell_metadata_filter,-jupytext.notebook_metadata_filter"
  },
  "kernelspec": {
   "display_name": "Python 3 (ipykernel)",
   "language": "python",
   "name": "python3"
  }
 },
 "nbformat": 4,
 "nbformat_minor": 5
}
