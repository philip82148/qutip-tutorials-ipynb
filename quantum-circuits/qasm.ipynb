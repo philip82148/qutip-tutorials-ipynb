{
 "cells": [
  {
   "cell_type": "code",
   "execution_count": null,
   "id": "ccc567c1",
   "metadata": {},
   "outputs": [],
   "source": [
    "!pip3 install qutip==4.7.3 qutip-qip==0.2.1 numpy==1.25.2 scipy==1.11.2 matplotlib==3.5.2 jupytext==1.13.8 black==22.3.0 flake8==4.0.1 nbqa==1.3.1 isort==5.10.1"
   ]
  },
  {
   "cell_type": "markdown",
   "id": "fcc0922d",
   "metadata": {},
   "source": [
    "# Imports and Exports QASM circuit\n",
    "\n",
    "Notebook Author: Sidhant Saraogi(sid1397@gmail.com)"
   ]
  },
  {
   "cell_type": "markdown",
   "id": "55243a34",
   "metadata": {},
   "source": [
    "This notebook introduces the [OpenQASM](https://github.com/Qiskit/openqasm) import and export functions. It can also serve as a short introduction to the QASM format. The Quantum Assembly Language(QASM) acts as an intermediate representation for Quantum Circuits. This is one way to export/import from/to with QuTiP. In this way, we can make the QIP module of QuTiP compatible with Qiskit and Cirq."
   ]
  },
  {
   "cell_type": "code",
   "execution_count": null,
   "id": "04d0df77",
   "metadata": {},
   "outputs": [],
   "source": [
    "import numpy as np\n",
    "from qutip import about, basis, rand_ket, tensor\n",
    "from qutip_qip.operations import Measurement\n",
    "from qutip_qip.operations.gates import gate_sequence_product\n",
    "from qutip_qip.qasm import read_qasm, print_qasm"
   ]
  },
  {
   "cell_type": "markdown",
   "id": "0d409cbf",
   "metadata": {},
   "source": [
    "The process is quite simple and only requires the user to store the `.qasm` file in an appropriate location and maintain the absolute path of the file. This will reading the file simpler. For this demonstration, we already saved a few qasm circuit examples in the directory qasm_files. You can find more examples at [OpenQASM repository](https://github.com/Qiskit/openqasm) Let's start off by reading one of the examples:"
   ]
  },
  {
   "cell_type": "code",
   "execution_count": null,
   "id": "5ea65fba",
   "metadata": {},
   "outputs": [],
   "source": [
    "path = \"qasm_files/swap.qasm\"\n",
    "qasm_file = open(path, \"r\")\n",
    "print(qasm_file.read())"
   ]
  },
  {
   "cell_type": "markdown",
   "id": "bb1efb39",
   "metadata": {},
   "source": [
    "## Qasm Import"
   ]
  },
  {
   "cell_type": "markdown",
   "id": "8bda5fd9",
   "metadata": {},
   "source": [
    "This QASM file imitates the SWAP gate native to QuTiP in the QASM format. To import it, we use the `read_qasm` function with the arguments being the file path, the `mode` which defaults to \"qiskit\" and the `version` which defaults to \"2.0\".  \n",
    "\n",
    "We can check that the circuit indeed implements the swap gate by checking the unitary matrix corresponding\n",
    "to the circuit. This can be done by using the `gate_sequence_product` function and the `propagators` function of the \n",
    "`QubitCircuit` class. "
   ]
  },
  {
   "cell_type": "code",
   "execution_count": null,
   "id": "70eafc13",
   "metadata": {},
   "outputs": [],
   "source": [
    "qc = read_qasm(path, mode=\"qiskit\", version=\"2.0\")\n",
    "gate_sequence_product(qc.propagators())"
   ]
  },
  {
   "cell_type": "markdown",
   "id": "09d41c90",
   "metadata": {},
   "source": [
    "The `mode` refers to the internal way in which QuTiP processes the QASM files. \n",
    "With \"qiskit\" mode, QASM skips the include command for the file qelib1.inc and maps all custom gates defined in it to QuTiP gates without parsing the gate definitions. \n",
    "\n",
    "**Note**: \"qelib1.inc\" is a \"header\" file that contains some QASM gate definitions. It is available in the OpenQASM repository (as a standard file) and is included with QASM exports by QuTiP (and also by Qiskit/Cirq).\n",
    "\n",
    "The `version` refers to the version of the OpenQASM standard being processed. The documentation for the same can be found in the [OpenQASM](https://github.com/Qiskit/openqasm) repository. Currently, only OpenQASM 2.0 is supported which is the most popular QASM standard. "
   ]
  },
  {
   "cell_type": "markdown",
   "id": "00a0e16d",
   "metadata": {},
   "source": [
    "### QASM Export\n",
    "\n",
    "We can also convert a `QubitCircuit` to the QASM format. This can be particularly useful when we are trying to export quantum circuits to other quantum packages such as Qiskit and Cirq. There are three different ways to output QASM files, `print_qasm`, `str_qasm` and `write_qasm`.  "
   ]
  },
  {
   "cell_type": "code",
   "execution_count": null,
   "id": "bceeb841",
   "metadata": {},
   "outputs": [],
   "source": [
    "print_qasm(qc)"
   ]
  },
  {
   "cell_type": "markdown",
   "id": "f1e93378",
   "metadata": {},
   "source": [
    "### Custom Gates\n",
    "\n",
    "QASM also offers the option to define custom gates in terms of already defined gates using the \"gate\" keyword. In \"qiskit\" mode, our QASM interpreter can be assumed to already allow for all the gates defined in the file [stdgates.inc](https://github.com/openqasm/openqasm/blob/main/examples/stdgates.inc) provided by the OpenQASM repository.\n",
    "\n",
    "In the file `swap_custom.qasm`, we define the `swap` gate in terms of the pre-defined `cx` gates."
   ]
  },
  {
   "cell_type": "code",
   "execution_count": null,
   "id": "adfb1020",
   "metadata": {},
   "outputs": [],
   "source": [
    "path = \"qasm_files/swap_custom.qasm\"\n",
    "qasm_file = open(path, \"r\")\n",
    "print(qasm_file.read())"
   ]
  },
  {
   "cell_type": "markdown",
   "id": "4175a64a",
   "metadata": {},
   "source": [
    "Furthermore, the circuit also measures the two qubits q[0] and q[1] and stores the results in the classical registers c[0] and c[1]"
   ]
  },
  {
   "cell_type": "code",
   "execution_count": null,
   "id": "ecb4dc1d",
   "metadata": {},
   "outputs": [],
   "source": [
    "qc = read_qasm(path)"
   ]
  },
  {
   "cell_type": "markdown",
   "id": "0e6f2e41",
   "metadata": {},
   "source": [
    "We can now run the circuit to confirm that the circuit is correctly loaded and performs the correct operations. To do this, we can use the `QubitCircuit.run` function with the appropriate input state. In our case, we can take the state `|01⟩`. "
   ]
  },
  {
   "cell_type": "code",
   "execution_count": null,
   "id": "e90f8557",
   "metadata": {},
   "outputs": [],
   "source": [
    "qc.run(tensor(basis(2, 0), basis(2, 1)))"
   ]
  },
  {
   "cell_type": "markdown",
   "id": "c4da5cf6",
   "metadata": {},
   "source": [
    "As predicted the output is the state after swapping which is `|10⟩`"
   ]
  },
  {
   "cell_type": "markdown",
   "id": "f4336b64",
   "metadata": {},
   "source": [
    "### Measurements and Classical Control\n",
    "\n",
    "The QASM format also allows for other circuit features such as measurement and control of gates by classical bits. \n",
    "This is also supported by QuTiP. For an example, we can refer to the example of quantum teleportation. A more complete explanation of teleportation can be found in the [notebook](teleportation.md) on quantum teleportation."
   ]
  },
  {
   "cell_type": "code",
   "execution_count": null,
   "id": "88e0e236",
   "metadata": {},
   "outputs": [],
   "source": [
    "path = \"qasm_files/teleportation.qasm\"\n",
    "qasm_file = open(path, \"r\")\n",
    "qasm_str = qasm_file.read()\n",
    "print(qasm_str)"
   ]
  },
  {
   "cell_type": "markdown",
   "id": "61ace8cc",
   "metadata": {},
   "source": [
    " We can also read in a QASM file from a string by specifying `strmode=True` to `read_qasm`"
   ]
  },
  {
   "cell_type": "code",
   "execution_count": null,
   "id": "8fc6a80e",
   "metadata": {},
   "outputs": [],
   "source": [
    "teleportation = read_qasm(qasm_str, strmode=True)"
   ]
  },
  {
   "cell_type": "markdown",
   "id": "1f04adb9",
   "metadata": {},
   "source": [
    "**Note**: \n",
    "The above warning is expected to inform the user that the import from QASM to QuTiP does not retain any information about the different qubit/classical bit register names. This could potentially be an issue when the circuit is exported if the user wants to maintain the consistency. "
   ]
  },
  {
   "cell_type": "markdown",
   "id": "bc7d5a05",
   "metadata": {},
   "source": [
    "We can quickly check that the teleportation circuit works properly by teleporting the first qubit into the third qubit. "
   ]
  },
  {
   "cell_type": "code",
   "execution_count": null,
   "id": "d958c44f",
   "metadata": {},
   "outputs": [],
   "source": [
    "state = tensor(rand_ket(2), basis(2, 0), basis(2, 0))\n",
    "\n",
    "initial_measurement = Measurement(\"start\", targets=[0])\n",
    "_, initial_probabilities = initial_measurement.measurement_comp_basis(state)\n",
    "\n",
    "state_final = teleportation.run(state)\n",
    "\n",
    "final_measurement = Measurement(\"start\", targets=[2])\n",
    "_, final_probabilities = final_measurement.measurement_comp_basis(state_final)\n",
    "\n",
    "np.testing.assert_allclose(initial_probabilities, final_probabilities)"
   ]
  },
  {
   "cell_type": "markdown",
   "id": "7f4ba7b1",
   "metadata": {},
   "source": [
    "**Note**: Custom gates imported in the QASM format cannot be easily exported. Currently, only gates that are defined native to QuTiP can be exported. QuTiP also produces custom gate definitions for gates not provided in the `qelib1.inc` \"header\" file. In these cases, QuTiP will add it's own gate definitions directly to the the exported `.qasm` file but this is restricted only to already gates native to QuTiP. \n",
    "Export from QuTiP handles both gates and measurements. However, it does not allow for export of controlled gates. "
   ]
  },
  {
   "cell_type": "code",
   "execution_count": null,
   "id": "40e30978",
   "metadata": {},
   "outputs": [],
   "source": [
    "about()"
   ]
  }
 ],
 "metadata": {
  "jupytext": {
   "cell_metadata_filter": "-all",
   "notebook_metadata_filter": "-jupytext.cell_metadata_filter,-jupytext.notebook_metadata_filter"
  },
  "kernelspec": {
   "display_name": "Python 3 (ipykernel)",
   "language": "python",
   "name": "python3"
  }
 },
 "nbformat": 4,
 "nbformat_minor": 5
}
