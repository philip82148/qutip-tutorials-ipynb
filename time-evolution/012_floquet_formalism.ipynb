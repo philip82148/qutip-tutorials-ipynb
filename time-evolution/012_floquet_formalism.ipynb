{
 "cells": [
  {
   "cell_type": "code",
   "execution_count": null,
   "id": "ccc567c1",
   "metadata": {},
   "outputs": [],
   "source": [
    "!pip3 install qutip==4.7.3 qutip-qip==0.3.0 numpy==1.25.2 scipy==1.11.2 matplotlib==3.5.2 jupytext==1.13.8 black==22.3.0 flake8==4.0.1 nbqa==1.3.1 isort==5.10.1"
   ]
  },
  {
   "cell_type": "markdown",
   "id": "ecfb0778",
   "metadata": {},
   "source": [
    "# Floquet Formalism\n",
    "\n",
    "Author: C. Staufenbiel, 2022\n",
    "\n",
    "inspirations taken from the [Floquet notebook](https://github.com/qutip/qutip-notebooks/blob/master/examples/floquet-dynamics.ipynb) by P.D. Nation and J.R. Johannson,\n",
    "\n",
    "and the [qutip documentation](https://qutip.org/docs/latest/guide/dynamics/dynamics-floquet.html).\n",
    "\n",
    "### Introduction\n",
    "In the [floquet_solver notebook](011_floquet_solver.md) we introduced the two functions to solve the Schrödinger and Master equation using the Floquet formalism. In this notebook, we will focus on the internal functions of these solvers, that implement the Floquet formalism in QuTiP. Here, we will focus on the `Floquet modes` and the `quasienergies`.\n",
    "\n",
    "More information on the implementation of the Floquet Formalism in QuTiP can be found in the [documentation](https://qutip.org/docs/latest/guide/dynamics/dynamics-floquet.html).\n",
    "\n",
    "### Imports "
   ]
  },
  {
   "cell_type": "code",
   "execution_count": null,
   "id": "2b5a1f81",
   "metadata": {},
   "outputs": [],
   "source": [
    "import matplotlib.pyplot as plt\n",
    "import numpy as np\n",
    "from qutip import (about, expect, floquet_markov_mesolve,\n",
    "                   floquet_master_equation_rates,\n",
    "                   floquet_master_equation_tensor, floquet_modes,\n",
    "                   floquet_modes_t, floquet_modes_t_lookup,\n",
    "                   floquet_modes_table, floquet_state_decomposition,\n",
    "                   floquet_wavefunction, floquet_wavefunction_t, fmmesolve,\n",
    "                   ket2dm, num, plot_wigner, rand_ket, sesolve, sigmax, sigmaz)"
   ]
  },
  {
   "cell_type": "markdown",
   "id": "62e92a09",
   "metadata": {},
   "source": [
    "### System setup\n",
    "For consistency with the documentation we consider the driven system with the following Hamiltonian: \n",
    "\n",
    "$$ H = - \\frac{\\Delta}{2} \\sigma_x - \\frac{\\epsilon_0}{2} \\sigma_z + \\frac{A}{2} \\sigma_x sin(\\omega t) $$"
   ]
  },
  {
   "cell_type": "code",
   "execution_count": null,
   "id": "95f94daf",
   "metadata": {},
   "outputs": [],
   "source": [
    "# Constants\n",
    "delta = 0.2 * 2 * np.pi\n",
    "eps0 = 1 * 2 * np.pi\n",
    "A = 2.5 * 2 * np.pi\n",
    "omega = 1.0 * 2 * np.pi\n",
    "T = 2 * np.pi / omega\n",
    "\n",
    "# Hamiltonian\n",
    "H = [\n",
    "    -delta / 2.0 * sigmax() - eps0 / 2.0 * sigmaz(),\n",
    "    [A / 2 * sigmax(), \"sin({w}*t)\".format(w=omega)],\n",
    "]"
   ]
  },
  {
   "cell_type": "markdown",
   "id": "52316082",
   "metadata": {},
   "source": [
    "### Floquet modes and quasienergies\n",
    "For periodic Hamiltonians the solution to the Schrödinger equation can be represented by the Floquet modes $\\phi_\\alpha(t)$ and the quasienergies $\\epsilon_\\alpha$. We can obtain these for the initial time $t=0$ by using the function `floquet_modes()`. We can display for example the first Floquet mode at $t=0$ using a Wigner distribution."
   ]
  },
  {
   "cell_type": "code",
   "execution_count": null,
   "id": "0bd7ce55",
   "metadata": {},
   "outputs": [],
   "source": [
    "f_modes0, f_energies = floquet_modes(H, T)\n",
    "plot_wigner(f_modes0[0]);"
   ]
  },
  {
   "cell_type": "markdown",
   "id": "557e41ac",
   "metadata": {},
   "source": [
    "For the system defined above there are two eigenenergies. For the defined system, we can plot the two quasienergies for varying strength of driving $A$."
   ]
  },
  {
   "cell_type": "code",
   "execution_count": null,
   "id": "ee49199e",
   "metadata": {},
   "outputs": [],
   "source": [
    "A_list = np.linspace(1.0 * omega, 4.5 * omega, 20)\n",
    "quasienergies1, quasienergies2 = [], []\n",
    "for A_tmp in A_list:\n",
    "    # temporary Hamiltonian\n",
    "    H_tmp = [\n",
    "        -delta / 2.0 * sigmax() - eps0 / 2.0 * sigmaz(),\n",
    "        [A_tmp / 2 * sigmax(), \"sin({w}*t)\".format(w=omega)],\n",
    "    ]\n",
    "    # floquet modes and quasienergies\n",
    "    _, (e1, e2) = floquet_modes(H_tmp, T, sort=True)\n",
    "    quasienergies1.append(e1), quasienergies2.append(e2)"
   ]
  },
  {
   "cell_type": "code",
   "execution_count": null,
   "id": "aebb654b",
   "metadata": {},
   "outputs": [],
   "source": [
    "plt.scatter(A_list / omega, quasienergies1, label=\"e1\")\n",
    "plt.scatter(A_list / omega, quasienergies2, label=\"e2\")\n",
    "plt.xlabel(\"A / w\"), plt.ylabel(\"Quasienergies\")\n",
    "plt.legend();"
   ]
  },
  {
   "cell_type": "markdown",
   "id": "dcc65ba6",
   "metadata": {},
   "source": [
    "### Time evolution with Floquet mode\n",
    "To calculate the time evolution of a random initial state $\\psi(0)$, we have to decompose the state in the Floquet basis (formed by the Floquet modes).\n",
    "\n",
    "$$ \\psi(0) = \\sum_\\alpha c_\\alpha \\phi_\\alpha(0) $$\n",
    "\n",
    "The $c_\\alpha$ are calculated by `floquet_state_decomposition`."
   ]
  },
  {
   "cell_type": "code",
   "execution_count": null,
   "id": "ee673d8f",
   "metadata": {},
   "outputs": [],
   "source": [
    "# Decompose initial state\n",
    "psi0 = rand_ket(2)\n",
    "f_coeff = floquet_state_decomposition(f_modes0, f_energies, psi0)"
   ]
  },
  {
   "cell_type": "markdown",
   "id": "2071c542",
   "metadata": {},
   "source": [
    "The Floquet mode $\\phi_\\alpha(t)$ for later times $t>0$ can be calculated using the wave function propagator $U(t,0)$ by:\n",
    "\n",
    "$$ \\phi_\\alpha(t) = exp(-i\\epsilon_\\alpha t / \\hbar) \\, U(t,0) \\, \\phi_\\alpha(0) $$\n",
    "\n",
    "In QuTiP this is done by the `floquet_modes_t` function. Here we propagate the initial state to the state at $t=1$."
   ]
  },
  {
   "cell_type": "code",
   "execution_count": null,
   "id": "ca8a855d",
   "metadata": {},
   "outputs": [],
   "source": [
    "t = 1.0\n",
    "f_modes1 = floquet_modes_t(f_modes0, f_energies, t, H, T)\n",
    "f_modes1"
   ]
  },
  {
   "cell_type": "markdown",
   "id": "4538576d",
   "metadata": {},
   "source": [
    "The propagated Floquet modes $\\phi_\\alpha(t)$ can be combined to describe the full system state $\\psi(t)$ at the time t. This combination can be done by `floquet_wavefunction`."
   ]
  },
  {
   "cell_type": "code",
   "execution_count": null,
   "id": "dda622f3",
   "metadata": {},
   "outputs": [],
   "source": [
    "psi_t = floquet_wavefunction(f_modes1, f_energies, f_coeff, t)"
   ]
  },
  {
   "cell_type": "markdown",
   "id": "24ed1cc0",
   "metadata": {},
   "source": [
    "Instead of propagating the Floquet modes and building them together manually, we can use the Floquet coefficients `f_coeff` from the initial state decomposition to calculate the propagated system state $\\psi(t)$ by using `floquet_wavefunction_t`. This evolution is similar to the manual evolution above."
   ]
  },
  {
   "cell_type": "code",
   "execution_count": null,
   "id": "c8f2898e",
   "metadata": {},
   "outputs": [],
   "source": [
    "psi_t_direct = floquet_wavefunction_t(f_modes0, f_energies, f_coeff, t, H, T)\n",
    "assert np.allclose(psi_t.full(), psi_t_direct.full())"
   ]
  },
  {
   "cell_type": "markdown",
   "id": "1b961593",
   "metadata": {},
   "source": [
    "### Precomputing and reusing the Floquet modes of one period\n",
    "\n",
    "The Floquet modes have the same periodicity as the Hamiltonian: \n",
    "\n",
    "$$ \\phi_\\alpha(t + T) = \\phi_\\alpha(t) $$\n",
    "\n",
    "Hence it is enough to evaluate the modes at times $t \\in [0,T]$. From these modes we can extrapolate the system state $\\psi(t)$ for any time $t$. \n",
    "\n",
    "The function `floquet_modes_table` allows to calculate the Floquet modes for multiple times in the first period. \n"
   ]
  },
  {
   "cell_type": "code",
   "execution_count": null,
   "id": "bbd6ac66",
   "metadata": {},
   "outputs": [],
   "source": [
    "tlist_period = np.linspace(0, T, 50)\n",
    "fmodes_table = floquet_modes_table(f_modes0, f_energies, tlist_period, H, T)"
   ]
  },
  {
   "cell_type": "markdown",
   "id": "23bac8df",
   "metadata": {},
   "source": [
    "Again, the function `floquet_wavefunction` (introduced above) can be used to build the wavefunction $\\psi(t)$. Here, we calculate the expectation value for the number operator in the first period."
   ]
  },
  {
   "cell_type": "code",
   "execution_count": null,
   "id": "ba221a75",
   "metadata": {},
   "outputs": [],
   "source": [
    "p_ex_period = []\n",
    "for i, t in enumerate(tlist_period):\n",
    "    psi_t = floquet_wavefunction(fmodes_table[i], f_energies, f_coeff, t)\n",
    "    p_ex_period.append(expect(num(2), psi_t))\n",
    "plt.plot(tlist_period, p_ex_period)\n",
    "plt.ylabel(\"Occupation prob.\"), plt.xlabel(\"Time\");"
   ]
  },
  {
   "cell_type": "markdown",
   "id": "c6a7f9ab",
   "metadata": {},
   "source": [
    "The pre-computed modes for the first period can be used by the function `floquet_modes_t_lookup` to calculate the Floquet modes at any time $t > 0$. Note that if a time $t'$ is not exactly $t' = t + nT$ (where $t$ is a time used in the pre-computation) the closest pre-computed Floquet mode is used. This might lead to small discontinuoties in the results from the lookup."
   ]
  },
  {
   "cell_type": "code",
   "execution_count": null,
   "id": "987d5a6c",
   "metadata": {},
   "outputs": [],
   "source": [
    "p_ex = []\n",
    "tlist = np.linspace(0, 10 * T, 10 * tlist_period.shape[0])\n",
    "for n, t in enumerate(tlist):\n",
    "    f_modes_t = floquet_modes_t_lookup(fmodes_table, t, T)\n",
    "    psi_t = floquet_wavefunction(f_modes_t, f_energies, f_coeff, t)\n",
    "    p_ex.append(expect(num(2), psi_t))\n",
    "\n",
    "# Plot the occupation Probability\n",
    "plt.plot(tlist, p_ex, label=\"Lookup method\")\n",
    "plt.plot(tlist_period, p_ex_period, label=\"First period - precomputed\")\n",
    "plt.legend(loc=\"upper right\")\n",
    "plt.xlabel(\"Time\"), plt.ylabel(\"Occupation prob.\");"
   ]
  },
  {
   "cell_type": "markdown",
   "id": "8441f611",
   "metadata": {},
   "source": [
    "### Floquet Markov formalism\n",
    "\n",
    "We can also solve a master equation using the Floquet formalism. A detailed derivation of the Floquet-Markov formalism used here is given in [Grifoni et al., Physics Reports 304, 299 (1998)](https://www.sciencedirect.com/science/article/abs/pii/S0370157398000222) and in the [QuTiP docs](https://qutip.org/docs/latest/guide/dynamics/dynamics-floquet.html). Note that the functionality described here is summarised in the function `fmmesolve` described in the [floquet solver notebook](011_floquet_solver.md).\n",
    "\n",
    "The interaction with the bath is described by a noise spectrum, which does not include the temperature dependency. The temperature dependency can be passed to `fmmesolve` using the keyword `w_th` in the `args` parameter: `args[w_th]`. Hence, the definition is slightly different to the one in the Bloch-Redfield formalism. For details see the derivation of the formalism."
   ]
  },
  {
   "cell_type": "markdown",
   "id": "b21cbb66",
   "metadata": {},
   "source": [
    "Here we define a simple linear noise spectrum: \n",
    "\n",
    "$$ S(\\omega) = \\frac{\\gamma \\cdot \\omega}{4 \\pi} $$\n",
    "\n",
    "where $\\gamma$ is the dissipation rate. We use $\\sigma_x$ as a coupling operator between system and bath."
   ]
  },
  {
   "cell_type": "code",
   "execution_count": null,
   "id": "cf562fce",
   "metadata": {},
   "outputs": [],
   "source": [
    "# Noise Spectral Density\n",
    "gamma = 0.1\n",
    "\n",
    "\n",
    "def noise_spectrum(omega):\n",
    "    return gamma * omega / (4 * np.pi)\n",
    "\n",
    "\n",
    "# Coupling Operator\n",
    "c_ops = [sigmax()]\n",
    "\n",
    "# bath temperature\n",
    "temp = 10.0\n",
    "args = {\"w_th\": temp}"
   ]
  },
  {
   "cell_type": "markdown",
   "id": "0b7be152",
   "metadata": {},
   "source": [
    "The Floquet Markov approach starts by calculating rates, that describe the dissipation process of the system with the given spectrum and temperature of the bath. Especially important is `Amat`, which is later used to calculate the Floquet tensor for the master equation. \n",
    "\n",
    "In theory the matrix is defined as an infinite sum (see [docs](https://qutip.org/docs/latest/guide/dynamics/dynamics-floquet.html)). However, in QuTiP the sidebands need to be truncated to create a finite sum. This is done with the `kmax` argument."
   ]
  },
  {
   "cell_type": "code",
   "execution_count": null,
   "id": "15609e9d",
   "metadata": {},
   "outputs": [],
   "source": [
    "kmax = 20\n",
    "\n",
    "Delta, X, Gamma, Amat = floquet_master_equation_rates(\n",
    "    f_modes0, f_energies, c_ops[0], H, T, args, noise_spectrum,\n",
    "    temp, kmax, fmodes_table\n",
    ")"
   ]
  },
  {
   "cell_type": "markdown",
   "id": "e6da1e3f",
   "metadata": {},
   "source": [
    "Together with the quasienergies, the tensor for the Floquet master equation can be calculated."
   ]
  },
  {
   "cell_type": "code",
   "execution_count": null,
   "id": "624bea7b",
   "metadata": {},
   "outputs": [],
   "source": [
    "R = floquet_master_equation_tensor(Amat, f_energies)"
   ]
  },
  {
   "cell_type": "markdown",
   "id": "79f34510",
   "metadata": {},
   "source": [
    "We can pass in the tensor, initial state, expectation value and expectation operator into the `floquet_markov_mesolve` function and obtain the time evolution of the system (i.e. expectation operator) using the Floquet formalism. "
   ]
  },
  {
   "cell_type": "code",
   "execution_count": null,
   "id": "c1d1a1db",
   "metadata": {},
   "outputs": [],
   "source": [
    "res_fme_manual = floquet_markov_mesolve(\n",
    "    R,\n",
    "    ket2dm(psi0),\n",
    "    tlist,\n",
    "    [num(2)],\n",
    "    floquet_basis=False,\n",
    "    f_modes_0=f_modes0,\n",
    "    f_modes_table_t=fmodes_table,\n",
    "    T=T,\n",
    "    f_energies=f_energies,\n",
    ")"
   ]
  },
  {
   "cell_type": "markdown",
   "id": "74dc4bdd",
   "metadata": {},
   "source": [
    "The functionality explained above is summarised in the `fmmesolve` function, which was introduced in the [other Floquet notebook](011_floquet_solver.md). Here, we also use this function to compare to our manual computation."
   ]
  },
  {
   "cell_type": "code",
   "execution_count": null,
   "id": "932acb08",
   "metadata": {},
   "outputs": [],
   "source": [
    "# Solve using Fmmesolve\n",
    "fme_result = fmmesolve(\n",
    "    H,\n",
    "    psi0,\n",
    "    tlist,\n",
    "    c_ops=c_ops,\n",
    "    spectra_cb=[noise_spectrum],\n",
    "    e_ops=[num(2)],\n",
    "    T=T,\n",
    "    args=args,\n",
    "    floquet_basis=False,\n",
    ")\n",
    "\n",
    "plt.plot(tlist, res_fme_manual.expect[0], label=\"Manual Fmmesolve\")\n",
    "plt.plot(tlist, fme_result.expect[0], \"--\", label=\"fmmesolve\")\n",
    "plt.xlabel(\"Time\"), plt.ylabel(\"<n>\"), plt.legend();"
   ]
  },
  {
   "cell_type": "markdown",
   "id": "ed2fcd29",
   "metadata": {},
   "source": [
    "### About"
   ]
  },
  {
   "cell_type": "code",
   "execution_count": null,
   "id": "afc0c294",
   "metadata": {},
   "outputs": [],
   "source": [
    "about()"
   ]
  },
  {
   "cell_type": "markdown",
   "id": "62e24806",
   "metadata": {},
   "source": [
    "## Testing"
   ]
  },
  {
   "cell_type": "code",
   "execution_count": null,
   "id": "39bda879",
   "metadata": {},
   "outputs": [],
   "source": [
    "assert np.allclose(fme_result.expect[0], res_fme_manual.expect[0], atol=0.1)\n",
    "assert np.std(fme_result.expect[0][0: tlist_period.shape[0]]) > np.std(\n",
    "    fme_result.expect[0][-tlist_period.shape[0]: -1]\n",
    ")\n",
    "# compute prediction using sesolve\n",
    "res_sesolve = sesolve(H, psi0, tlist, [num(2)])\n",
    "assert np.allclose(res_sesolve.expect[0], p_ex, atol=0.15)"
   ]
  }
 ],
 "metadata": {
  "jupytext": {
   "cell_metadata_filter": "-all",
   "notebook_metadata_filter": "-jupytext.cell_metadata_filter,-jupytext.notebook_metadata_filter"
  },
  "kernelspec": {
   "display_name": "Python 3 (ipykernel)",
   "language": "python",
   "name": "python3"
  }
 },
 "nbformat": 4,
 "nbformat_minor": 5
}
