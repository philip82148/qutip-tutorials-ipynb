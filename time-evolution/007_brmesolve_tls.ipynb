{
 "cells": [
  {
   "cell_type": "code",
   "execution_count": null,
   "id": "ccc567c1",
   "metadata": {},
   "outputs": [],
   "source": [
    "!pip3 install qutip==4.7.3 qutip-qip==0.2.1 numpy==1.25.2 scipy==1.11.2 matplotlib==3.5.2 jupytext==1.13.8 black==22.3.0 flake8==4.0.1 nbqa==1.3.1 isort==5.10.1"
   ]
  },
  {
   "cell_type": "markdown",
   "id": "05ad8789",
   "metadata": {},
   "source": [
    "# Bloch-Redfield Solver: Two Level System\n",
    "\n",
    "Author: C.Staufenbiel, 2022\n",
    "\n",
    "with inspirations from the [`brmesolve notebook`](https://github.com/qutip/qutip-notebooks/blob/master/examples/brmesolve.ipynb) by P.D. Nation.\n",
    "\n",
    "\n",
    "### Introduction\n",
    "\n",
    "The Bloch-Redfield solver is another method to solve a master equation. In comparison to the Lindblad Master equation solver `qutip.mesolve()` the Bloch-Redfield solver `qutip.brmesolve()` differs in the description of the interaction with the environment. In `qutip.mesolve()` we described the dissipation by collapse operators, which do not necessarily have a physical interpretation. The `qutip.brmesolve()` function requires the a dissipation description by the so-called *noise-power-spectrum*, which gives the intensity of the dissipation depending on the frequency $\\omega$.\n",
    "\n",
    "In this notebook we will introduce the basic usage of `qutip.brmesolve()` and compare it to `qutip.mesolve()`. For more information on the Bloch-Redfield solver see the follow-up notebooks and the [QuTiP Documentation of the functionality](https://qutip.org/docs/latest/guide/dynamics/dynamics-bloch-redfield.html).\n",
    "\n",
    "### Imports"
   ]
  },
  {
   "cell_type": "code",
   "execution_count": null,
   "id": "deb470f3",
   "metadata": {
    "lines_to_next_cell": 0
   },
   "outputs": [],
   "source": [
    "import matplotlib.pyplot as plt\n",
    "import numpy as np\n",
    "from qutip import (about, basis, bloch_redfield_tensor, brmesolve, expect,\n",
    "                   hinton, liouvillian, mesolve, plot_expectation_values,\n",
    "                   sigmam, sigmax, sigmay, sigmaz, steadystate)\n",
    "\n",
    "%matplotlib inline"
   ]
  },
  {
   "cell_type": "markdown",
   "id": "fc8834b4",
   "metadata": {},
   "source": [
    "\n"
   ]
  },
  {
   "cell_type": "markdown",
   "id": "b4b5b847",
   "metadata": {},
   "source": [
    "## Two-level system evolution\n",
    "\n",
    "In this example we consider a simple two level system described by the Hamiltonian:\n",
    "\n",
    "$$ H = \\frac{\\epsilon}{2} \\sigma_z$$\n",
    "\n",
    "Furthermore, we define a constant dissipation rate to the environment $\\gamma$."
   ]
  },
  {
   "cell_type": "code",
   "execution_count": null,
   "id": "fd12a629",
   "metadata": {},
   "outputs": [],
   "source": [
    "epsilon = 0.5 * 2 * np.pi\n",
    "gamma = 0.25\n",
    "times = np.linspace(0, 10, 100)"
   ]
  },
  {
   "cell_type": "markdown",
   "id": "1ce60090",
   "metadata": {},
   "source": [
    "Setup the Hamiltonian, initial state and collapse operators for the `qutip.mesolve()` function. We choose a superposition of states as initial state and want to observe the expectation values of $\\sigma_x, \\sigma_y, \\sigma_z$."
   ]
  },
  {
   "cell_type": "code",
   "execution_count": null,
   "id": "1101bf88",
   "metadata": {},
   "outputs": [],
   "source": [
    "# Setup Hamiltonian and initial state\n",
    "H = epsilon / 2 * sigmaz()\n",
    "psi0 = (2 * basis(2, 0) + basis(2, 1)).unit()\n",
    "\n",
    "# Setup the master equation solver\n",
    "c_ops = [np.sqrt(gamma) * sigmam()]\n",
    "e_ops = [sigmax(), sigmay(), sigmaz()]\n",
    "result_me = mesolve(H, psi0, times, c_ops, e_ops)"
   ]
  },
  {
   "cell_type": "markdown",
   "id": "7a53ecba",
   "metadata": {},
   "source": [
    "For the `qutip.brmesolve` function we have to give the interaction of the system with the bath as a hermitian operator together with a noise power spectrum, which defines the strength of the interaction per frequency. Here we define a constant interaction whenever the frequency is positive and no dissipation for negative frequencies. This allows us to use `sigmax()` ( a hermitian operator) instead of the non-hermitian operator `sigmam` used above.\n",
    "\n",
    "The usage of hermitian operators simplifies the internal numerical implementation and leads to vanishing cross-correlations between different environment operators (if multiple are given)."
   ]
  },
  {
   "cell_type": "code",
   "execution_count": null,
   "id": "3d13357d",
   "metadata": {},
   "outputs": [],
   "source": [
    "a_op = [sigmax(), lambda w: gamma * (w > 0.0)]"
   ]
  },
  {
   "cell_type": "markdown",
   "id": "b58287e2",
   "metadata": {},
   "source": [
    "Instead of the `c_ops` we now pass the `a_ops` to the Bloch-Redfield solver."
   ]
  },
  {
   "cell_type": "code",
   "execution_count": null,
   "id": "4ea6b63c",
   "metadata": {},
   "outputs": [],
   "source": [
    "result_brme = brmesolve(H, psi0, times, [a_op], e_ops)"
   ]
  },
  {
   "cell_type": "markdown",
   "id": "6af94389",
   "metadata": {},
   "source": [
    "We can now compare the expectation values for every operator we passed to the solvers in `e_ops`. As expected both solvers, `mesolve` and `brmesolve`, produce similar results."
   ]
  },
  {
   "cell_type": "code",
   "execution_count": null,
   "id": "384f7377",
   "metadata": {},
   "outputs": [],
   "source": [
    "plot_expectation_values(\n",
    "    [result_me, result_brme], ylabels=[\"<X>\", \"<Y>\", \"<Z>\"], show_legend=True\n",
    ");"
   ]
  },
  {
   "cell_type": "markdown",
   "id": "a64d153a",
   "metadata": {},
   "source": [
    "## Storing States instead of expectation values\n",
    "As for the other solvers provided in QuTiP, we can obtain the density matrices at each defined time step instead of some expectation values. To do so, we pass an empty list as `e_ops` argument. If you want to calculate expectation values (i.e. non-empty `e_ops`) and obtain the states at the same time you can also pass `options={\"store_states\": True}` to the solver functions."
   ]
  },
  {
   "cell_type": "code",
   "execution_count": null,
   "id": "2fa72503",
   "metadata": {},
   "outputs": [],
   "source": [
    "# run solvers without e_ops\n",
    "me_s = mesolve(H, psi0, times, c_ops, e_ops=[])\n",
    "brme_s = brmesolve(H, psi0, times, [a_op], e_ops=[])\n",
    "\n",
    "# calculate expecation values\n",
    "x_me = expect(sigmax(), me_s.states)\n",
    "x_brme = expect(sigmax(), brme_s.states)\n",
    "\n",
    "# plot the expectation values\n",
    "plt.plot(times, x_me, label=\"ME\")\n",
    "plt.plot(times, x_brme, label=\"BRME\")\n",
    "plt.legend(), plt.xlabel(\"time\"), plt.ylabel(\"<X>\");"
   ]
  },
  {
   "cell_type": "markdown",
   "id": "eed85864",
   "metadata": {},
   "source": [
    "## Bloch-Redfield Tensor\n",
    "\n",
    "We described the dynmamics of the system by the Bloch-Redfield master equation, which is constructed from the Bloch-Redfield tensor $R_{abcd}$ (see [documentation of Bloch-Redfield master equation](https://qutip.org/docs/latest/guide/dynamics/dynamics-bloch-redfield.html)). Hence the dynamics are determined by this tensor. We can calculate the tensor in QuTiP using the `qutip.bloch_redfield_tensor()` function. We have to pass the Hamiltonian of the system and the dissipation description in `a_ops` to construct $R_{abcd}$. Furthermore, the function gives us the **eigenstates of the Hamiltonian**, as they are calculated along the way.\n"
   ]
  },
  {
   "cell_type": "code",
   "execution_count": null,
   "id": "b70e29cf",
   "metadata": {},
   "outputs": [],
   "source": [
    "R, H_ekets = bloch_redfield_tensor(H, [a_op])\n",
    "\n",
    "# calculate lindblad liouvillian from H\n",
    "L = liouvillian(H, c_ops)"
   ]
  },
  {
   "cell_type": "markdown",
   "id": "486fe723",
   "metadata": {},
   "source": [
    "We can now use the Bloch-Redfield Tensor and the Lindblad Liouvillain to calculate the steadystate for both approaches. As we saw above the dynamics were the same for using the different solvers, hence we expect the steadystate to be equal too. We use the `qutip.hinton()` function to plot the steadystate density matrix for both approaches and can see that they are the same.\n",
    "\n",
    "We have to transform the steadystate density matrix we obtain from the Bloch-Redfield tensor using the eigenstates of the Hamiltonian, as `R` is expressed in the eigenbasis of `H`."
   ]
  },
  {
   "cell_type": "code",
   "execution_count": null,
   "id": "3ea3ee1c",
   "metadata": {},
   "outputs": [],
   "source": [
    "# Obtain steadystate from Bloch-Redfield Tensor\n",
    "rhoss_br_eigenbasis = steadystate(R)\n",
    "rhoss_br = rhoss_br_eigenbasis.transform(H_ekets, True)\n",
    "\n",
    "# Steadystate from Lindblad liouvillian\n",
    "rhoss_me = steadystate(L)\n",
    "\n",
    "# Plot the density matrices using a hinton plot\n",
    "hinton(rhoss_br, title=\"Bloch-Redfield steadystate\")\n",
    "hinton(rhoss_me, title=\"Lindblad-ME steadystate\");"
   ]
  },
  {
   "cell_type": "markdown",
   "id": "13711646",
   "metadata": {},
   "source": [
    "## About"
   ]
  },
  {
   "cell_type": "code",
   "execution_count": null,
   "id": "f14b1177",
   "metadata": {},
   "outputs": [],
   "source": [
    "about()"
   ]
  },
  {
   "cell_type": "markdown",
   "id": "dc0a7777",
   "metadata": {},
   "source": [
    "## Testing"
   ]
  },
  {
   "cell_type": "code",
   "execution_count": null,
   "id": "d8d60485",
   "metadata": {},
   "outputs": [],
   "source": [
    "# Verify that mesolve and brmesolve generate similar results\n",
    "assert np.allclose(result_me.expect[0], result_brme.expect[0])\n",
    "assert np.allclose(result_me.expect[1], result_brme.expect[1])\n",
    "assert np.allclose(result_me.expect[2], result_brme.expect[2])\n",
    "assert np.allclose(x_me, x_brme)\n",
    "\n",
    "# assume steadystate is the same\n",
    "assert np.allclose(rhoss_br, rhoss_me)"
   ]
  }
 ],
 "metadata": {
  "jupytext": {
   "cell_metadata_filter": "-all",
   "notebook_metadata_filter": "-jupytext.cell_metadata_filter,-jupytext.notebook_metadata_filter"
  },
  "kernelspec": {
   "display_name": "Python 3 (ipykernel)",
   "language": "python",
   "name": "python3"
  }
 },
 "nbformat": 4,
 "nbformat_minor": 5
}
