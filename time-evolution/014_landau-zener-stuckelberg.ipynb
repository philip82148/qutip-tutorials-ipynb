{
 "cells": [
  {
   "cell_type": "markdown",
   "id": "b7373b94",
   "metadata": {},
   "source": [
    "# Time-dependent Master Equation: Landau-Zener-Stuckelberg inteferometry"
   ]
  },
  {
   "cell_type": "markdown",
   "id": "17d96fef",
   "metadata": {},
   "source": [
    "J.R. Johansson and P.D. Nation\n",
    "\n",
    "For more information about QuTiP see [http://qutip.org](http://qutip.org)"
   ]
  },
  {
   "cell_type": "code",
   "execution_count": null,
   "id": "2fa2563f",
   "metadata": {},
   "outputs": [],
   "source": [
    "import matplotlib.pyplot as plt\n",
    "import numpy as np\n",
    "from qutip import (Options, about, destroy, expect, num, propagator,\n",
    "                   propagator_steadystate, sigmax, sigmaz)\n",
    "from qutip.ui.progressbar import TextProgressBar as ProgressBar\n",
    "\n",
    "%matplotlib inline"
   ]
  },
  {
   "cell_type": "markdown",
   "id": "e5e3b1d3",
   "metadata": {},
   "source": [
    "Landau-Zener-Stuckelberg interferometry: Steady state of a strongly driven two-level system, using the one-period propagator. "
   ]
  },
  {
   "cell_type": "code",
   "execution_count": null,
   "id": "64553c22",
   "metadata": {},
   "outputs": [],
   "source": [
    "# set up the parameters and start calculation\n",
    "delta = 1.0 * 2 * np.pi  # qubit sigma_x coefficient\n",
    "w = 2.0 * 2 * np.pi  # driving frequency\n",
    "T = 2 * np.pi / w  # driving period\n",
    "gamma1 = 0.00001  # relaxation rate\n",
    "gamma2 = 0.005  # dephasing  rate\n",
    "\n",
    "eps_list = np.linspace(-20.0, 20.0, 51) * 2 * np.pi\n",
    "A_list = np.linspace(0.0, 20.0, 51) * 2 * np.pi\n",
    "\n",
    "# pre-calculate the necessary operators\n",
    "sx = sigmax()\n",
    "sz = sigmaz()\n",
    "sm = destroy(2)\n",
    "sn = num(2)\n",
    "\n",
    "# collapse operators: relaxation and dephasing\n",
    "c_op_list = [np.sqrt(gamma1) * sm, np.sqrt(gamma2) * sz]"
   ]
  },
  {
   "cell_type": "code",
   "execution_count": null,
   "id": "9c19464c",
   "metadata": {},
   "outputs": [],
   "source": [
    "# ODE settings (for list-str format)\n",
    "options = Options()\n",
    "options.atol = 1e-6  # reduce accuracy to speed\n",
    "options.rtol = 1e-5  # up the calculation a bit\n",
    "options.rhs_reuse = True  # Compile Hamiltonian only the first time."
   ]
  },
  {
   "cell_type": "code",
   "execution_count": null,
   "id": "c6c13339",
   "metadata": {},
   "outputs": [],
   "source": [
    "# perform the calculation for each combination of eps and A, store the result\n",
    "# in a matrix\n",
    "def calculate():\n",
    "\n",
    "    p_mat = np.zeros((len(eps_list), len(A_list)))\n",
    "\n",
    "    H0 = -delta / 2.0 * sx\n",
    "\n",
    "    # Define H1 (first time-dependent term)\n",
    "    # String method:\n",
    "    H1 = [-sz / 2, \"eps\"]\n",
    "    # Function method:\n",
    "    # H1 = [- sz / 2, lambda t, args: args['eps'] ]\n",
    "\n",
    "    # Define H2 (second time-dependent term)\n",
    "    # String method:\n",
    "    H2 = [sz / 2, \"A * sin(w * t)\"]\n",
    "    # Function method:\n",
    "    # H2 = [sz / 2, lambda t, args: args['A']*np.sin(args['w'] * t) ]\n",
    "\n",
    "    H = [H0, H1, H2]\n",
    "\n",
    "    pbar = ProgressBar(len(eps_list))\n",
    "    for m, eps in enumerate(eps_list):\n",
    "        pbar.update(m)\n",
    "        for n, A in enumerate(A_list):\n",
    "            args = {\"w\": w, \"A\": A, \"eps\": eps}\n",
    "\n",
    "            U = propagator(H, T, c_op_list, args, options=options)\n",
    "            rho_ss = propagator_steadystate(U)\n",
    "\n",
    "            p_mat[m, n] = np.real(expect(sn, rho_ss))\n",
    "\n",
    "    return p_mat"
   ]
  },
  {
   "cell_type": "code",
   "execution_count": null,
   "id": "bfee8d36",
   "metadata": {},
   "outputs": [],
   "source": [
    "p_mat = calculate()"
   ]
  },
  {
   "cell_type": "code",
   "execution_count": null,
   "id": "34a0bf5d",
   "metadata": {},
   "outputs": [],
   "source": [
    "fig, ax = plt.subplots(figsize=(8, 8))\n",
    "\n",
    "A_mat, eps_mat = np.meshgrid(A_list / (2 * np.pi), eps_list / (2 * np.pi))\n",
    "\n",
    "ax.pcolor(eps_mat, A_mat, p_mat, shading=\"auto\")\n",
    "ax.set_xlabel(r\"Bias point $\\epsilon$\")\n",
    "ax.set_ylabel(r\"Amplitude $A$\")\n",
    "ax.set_title(\n",
    "    \"Steadystate excitation probability\\n\"\n",
    "    + r\"$H = -\\frac{1}{2}\\Delta\\sigma_x -\\frac{1}{2}\\epsilon\\sigma_z -\"\n",
    "    + r\"\\frac{1}{2}A\\sin(\\omega t)$\"\n",
    "    + \"\\n\"\n",
    ");"
   ]
  },
  {
   "cell_type": "markdown",
   "id": "5e3a94fc",
   "metadata": {},
   "source": [
    "## Versions"
   ]
  },
  {
   "cell_type": "code",
   "execution_count": null,
   "id": "1c993d7f",
   "metadata": {},
   "outputs": [],
   "source": [
    "about()"
   ]
  }
 ],
 "metadata": {
  "jupytext": {
   "cell_metadata_filter": "-all",
   "notebook_metadata_filter": "-jupytext.cell_metadata_filter,-jupytext.notebook_metadata_filter"
  },
  "kernelspec": {
   "display_name": "Python 3 (ipykernel)",
   "language": "python",
   "name": "python3"
  }
 },
 "nbformat": 4,
 "nbformat_minor": 5
}
