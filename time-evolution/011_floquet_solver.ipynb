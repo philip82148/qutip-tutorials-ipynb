{
 "cells": [
  {
   "cell_type": "markdown",
   "id": "9730248a",
   "metadata": {},
   "source": [
    "# Floquet Solvers\n",
    "\n",
    "Author: C. Staufenbiel, 2022\n",
    "\n",
    "### Introduction\n",
    "\n",
    "The *Floquet formalism* deals with periodic time-dependent systems. The Floquet approach can be more efficient for such problems than using the standard master equation solver `qutip.mesolve()` and it has a broader range of validity for periodic driving.\n",
    "\n",
    "In this notebook, we will discuss the solver functionality of the Floquet formalism implemented in QuTiP using an example quantum system. A more detailed introduction into the Floquet formalism can be found in the [documentation](https://qutip.org/docs/latest/guide/dynamics/dynamics-floquet.html).\n",
    "\n",
    "A more in depth introduction into the internal functions of the Floquet formalism, used also by the solvers `fsesolve` and `fmmesolve`, is given in the [*floquet formalism notebook*](012_floquet_formalism.md).\n",
    "\n",
    "### Imports"
   ]
  },
  {
   "cell_type": "code",
   "execution_count": null,
   "id": "55e3b924",
   "metadata": {},
   "outputs": [],
   "source": [
    "import numpy as np\n",
    "from qutip import (about, basis, fmmesolve, fsesolve,\n",
    "                   plot_expectation_values, sigmax, sigmaz)"
   ]
  },
  {
   "cell_type": "markdown",
   "id": "742b0e91",
   "metadata": {},
   "source": [
    "In this example we will consider a strongly driven two level system, described by the time-dependent Hamiltonian:\n",
    "\n",
    "$$ H(t) = -\\frac{\\Delta}{2} \\sigma_x - \\frac{\\epsilon_0}{2} \\sigma_z + \\frac{A}{2} sin(\\omega t) \\sigma_z$$"
   ]
  },
  {
   "cell_type": "code",
   "execution_count": null,
   "id": "de03f266",
   "metadata": {},
   "outputs": [],
   "source": [
    "# define constants\n",
    "delta = 0.2 * 2 * np.pi\n",
    "eps0 = 2 * np.pi\n",
    "A = 2.5 * 2 * np.pi\n",
    "omega = 2 * np.pi\n",
    "\n",
    "# Non driving hamiltoninan\n",
    "H0 = -delta / 2.0 * sigmax() - eps0 / 2.0 * sigmaz()\n",
    "\n",
    "# Driving Hamiltonian\n",
    "H1 = [A / 2.0 * sigmaz(), \"sin(w*t)\"]\n",
    "args = {\"w\": omega}\n",
    "\n",
    "# combined hamiltonian\n",
    "H = [H0, H1]\n",
    "\n",
    "# initial state\n",
    "psi0 = basis(2, 0)"
   ]
  },
  {
   "cell_type": "markdown",
   "id": "d92a0544",
   "metadata": {},
   "source": [
    "### Floquet Schrödinger Equation \n",
    "\n",
    "We can now use the `qutip.fsesolve()` function to solve the dynamics of the system using the Floquet formalism for the Schrödinger equation. The arguments are similar to the ones passed to `qutip.sesolve()`. There is an optional parameter `T` which defines the period of the time-dependence. If `T` is not given it is assumed that the passed `tlist` spans one period. Therefore we always pass `T` in this tutorial.\n",
    "\n",
    "The `Tsteps` argument to `fsesolve()` can be used to set the number of time steps in one period `T` for which the Floquet modes are precalculated. Increasing this number should result in a better numerical accuracy. `Tsteps` should be even! "
   ]
  },
  {
   "cell_type": "code",
   "execution_count": null,
   "id": "9ff4fe53",
   "metadata": {},
   "outputs": [],
   "source": [
    "# period time\n",
    "T = 2 * np.pi / omega\n",
    "# simulation time\n",
    "tlist = np.linspace(0, 2.5 * T, 101)\n",
    "# simulation\n",
    "result = fsesolve(H, psi0, tlist, T=T, e_ops=[sigmaz()],\n",
    "                  args=args, Tsteps=1000)\n",
    "\n",
    "plot_expectation_values([result], ylabels=[\"<Z>\"]);"
   ]
  },
  {
   "cell_type": "markdown",
   "id": "f3fae445",
   "metadata": {},
   "source": [
    "### Floquet Markov Master Equation\n",
    "\n",
    "Similar to `mesolve()` we can also use the Floquet formalism to solve a master equation  for a dissipative quantum system. The corresponding function is `fmmesolve()`. However, the dissipation process is here described as a noise spectral-density function.\n",
    "\n",
    "For example we can define a linear noise spectral-density as: \n",
    "\n",
    "$$ S(\\omega) = \\frac{\\gamma \\cdot \\omega}{4 \\pi} $$\n",
    "\n",
    "where $\\gamma$ is the dissipation rate. The system-bath interaction is described by coupling operators, e.g. here we use $\\sigma_x$ as a coupling operator. Note that `fmmesolve` currently only works with one coupling operator and one noise spectrum."
   ]
  },
  {
   "cell_type": "code",
   "execution_count": null,
   "id": "277c2dbd",
   "metadata": {},
   "outputs": [],
   "source": [
    "# Noise Spectral Density\n",
    "gamma = 0.1\n",
    "\n",
    "\n",
    "def noise_spectrum(omega):\n",
    "    return gamma * omega / (4 * np.pi)\n",
    "\n",
    "\n",
    "# Coupling Operator\n",
    "c_ops = [sigmax()]\n",
    "\n",
    "# Solve using Fmmesolve\n",
    "fme_result = fmmesolve(\n",
    "    H,\n",
    "    psi0,\n",
    "    tlist,\n",
    "    c_ops=c_ops,\n",
    "    spectra_cb=[noise_spectrum],\n",
    "    e_ops=[sigmaz()],\n",
    "    T=T,\n",
    "    args=args,\n",
    "    floquet_basis=False,\n",
    ")"
   ]
  },
  {
   "cell_type": "markdown",
   "id": "234b2f96",
   "metadata": {},
   "source": [
    "We can observe the dissipation dynamics when comparing the results to the expectation values obtained from `fsesolve()`."
   ]
  },
  {
   "cell_type": "code",
   "execution_count": null,
   "id": "b8ed2612",
   "metadata": {},
   "outputs": [],
   "source": [
    "plot_expectation_values([result, fme_result],\n",
    "                        ylabels=[\"<Z>\"], show_legend=True);"
   ]
  },
  {
   "cell_type": "markdown",
   "id": "9312ede8",
   "metadata": {},
   "source": [
    "### About"
   ]
  },
  {
   "cell_type": "code",
   "execution_count": null,
   "id": "15107ada",
   "metadata": {},
   "outputs": [],
   "source": [
    "about()"
   ]
  },
  {
   "cell_type": "markdown",
   "id": "20c41804",
   "metadata": {},
   "source": [
    "### Testing"
   ]
  },
  {
   "cell_type": "code",
   "execution_count": null,
   "id": "557642ba",
   "metadata": {},
   "outputs": [],
   "source": [
    "fme_result_nodis = fmmesolve(\n",
    "    H,\n",
    "    psi0,\n",
    "    tlist,\n",
    "    c_ops=c_ops,\n",
    "    spectra_cb=[lambda w: 0.0],\n",
    "    e_ops=[sigmaz()],\n",
    "    T=T,\n",
    "    args=args,\n",
    "    floquet_basis=False,\n",
    ")"
   ]
  },
  {
   "cell_type": "code",
   "execution_count": null,
   "id": "07716be2",
   "metadata": {},
   "outputs": [],
   "source": [
    "assert np.allclose(result.expect[0], fme_result_nodis.expect[0], atol=1e-2)\n",
    "assert not np.allclose(fme_result.expect[0],\n",
    "                       fme_result_nodis.expect[0], atol=1e-2)"
   ]
  }
 ],
 "metadata": {
  "jupytext": {
   "cell_metadata_filter": "-all",
   "notebook_metadata_filter": "-jupytext.cell_metadata_filter,-jupytext.notebook_metadata_filter"
  },
  "kernelspec": {
   "display_name": "Python 3 (ipykernel)",
   "language": "python",
   "name": "python3"
  }
 },
 "nbformat": 4,
 "nbformat_minor": 5
}
