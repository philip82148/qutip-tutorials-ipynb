{
 "cells": [
  {
   "cell_type": "code",
   "execution_count": null,
   "id": "ccc567c1",
   "metadata": {},
   "outputs": [],
   "source": [
    "!pip3 install qutip==4.7.3 qutip-qip==0.2.1 numpy==1.25.2 scipy==1.11.2 matplotlib==3.5.2 jupytext==1.13.8 black==22.3.0 flake8==4.0.1 nbqa==1.3.1 isort==5.10.1"
   ]
  },
  {
   "cell_type": "markdown",
   "id": "1aaa3588",
   "metadata": {},
   "source": [
    "# Master Equation Solver: Vacuum Rabi oscillations\n",
    "\n",
    "Authors: J.R. Johansson and P.D. Nation\n",
    "\n",
    "Slight modifications: C. Staufenbiel (2022)\n",
    "\n",
    "This notebook demonstrates how to simulate the quantum vacuum rabi \n",
    "oscillations in the Jaynes-Cumming model, using the Master Equation Solver \n",
    "`qutip.mesolve`. We also consider the dissipative version of the \n",
    "Jaynes-Cumming model, i.e., the cavity and the atom are coupled to an \n",
    "environment."
   ]
  },
  {
   "cell_type": "markdown",
   "id": "46e241c0",
   "metadata": {},
   "source": [
    "For more information on the theory behind the Master Equation Solver see [the documentation](https://qutip.org/docs/latest/guide/dynamics/dynamics-master.html#non-unitary-evolution)."
   ]
  },
  {
   "cell_type": "markdown",
   "id": "e73ed85d",
   "metadata": {},
   "source": [
    "### Package import"
   ]
  },
  {
   "cell_type": "code",
   "execution_count": null,
   "id": "b1008365",
   "metadata": {},
   "outputs": [],
   "source": [
    "import matplotlib.pyplot as plt\n",
    "import numpy as np\n",
    "from qutip import about, basis, destroy, mesolve, qeye, sigmaz, tensor\n",
    "\n",
    "%matplotlib inline"
   ]
  },
  {
   "cell_type": "markdown",
   "id": "2a9e5f1c",
   "metadata": {},
   "source": [
    "# Introduction\n",
    "\n",
    "The Jaynes-Cumming model is the simplest possible model of quantum mechanical light-matter interaction, describing a single two-level atom interacting with a single electromagnetic cavity mode. The Hamiltonian for this system is (in dipole interaction form)\n",
    "\n",
    "$H = \\hbar \\omega_c a^\\dagger a + \\frac{1}{2}\\hbar\\omega_a\\sigma_z + \\hbar g(a^\\dagger + a)(\\sigma_- + \\sigma_+)$\n",
    "\n",
    "or with the rotating-wave approximation\n",
    "\n",
    "$H_{\\rm RWA} = \\hbar \\omega_c a^\\dagger a + \\frac{1}{2}\\hbar\\omega_a\\sigma_z + \\hbar g(a^\\dagger\\sigma_- + a\\sigma_+)$\n",
    "\n",
    "where $\\omega_c$ and $\\omega_a$ are the frequencies of the cavity and atom, respectively, and $g$ is the interaction strength.\n",
    "\n",
    "In this example we also consider the coupling of the Jaynes-Cummings model to an external environment, i.e., we need to solve the system using the Master Equation Solver `qutip.mesolve`. The coupling to the environment is described by the collapse operators (as described in [the docs](https://qutip.org/docs/latest/guide/dynamics/dynamics-master.html#non-unitary-evolution)). Here, we consider two collapse operators for the cavity $C_1, C_2$, describing creation and annihilation of photons, and one collapse operator for the atom $C_3$.\n",
    "\n",
    "$C_1 = \\sqrt{\\kappa (1+\\langle n \\rangle)} \\; a$\n",
    "\n",
    "$C_2 = \\sqrt{\\kappa \\langle n \\rangle}\\; a^\\dagger$\n",
    "\n",
    "$C_3 = \\sqrt{\\gamma} \\; \\sigma_-$\n",
    "\n",
    "where $\\langle n \\rangle$ is the average number of photons in the environment. By setting $\\langle n \\rangle=0$ we remove the creation of photons and only consider the annihilation of photons.\n",
    "\n",
    "### Problem parameters\n",
    "\n",
    "Here we use units where $\\hbar = 1$: "
   ]
  },
  {
   "cell_type": "code",
   "execution_count": null,
   "id": "f2721f8d",
   "metadata": {},
   "outputs": [],
   "source": [
    "N = 15  # number of cavity fock states\n",
    "wc = 1.0 * 2 * np.pi  # cavity frequency\n",
    "wa = 1.0 * 2 * np.pi  # atom frequency\n",
    "g = 0.05 * 2 * np.pi  # coupling strength\n",
    "kappa = 0.005  # cavity dissipation rate\n",
    "gamma = 0.05  # atom dissipation rate\n",
    "n_th_a = 0.0  # temperature in frequency units\n",
    "use_rwa = True\n",
    "\n",
    "tlist = np.linspace(0, 40, 100)"
   ]
  },
  {
   "cell_type": "markdown",
   "id": "37e754c7",
   "metadata": {},
   "source": [
    "### Setup the operators, the Hamiltonian and initial state\n",
    "\n",
    "Here we define the initial state and operators for the combined system, which consists of the cavity and the atom. We make use of the tensor product, where the first part refers to the cavity and the second part to the atom. We define the atom to be in the excited state and the cavity in its ground state.\n",
    "\n",
    "The initial state  consists of the cavity ground state and the atom in the excited state. We define the collapse operator for the cavity/atom in the combined system and the Hamiltonian with and without the rotating-wave-approach."
   ]
  },
  {
   "cell_type": "code",
   "execution_count": null,
   "id": "91ee5e36",
   "metadata": {},
   "outputs": [],
   "source": [
    "# intial state\n",
    "psi0 = tensor(basis(N, 0), basis(2, 0))\n",
    "\n",
    "# collapse operators\n",
    "a = tensor(destroy(N), qeye(2))\n",
    "sm = tensor(qeye(N), destroy(2).dag())\n",
    "sz = tensor(qeye(N), sigmaz())\n",
    "\n",
    "# Hamiltonian\n",
    "if use_rwa:\n",
    "    H = wc * a.dag() * a + wa / 2 * sz + g * (a.dag() * sm + a * sm.dag())\n",
    "else:\n",
    "    H = wc * a.dag() * a + wa / 2 * sz + g * (a.dag() + a) * (sm + sm.dag())"
   ]
  },
  {
   "cell_type": "markdown",
   "id": "3717b42f",
   "metadata": {},
   "source": [
    "### Create a list of collapse operators that describe the dissipation\n",
    "\n",
    "We create a list of collapse operators `c_ops`, which is later passed on to `qutip.mesolve`. For each of the three processes one collapse operator is defined."
   ]
  },
  {
   "cell_type": "code",
   "execution_count": null,
   "id": "d5108f28",
   "metadata": {},
   "outputs": [],
   "source": [
    "c_op_list = []\n",
    "\n",
    "# Photon annihilation\n",
    "rate = kappa * (1 + n_th_a)\n",
    "c_op_list.append(np.sqrt(rate) * a)\n",
    "\n",
    "# Photon creation\n",
    "rate = kappa * n_th_a\n",
    "c_op_list.append(np.sqrt(rate) * a.dag())\n",
    "\n",
    "# Atom annihilation\n",
    "rate = gamma\n",
    "c_op_list.append(np.sqrt(rate) * sm)"
   ]
  },
  {
   "cell_type": "markdown",
   "id": "c636131b",
   "metadata": {},
   "source": [
    "### Evolve the system\n",
    "\n",
    "Here we evolve the system with the Lindblad master equation solver `qutip.mesolve`, and we request that the expectation values of the operators $a^\\dagger a$ and $\\sigma_+\\sigma_-$ are returned by the solver by passing the list `[a.dag()*a, sm.dag()*sm]` as the fifth argument to the solver."
   ]
  },
  {
   "cell_type": "code",
   "execution_count": null,
   "id": "ead4040d",
   "metadata": {},
   "outputs": [],
   "source": [
    "output = mesolve(H, psi0, tlist, c_op_list, [a.dag() * a, sm.dag() * sm])"
   ]
  },
  {
   "cell_type": "markdown",
   "id": "9f9f8589",
   "metadata": {},
   "source": [
    "### Visualize the results\n",
    "\n",
    "Here we plot the excitation probabilities of the cavity and the atom (these expectation values were calculated by the `mesolve` above). We can clearly see how energy is being coherently transferred back and forth between the cavity and the atom."
   ]
  },
  {
   "cell_type": "code",
   "execution_count": null,
   "id": "e3b57454",
   "metadata": {},
   "outputs": [],
   "source": [
    "fig, ax = plt.subplots(figsize=(8, 5))\n",
    "ax.plot(tlist, output.expect[0], label=\"Cavity\")\n",
    "ax.plot(tlist, output.expect[1], label=\"Atom excited state\")\n",
    "ax.legend()\n",
    "ax.set_xlabel(\"Time\")\n",
    "ax.set_ylabel(\"Occupation probability\")\n",
    "ax.set_title(\"Vacuum Rabi oscillations at T={}\".format(n_th_a));"
   ]
  },
  {
   "cell_type": "markdown",
   "id": "e324270a",
   "metadata": {},
   "source": [
    "### Non-zero temperature\n",
    "Above we set $T = 0$ and thereby discarded the photon creation by the environment. We can activate this term by setting the corresponding variable to a positive value and perform the same calculation as above. In comparison to the previous plot, we see that the cavity has more energy than the atom."
   ]
  },
  {
   "cell_type": "code",
   "execution_count": null,
   "id": "389fca7e",
   "metadata": {},
   "outputs": [],
   "source": [
    "# set temperature\n",
    "n_th_a = 2.0\n",
    "\n",
    "# set collapse operators\n",
    "c_op_list = []\n",
    "rate = kappa * (1 + n_th_a)\n",
    "c_op_list.append(np.sqrt(rate) * a)\n",
    "rate = kappa * n_th_a\n",
    "c_op_list.append(np.sqrt(rate) * a.dag())\n",
    "rate = gamma\n",
    "c_op_list.append(np.sqrt(rate) * sm)\n",
    "\n",
    "# evolve system\n",
    "output_temp = mesolve(H, psi0, tlist, c_op_list, [a.dag() * a, sm.dag() * sm])\n",
    "\n",
    "# plot\n",
    "fig, ax = plt.subplots(figsize=(8, 5))\n",
    "ax.plot(tlist, output_temp.expect[0], label=\"Cavity\")\n",
    "ax.plot(tlist, output_temp.expect[1], label=\"Atom excited state\")\n",
    "ax.legend()\n",
    "ax.set_xlabel(\"Time\")\n",
    "ax.set_ylabel(\"Occupation probability\")\n",
    "ax.set_title(\"Vacuum Rabi oscillations at T={}\".format(n_th_a));"
   ]
  },
  {
   "cell_type": "markdown",
   "id": "397b4b40",
   "metadata": {},
   "source": [
    "### Software version:"
   ]
  },
  {
   "cell_type": "code",
   "execution_count": null,
   "id": "0b64dfb1",
   "metadata": {},
   "outputs": [],
   "source": [
    "about()"
   ]
  },
  {
   "cell_type": "markdown",
   "id": "a3f57f1e",
   "metadata": {},
   "source": [
    "### Testing"
   ]
  },
  {
   "cell_type": "code",
   "execution_count": null,
   "id": "2fe6837b",
   "metadata": {},
   "outputs": [],
   "source": [
    "# sum of atom and cavity\n",
    "assert np.all(np.diff(output.expect[0] + output.expect[1]) <= 0.0)\n",
    "\n",
    "# frequency for analytical solution (with RWA)\n",
    "output_no_cops = mesolve(H, psi0, tlist, [], [a.dag() * a, sm.dag() * sm])\n",
    "freq = 1 / 4 * np.sqrt(g**2 * (N + 1))\n",
    "assert np.allclose(output_no_cops.expect[1],\n",
    "                   (np.cos(tlist * freq)) ** 2, atol=10**-3)"
   ]
  }
 ],
 "metadata": {
  "jupytext": {
   "cell_metadata_filter": "-all",
   "notebook_metadata_filter": "-jupytext.cell_metadata_filter,-jupytext.notebook_metadata_filter"
  },
  "kernelspec": {
   "display_name": "Python 3 (ipykernel)",
   "language": "python",
   "name": "python3"
  }
 },
 "nbformat": 4,
 "nbformat_minor": 5
}
