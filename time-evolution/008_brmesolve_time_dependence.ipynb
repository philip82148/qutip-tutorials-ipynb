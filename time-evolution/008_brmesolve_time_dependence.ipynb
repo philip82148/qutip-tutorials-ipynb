{
 "cells": [
  {
   "cell_type": "code",
   "execution_count": null,
   "id": "ccc567c1",
   "metadata": {},
   "outputs": [],
   "source": [
    "!pip3 install qutip==4.7.0 qutip-qip==0.2.1 numpy==1.21.0 scipy==1.8.1 matplotlib==3.5.2 jupytext==1.13.8 black==22.3.0 flake8==4.0.1 nbqa==1.3.1 isort==5.10.1"
   ]
  },
  {
   "cell_type": "markdown",
   "id": "0653a22f",
   "metadata": {},
   "source": [
    "# Bloch-Redfield Solver: Time dependent operators\n",
    "\n",
    "Authors: C. Staufenbiel, 2022\n",
    "\n",
    "following the instructions in the [Bloch-Redfield documentation](https://qutip.org/docs/latest/guide/dynamics/dynamics-bloch-redfield.html?#time-dependent-bloch-redfield-dynamics).\n",
    "\n",
    "### Introduction\n",
    "This notebook introduces the usage of time-dependent operators in the Bloch-Redfield solver, which is also described in the [corresponding documentation](https://qutip.org/docs/latest/guide/dynamics/dynamics-bloch-redfield.html?#time-dependent-bloch-redfield-dynamics).\n",
    "\n",
    "We will discuss time-dependent Hamiltonians and time-dependent dissipations. The Bloch-Redfield solver is especially efficient since it uses Cython internally. For correct functioning we have to pass the time dependence in a string-based format. \n",
    "\n",
    "### Imports"
   ]
  },
  {
   "cell_type": "code",
   "execution_count": null,
   "id": "45e92a3c",
   "metadata": {},
   "outputs": [],
   "source": [
    "import numpy as np\n",
    "from qutip import about, basis, brmesolve, destroy, plot_expectation_values\n",
    "\n",
    "%matplotlib inline"
   ]
  },
  {
   "cell_type": "markdown",
   "id": "02882f3a",
   "metadata": {},
   "source": [
    "For our small example, we setup a system with `N` states and the number operator as Hamiltonian. We can observe that for the constant Hamiltonian and no given `a_ops` the expectation value $\\langle n \\rangle $ is a constant."
   ]
  },
  {
   "cell_type": "code",
   "execution_count": null,
   "id": "938f7a26",
   "metadata": {},
   "outputs": [],
   "source": [
    "# num modes\n",
    "N = 2\n",
    "# Hamiltonian\n",
    "a = destroy(N)\n",
    "H = a.dag() * a\n",
    "\n",
    "# initial state\n",
    "psi0 = basis(N, N - 1)\n",
    "\n",
    "# times for simulation\n",
    "times = np.linspace(0, 10, 100)\n",
    "\n",
    "# solve using brmesolve\n",
    "result_const = brmesolve(H, psi0, times, e_ops=[a.dag() * a])"
   ]
  },
  {
   "cell_type": "code",
   "execution_count": null,
   "id": "9e7e6072",
   "metadata": {},
   "outputs": [],
   "source": [
    "plot_expectation_values(result_const, ylabels=[\"<n>\"]);"
   ]
  },
  {
   "cell_type": "markdown",
   "id": "246f18ff",
   "metadata": {},
   "source": [
    "Next we define a string, which describes some time-dependence. We can use functions that are supported by the Cython implementation. A list of all supported functions can be found in the  [docs](https://qutip.org/docs/latest/guide/dynamics/dynamics-time.html#time). For example, supported functions are `sin` or `exp`. The time variable is denoted by `t`."
   ]
  },
  {
   "cell_type": "code",
   "execution_count": null,
   "id": "8acfc754",
   "metadata": {},
   "outputs": [],
   "source": [
    "time_dependence = \"sin(t)\""
   ]
  },
  {
   "cell_type": "markdown",
   "id": "619f16c2",
   "metadata": {},
   "source": [
    "### Time-dependent Hamiltonian\n",
    "\n",
    "As a first example, we define a time-dependent Hamiltonian (as described [here](https://qutip.org/docs/latest/guide/dynamics/dynamics-time.html)). \n",
    "\n",
    "$$ H = \\hat{n} + sin(t) \\hat{x} $$\n",
    "\n",
    "Again, we can solve the dynamics using `brmesolve()`."
   ]
  },
  {
   "cell_type": "code",
   "execution_count": null,
   "id": "a8e778f4",
   "metadata": {},
   "outputs": [],
   "source": [
    "H_t = [H, [a + a.dag(), time_dependence]]\n",
    "result_brme = brmesolve(H_t, psi0, times, e_ops=[a.dag() * a])\n",
    "plot_expectation_values(result_brme, ylabels=[\"<n>\"]);"
   ]
  },
  {
   "cell_type": "markdown",
   "id": "f8c8a1a1",
   "metadata": {},
   "source": [
    "### Time-dependent dissipation\n",
    "\n",
    "Above we did not use the noise-power-spectrum, which the Bloch-Redfield solver is mainly used for. This spectrum is passed in the argument `a_ops`. We can also add a string-based time dependence to `a_ops` and thereby make the dissipation itself time-dependent. \n",
    "\n",
    "Here we will define a a noice power spectrum of the form:\n",
    "\n",
    "$$ J(\\omega, t) = \\kappa * e^{-t} \\quad \\text{for} \\; \\omega \\geq 0$$"
   ]
  },
  {
   "cell_type": "code",
   "execution_count": null,
   "id": "14760cbf",
   "metadata": {},
   "outputs": [],
   "source": [
    "# setup dissipation\n",
    "kappa = 0.2\n",
    "a_ops = [[a + a.dag(), \"{kappa}*exp(-t)*(w>=0)\".format(kappa=kappa)]]\n",
    "\n",
    "# solve\n",
    "result_brme_aops = brmesolve(H, psi0, times, a_ops, e_ops=[a.dag() * a])\n",
    "\n",
    "plot_expectation_values([result_brme_aops], ylabels=[\"<n>\"]);"
   ]
  },
  {
   "cell_type": "markdown",
   "id": "61b9958d",
   "metadata": {},
   "source": [
    "The coupling to the bath is sometimes described by operators of the form\n",
    "\n",
    "$$ A = f(t)a + f(t)^* a^\\dagger $$\n",
    "\n",
    "To add such a coupling to `brmesolve` we can pass tuple in the `a_ops` argument. For example if we have $f(t) = e^{i * t}$ we can define the coupling of operator $A$ with strength $\\kappa$ by the following `a_ops`. Note that t"
   ]
  },
  {
   "cell_type": "code",
   "execution_count": null,
   "id": "5d2acd97",
   "metadata": {},
   "outputs": [],
   "source": [
    "a_ops = [[(a, a.dag()),\n",
    "          ('{kappa} * (w>=0)'.format(kappa=kappa),\n",
    "           'exp(1j*t)', 'exp(-1j*t)')]]\n",
    "\n",
    "# solve using brmesolve and plot expecation\n",
    "result_brme_aops_sum = brmesolve(H, psi0, times, a_ops, e_ops=[a.dag() * a])\n",
    "plot_expectation_values([result_brme_aops_sum], ylabels=[\"<n>\"]);"
   ]
  },
  {
   "cell_type": "markdown",
   "id": "3063447e",
   "metadata": {},
   "source": [
    "### About"
   ]
  },
  {
   "cell_type": "code",
   "execution_count": null,
   "id": "dd173caa",
   "metadata": {},
   "outputs": [],
   "source": [
    "about()"
   ]
  },
  {
   "cell_type": "markdown",
   "id": "f547b20a",
   "metadata": {},
   "source": [
    "### Testing"
   ]
  },
  {
   "cell_type": "code",
   "execution_count": null,
   "id": "70a129c3",
   "metadata": {},
   "outputs": [],
   "source": [
    "assert np.allclose(result_const.expect[0], 1.0)\n",
    "\n",
    "# compare result from brme with a_ops to analytic solution\n",
    "analytic_aops = (N - 1) * np.exp(-kappa * (1.0 - np.exp(-times)))\n",
    "assert np.allclose(result_brme_aops.expect[0], analytic_aops)\n",
    "\n",
    "assert np.all(np.diff(result_brme_aops_sum.expect[0]) <= 0.0)"
   ]
  }
 ],
 "metadata": {
  "jupytext": {
   "cell_metadata_filter": "-all",
   "notebook_metadata_filter": "-jupytext.cell_metadata_filter,-jupytext.notebook_metadata_filter"
  },
  "kernelspec": {
   "display_name": "Python 3 (ipykernel)",
   "language": "python",
   "name": "python3"
  }
 },
 "nbformat": 4,
 "nbformat_minor": 5
}
