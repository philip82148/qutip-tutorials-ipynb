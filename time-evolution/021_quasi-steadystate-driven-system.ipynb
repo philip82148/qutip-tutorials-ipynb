{
 "cells": [
  {
   "cell_type": "code",
   "execution_count": null,
   "id": "ccc567c1",
   "metadata": {},
   "outputs": [],
   "source": [
    "!pip3 install qutip==4.7.0 qutip-qip==0.2.1 numpy==1.21.0 scipy==1.8.1 matplotlib==3.5.2 jupytext==1.13.8 black==22.3.0 flake8==4.0.1 nbqa==1.3.1 isort==5.10.1"
   ]
  },
  {
   "cell_type": "markdown",
   "id": "34ffe9bd",
   "metadata": {},
   "source": [
    "# Steady-State: Time-dependent (periodic) quantum system"
   ]
  },
  {
   "cell_type": "markdown",
   "id": "305cfee4",
   "metadata": {},
   "source": [
    "J.R. Johansson and P.D. Nation\n",
    "\n",
    "For more information about QuTiP see [http://qutip.org](http://qutip.org)"
   ]
  },
  {
   "cell_type": "markdown",
   "id": "d82ccbac",
   "metadata": {},
   "source": [
    "Find the steady state of a driven qubit, by finding the eigenstates of the propagator for one driving period"
   ]
  },
  {
   "cell_type": "code",
   "execution_count": null,
   "id": "f6545549",
   "metadata": {},
   "outputs": [],
   "source": [
    "import matplotlib.pyplot as plt\n",
    "import numpy as np\n",
    "from qutip import (about, basis, destroy, expect, mesolve, propagator,\n",
    "                   propagator_steadystate, sigmax, sigmaz, steadystate_floquet)\n",
    "\n",
    "%matplotlib inline"
   ]
  },
  {
   "cell_type": "code",
   "execution_count": null,
   "id": "97298e74",
   "metadata": {},
   "outputs": [],
   "source": [
    "def hamiltonian_t(t, args):\n",
    "    #\n",
    "    # evaluate the hamiltonian at time t.\n",
    "    #\n",
    "    H0 = args[\"H0\"]\n",
    "    H1 = args[\"H1\"]\n",
    "    w = args[\"w\"]\n",
    "\n",
    "    return H0 + H1 * np.sin(w * t)"
   ]
  },
  {
   "cell_type": "code",
   "execution_count": null,
   "id": "6a7ecc83",
   "metadata": {},
   "outputs": [],
   "source": [
    "def sd_qubit_integrate(delta, eps0, A, w, gamma1, gamma2, psi0, tlist):\n",
    "\n",
    "    # Hamiltonian\n",
    "    sx = sigmax()\n",
    "    sz = sigmaz()\n",
    "    sm = destroy(2)\n",
    "\n",
    "    H0 = -delta / 2.0 * sx - eps0 / 2.0 * sz\n",
    "    H1 = -A * sx\n",
    "\n",
    "    H_args = {\"H0\": H0, \"H1\": H1, \"w\": w}\n",
    "    # collapse operators\n",
    "    c_op_list = []\n",
    "\n",
    "    n_th = 0.5  # zero temperature\n",
    "\n",
    "    # relaxation\n",
    "    rate = gamma1 * (1 + n_th)\n",
    "    if rate > 0.0:\n",
    "        c_op_list.append(np.sqrt(rate) * sm)\n",
    "\n",
    "    # excitation\n",
    "    rate = gamma1 * n_th\n",
    "    if rate > 0.0:\n",
    "        c_op_list.append(np.sqrt(rate) * sm.dag())\n",
    "\n",
    "    # dephasing\n",
    "    rate = gamma2\n",
    "    if rate > 0.0:\n",
    "        c_op_list.append(np.sqrt(rate) * sz)\n",
    "\n",
    "    # evolve and calculate expectation values\n",
    "    output = mesolve(hamiltonian_t, psi0, tlist,\n",
    "                     c_op_list, [sm.dag() * sm], H_args)\n",
    "\n",
    "    T = 2 * np.pi / w\n",
    "\n",
    "    # Calculate steadystate using the propagator\n",
    "    U = propagator(hamiltonian_t, T, c_op_list, H_args)\n",
    "    rho_ss = propagator_steadystate(U)\n",
    "\n",
    "    # Calculate steadystate using floquet formalism\n",
    "    rho_ss_f = steadystate_floquet(H0, c_op_list, H1, w)\n",
    "\n",
    "    return output.expect[0], expect(sm.dag() * sm, rho_ss), \\\n",
    "        expect(sm.dag() * sm, rho_ss_f)"
   ]
  },
  {
   "cell_type": "code",
   "execution_count": null,
   "id": "909a5dc4",
   "metadata": {},
   "outputs": [],
   "source": [
    "delta = 0.3 * 2 * np.pi  # qubit sigma_x coefficient\n",
    "eps0 = 1.0 * 2 * np.pi  # qubit sigma_z coefficient\n",
    "A = 0.05 * 2 * np.pi  # driving amplitude (sigma_x coupled)\n",
    "w = 1.0 * 2 * np.pi  # driving frequency\n",
    "\n",
    "gamma1 = 0.15  # relaxation rate\n",
    "gamma2 = 0.05  # dephasing  rate\n",
    "\n",
    "# intial state\n",
    "psi0 = basis(2, 0)\n",
    "tlist = np.linspace(0, 50, 500)"
   ]
  },
  {
   "cell_type": "code",
   "execution_count": null,
   "id": "469f294c",
   "metadata": {},
   "outputs": [],
   "source": [
    "p_ex, p_ex_ss, p_ex_ss_f = sd_qubit_integrate(delta,\n",
    "                                              eps0,\n",
    "                                              A,\n",
    "                                              w,\n",
    "                                              gamma1,\n",
    "                                              gamma2,\n",
    "                                              psi0,\n",
    "                                              tlist)"
   ]
  },
  {
   "cell_type": "code",
   "execution_count": null,
   "id": "88f75eef",
   "metadata": {},
   "outputs": [],
   "source": [
    "fig, ax = plt.subplots(figsize=(12, 6))\n",
    "\n",
    "ax.plot(tlist, np.real(p_ex), label='Mesolve')\n",
    "ax.plot(tlist, np.real(p_ex_ss) * np.ones(tlist.shape[0]),\n",
    "        label='Propagator Steadystate')\n",
    "ax.plot(tlist, np.real(p_ex_ss_f) * np.ones(tlist.shape[0]),\n",
    "        label='Floquet Steadystate')\n",
    "ax.set_xlabel(\"Time\")\n",
    "ax.set_ylabel(\"P_ex\")\n",
    "ax.set_ylim(0, 1)\n",
    "ax.set_title(\"Excitation probabilty of qubit\")\n",
    "ax.legend();"
   ]
  },
  {
   "cell_type": "markdown",
   "id": "abdb6a2e",
   "metadata": {},
   "source": [
    "## Software version:"
   ]
  },
  {
   "cell_type": "code",
   "execution_count": null,
   "id": "15fc231e",
   "metadata": {},
   "outputs": [],
   "source": [
    "about()"
   ]
  },
  {
   "cell_type": "code",
   "execution_count": null,
   "id": "fe88d957",
   "metadata": {},
   "outputs": [],
   "source": []
  }
 ],
 "metadata": {
  "jupytext": {
   "cell_metadata_filter": "-all",
   "notebook_metadata_filter": "-jupytext.cell_metadata_filter,-jupytext.notebook_metadata_filter"
  },
  "kernelspec": {
   "display_name": "Python 3 (ipykernel)",
   "language": "python",
   "name": "python3"
  }
 },
 "nbformat": 4,
 "nbformat_minor": 5
}
