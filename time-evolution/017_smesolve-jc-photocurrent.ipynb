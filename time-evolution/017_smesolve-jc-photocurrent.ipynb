{
 "cells": [
  {
   "cell_type": "code",
   "execution_count": null,
   "id": "ccc567c1",
   "metadata": {},
   "outputs": [],
   "source": [
    "!pip3 install qutip==4.7.3 qutip-qip==0.2.1 numpy==1.25.2 scipy==1.11.2 matplotlib==3.5.2 jupytext==1.13.8 black==22.3.0 flake8==4.0.1 nbqa==1.3.1 isort==5.10.1"
   ]
  },
  {
   "cell_type": "markdown",
   "id": "0ec9bdf0",
   "metadata": {},
   "source": [
    "# Stochastic Solver: Photo-current detection in a JC model"
   ]
  },
  {
   "cell_type": "markdown",
   "id": "67b90e4c",
   "metadata": {},
   "source": [
    "Copyright (C) 2011 and later, Paul D. Nation & Robert J. Johansson"
   ]
  },
  {
   "cell_type": "code",
   "execution_count": null,
   "id": "e0478b86",
   "metadata": {},
   "outputs": [],
   "source": [
    "import matplotlib.pyplot as plt\n",
    "import numpy as np\n",
    "from matplotlib import rcParams\n",
    "from qutip import (Options, about, destroy, fock, identity, mesolve,\n",
    "                   parallel_map, photocurrent_mesolve, tensor)\n",
    "\n",
    "%matplotlib inline\n",
    "rcParams[\"font.family\"] = \"STIXGeneral\"\n",
    "rcParams[\"mathtext.fontset\"] = \"stix\"\n",
    "rcParams[\"font.size\"] = \"14\""
   ]
  },
  {
   "cell_type": "code",
   "execution_count": null,
   "id": "7c0b8bf7",
   "metadata": {},
   "outputs": [],
   "source": [
    "N = 15\n",
    "w0 = 1.0 * 2 * np.pi\n",
    "g = 0.2 * 2 * np.pi\n",
    "times = np.linspace(0, 15, 150)\n",
    "dt = times[1] - times[0]\n",
    "gamma = 0.01\n",
    "kappa = 0.1\n",
    "ntraj = 150"
   ]
  },
  {
   "cell_type": "code",
   "execution_count": null,
   "id": "0f457afa",
   "metadata": {},
   "outputs": [],
   "source": [
    "a = tensor(destroy(N), identity(2))\n",
    "sm = tensor(identity(N), destroy(2))"
   ]
  },
  {
   "cell_type": "code",
   "execution_count": null,
   "id": "3fa4c176",
   "metadata": {},
   "outputs": [],
   "source": [
    "H = w0 * a.dag() * a + w0 * sm.dag() * sm + g * (sm * a.dag() + sm.dag() * a)"
   ]
  },
  {
   "cell_type": "code",
   "execution_count": null,
   "id": "d5ab989b",
   "metadata": {},
   "outputs": [],
   "source": [
    "rho0 = tensor(fock(N, 5), fock(2, 0))"
   ]
  },
  {
   "cell_type": "code",
   "execution_count": null,
   "id": "f6a4e92f",
   "metadata": {},
   "outputs": [],
   "source": [
    "e_ops = [a.dag() * a, a + a.dag(), sm.dag() * sm]"
   ]
  },
  {
   "cell_type": "markdown",
   "id": "3c55fed6",
   "metadata": {},
   "source": [
    "### Highly efficient detection"
   ]
  },
  {
   "cell_type": "code",
   "execution_count": null,
   "id": "8d85702a",
   "metadata": {},
   "outputs": [],
   "source": [
    "c_ops = [np.sqrt(gamma) * sm]  # collapse operator for qubit\n",
    "sc_ops = [np.sqrt(kappa) * a]  # stochastic collapse for resonator"
   ]
  },
  {
   "cell_type": "code",
   "execution_count": null,
   "id": "d73ac7df",
   "metadata": {},
   "outputs": [],
   "source": [
    "result_ref = mesolve(H, rho0, times, c_ops + sc_ops, e_ops)"
   ]
  },
  {
   "cell_type": "code",
   "execution_count": null,
   "id": "01b1060f",
   "metadata": {},
   "outputs": [],
   "source": [
    "result1 = photocurrent_mesolve(\n",
    "    H,\n",
    "    rho0,\n",
    "    times,\n",
    "    c_ops=c_ops,\n",
    "    sc_ops=sc_ops,\n",
    "    e_ops=e_ops,\n",
    "    ntraj=1,\n",
    "    nsubsteps=100,\n",
    "    store_measurement=True,\n",
    "    options=Options(store_states=True),\n",
    ")"
   ]
  },
  {
   "cell_type": "markdown",
   "id": "5a8c3131",
   "metadata": {},
   "source": [
    "Run the `smesolve` solver in parallel by passing the keyword argument `map_func=parallel_map`:"
   ]
  },
  {
   "cell_type": "code",
   "execution_count": null,
   "id": "b52a1fdd",
   "metadata": {},
   "outputs": [],
   "source": [
    "result2 = photocurrent_mesolve(\n",
    "    H,\n",
    "    rho0,\n",
    "    times,\n",
    "    c_ops=c_ops,\n",
    "    sc_ops=sc_ops,\n",
    "    e_ops=e_ops,\n",
    "    ntraj=ntraj,\n",
    "    nsubsteps=100,\n",
    "    store_measurement=True,\n",
    "    options=Options(store_states=True),\n",
    "    map_func=parallel_map,\n",
    ")"
   ]
  },
  {
   "cell_type": "raw",
   "id": "86341fc2",
   "metadata": {},
   "source": [
    "# alternative: use the parallel_map based on IPython.parallel\n",
    "from qutip.ipynbtools import parallel_map as ip_parallel_map\n",
    "result2 = smesolve(H, rho0, times, c_ops=c_ops, sc_ops=sc_ops, e_ops=e_ops, \n",
    "                   ntraj=ntraj, nsubsteps=100, method='photocurrent',\n",
    "                   store_measurement=True,\n",
    "                   options=Options(store_states=True),\n",
    "                   progress_bar=HTMLProgressBar(),\n",
    "                   map_func=ip_parallel_map)"
   ]
  },
  {
   "cell_type": "code",
   "execution_count": null,
   "id": "dcdc46ca",
   "metadata": {},
   "outputs": [],
   "source": [
    "fig, axes = plt.subplots(2, 3, figsize=(16, 8), sharex=True)\n",
    "\n",
    "axes[0, 0].plot(times,\n",
    "                result1.expect[0], label=r\"Stochastic ME (ntraj = 1)\", lw=2)\n",
    "axes[0, 0].plot(times, result_ref.expect[0], label=r\"Lindblad ME\", lw=2)\n",
    "axes[0, 0].set_title(\"Cavity photon number (ntraj = 1)\")\n",
    "axes[0, 0].legend()\n",
    "\n",
    "axes[1, 0].plot(\n",
    "    times, result2.expect[0], label=r\"Stochatic ME (ntraj = %d)\" % ntraj, lw=2\n",
    ")\n",
    "axes[1, 0].plot(times, result_ref.expect[0], label=r\"Lindblad ME\", lw=2)\n",
    "axes[1, 0].set_title(\"Cavity photon number (ntraj = 10)\")\n",
    "axes[1, 0].legend()\n",
    "\n",
    "\n",
    "axes[0, 1].plot(times,\n",
    "                result1.expect[2], label=r\"Stochastic ME (ntraj = 1)\", lw=2)\n",
    "axes[0, 1].plot(times, result_ref.expect[2], label=r\"Lindblad ME\", lw=2)\n",
    "axes[0, 1].set_title(\"Qubit excition probability (ntraj = 1)\")\n",
    "axes[0, 1].legend()\n",
    "\n",
    "axes[1, 1].plot(\n",
    "    times, result2.expect[2], label=r\"Stochatic ME (ntraj = %d)\" % ntraj, lw=2\n",
    ")\n",
    "axes[1, 1].plot(times, result_ref.expect[2], label=r\"Lindblad ME\", lw=2)\n",
    "axes[1, 1].set_title(\"Qubit excition probability (ntraj = %d)\" % ntraj)\n",
    "axes[1, 1].legend()\n",
    "\n",
    "\n",
    "axes[0, 2].step(times, dt * np.cumsum(result1.measurement[0].real), lw=2)\n",
    "axes[0, 2].set_title(\"Cummulative photon detections (ntraj = 1)\")\n",
    "axes[1, 2].step(\n",
    "    times,\n",
    "    dt * np.cumsum(np.array(result2.measurement).sum(axis=0).real) / ntraj,\n",
    "    lw=2\n",
    ")\n",
    "axes[1, 2].set_title(\"Cummulative avg. photon detections (ntraj = %d)\" % ntraj)\n",
    "\n",
    "fig.tight_layout()"
   ]
  },
  {
   "cell_type": "markdown",
   "id": "5da521c2",
   "metadata": {},
   "source": [
    "## Versions"
   ]
  },
  {
   "cell_type": "code",
   "execution_count": null,
   "id": "b9b9c8ee",
   "metadata": {},
   "outputs": [],
   "source": [
    "about()"
   ]
  }
 ],
 "metadata": {
  "jupytext": {
   "cell_metadata_filter": "-all",
   "notebook_metadata_filter": "-jupytext.cell_metadata_filter,-jupytext.notebook_metadata_filter"
  },
  "kernelspec": {
   "display_name": "Python 3 (ipykernel)",
   "language": "python",
   "name": "python3"
  }
 },
 "nbformat": 4,
 "nbformat_minor": 5
}
