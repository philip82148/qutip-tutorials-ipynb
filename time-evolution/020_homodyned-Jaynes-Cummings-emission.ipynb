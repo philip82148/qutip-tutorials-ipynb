{
 "cells": [
  {
   "cell_type": "code",
   "execution_count": null,
   "id": "ccc567c1",
   "metadata": {},
   "outputs": [],
   "source": [
    "!pip3 install qutip==4.7.3 qutip-qip==0.3.0 numpy==1.25.2 scipy==1.11.2 matplotlib==3.5.2 jupytext==1.13.8 black==22.3.0 flake8==4.0.1 nbqa==1.3.1 isort==5.10.1"
   ]
  },
  {
   "cell_type": "markdown",
   "id": "c48ba80d",
   "metadata": {},
   "source": [
    "# Steady-State: Homodyned Jaynes-Cummings emission"
   ]
  },
  {
   "cell_type": "markdown",
   "id": "f4a8bbe5",
   "metadata": {},
   "source": [
    "K.A. Fischer, Stanford University\n",
    "\n",
    "This Jupyter notebook demonstrates how to simulate quantum statistics of homodyned emission from a detuned Jaynes-Cummings system. The\n",
    "purpose is to understand how well the first polariton of a dissipative Jaynes-Cummings system can act as an ideal two-level system. This notebook closely follows an example from my simulation paper, <a href=\"https://arxiv.org/abs/1611.01566\">An architecture for self-homodyned nonclassical light</a>, Phys. Rev. Applied 7, 044002 (2017).\n",
    "\n",
    "For more information about QuTiP see the project web page: http://qutip.org/ "
   ]
  },
  {
   "cell_type": "code",
   "execution_count": null,
   "id": "456c5b2e",
   "metadata": {},
   "outputs": [],
   "source": [
    "import matplotlib.pyplot as plt\n",
    "import numpy as np\n",
    "from qutip import (Options, about, destroy, expect, mesolve, parallel_map,\n",
    "                   qeye, steadystate, tensor)\n",
    "\n",
    "%matplotlib inline\n",
    "%config InlineBackend.figure_format = 'retina'"
   ]
  },
  {
   "cell_type": "markdown",
   "id": "9cab4637",
   "metadata": {},
   "source": [
    "## Introduction for the two-level system\n",
    "\n",
    "The quantum two-level system (TLS) is the simplest possible model for quantum light-matter interaction. In the version we simulate here, the system is driven by a continuous-mode coherent state, whose dipolar interaction with the system is represented by the following Hamiltonain\n",
    "\n",
    "$$ H_\\mathrm{TLS} =\\hbar \\omega_0 \\sigma^\\dagger \\sigma + \\frac{\\hbar\\Omega_\\mathrm{TLS}(t)}{2}\\left( \\sigma\\textrm{e}^{-i\\omega_dt} + \\sigma^\\dagger \\textrm{e}^{i\\omega_dt}\\right),$$\n",
    "\n",
    "where $\\omega_0$ is the system's transition frequency, $\\sigma$ is the system's atomic lowering operator, $\\omega_d$ is the coherent state's center frequency, and $\\Omega_\\mathrm{TLS}(t)$ is the coherent state's driving strength.\n",
    "\n",
    "The time-dependence can be removed to simplify the simulation by a rotating frame transformation, and is particularly simple when the driving field is resonant with the transition frequency ($\\omega_d=\\omega_0$). Then,\n",
    "\n",
    "$$ \\tilde{H}_\\mathrm{TLS} =\\frac{\\hbar\\Omega(t)}{2}\\left( \\sigma+ \\sigma^\\dagger \\right).$$"
   ]
  },
  {
   "cell_type": "markdown",
   "id": "5615d417",
   "metadata": {},
   "source": [
    "### Setup the two-level system properties"
   ]
  },
  {
   "cell_type": "code",
   "execution_count": null,
   "id": "473966f7",
   "metadata": {},
   "outputs": [],
   "source": [
    "# define system operators\n",
    "gamma = 1  # decay rate\n",
    "sm_TLS = destroy(2)  # dipole operator\n",
    "c_op_TLS = [np.sqrt(gamma) * sm_TLS]  # represents spontaneous emission\n",
    "\n",
    "# choose range of driving strengths to simulate\n",
    "Om_list_TLS = gamma * np.logspace(-2, 1, 300)\n",
    "\n",
    "# calculate steady-state density matricies for the driving strengths\n",
    "rho_ss_TLS = []\n",
    "for Om in Om_list_TLS:\n",
    "    H_TLS = Om * (sm_TLS + sm_TLS.dag())\n",
    "    rho_ss_TLS.append(steadystate(H_TLS, c_op_TLS))"
   ]
  },
  {
   "cell_type": "markdown",
   "id": "53c94498",
   "metadata": {},
   "source": [
    "The emission can be decomposed into a so-called coherent and incoherent portion. The coherent portion is simply due to the classical mean of the dipole moment, i.e.\n",
    "\n",
    "$$I_\\mathrm{c}=\\lim_{t\\rightarrow\\infty}\\Gamma\\langle\\sigma^\\dagger(t)\\rangle\\langle\\sigma(t)\\rangle,$$\n",
    "\n",
    "while the incoherent portion is due to the standard deviation of the dipole moment (which represents its quantum fluctuations), i.e.\n",
    "\n",
    "$$I_\\mathrm{inc}=\\lim_{t\\rightarrow\\infty}\\Gamma\\langle\\sigma^\\dagger(t)\\sigma(t)\\rangle-I_\\mathrm{c}.$$\n",
    "\n",
    "Together, these emissions conspire in a way to result in zero second-order coherence for the two-level system, i.e. $g^{(2)}(0)=0$.\n"
   ]
  },
  {
   "cell_type": "code",
   "execution_count": null,
   "id": "7f838a86",
   "metadata": {},
   "outputs": [],
   "source": [
    "# decompose the emitted light into the coherent and incoherent\n",
    "# portions\n",
    "I_c_TLS = expect(sm_TLS.dag(), rho_ss_TLS) * expect(sm_TLS, rho_ss_TLS)\n",
    "I_inc_TLS = expect(sm_TLS.dag() * sm_TLS, rho_ss_TLS) - I_c_TLS"
   ]
  },
  {
   "cell_type": "markdown",
   "id": "9af3aebf",
   "metadata": {},
   "source": [
    "### Visualize the incoherent and coherent emissions"
   ]
  },
  {
   "cell_type": "code",
   "execution_count": null,
   "id": "7277f725",
   "metadata": {},
   "outputs": [],
   "source": [
    "plt.semilogx(Om_list_TLS, abs(I_c_TLS), label=r\"TLS $I_\\mathrm{c}$\")\n",
    "plt.semilogx(Om_list_TLS, abs(I_inc_TLS), \"r\", label=r\"TLS $I_\\mathrm{inc}$\")\n",
    "plt.xlabel(\"Driving strength [$\\\\Gamma$]\")\n",
    "plt.ylabel(\"Normalized flux [$\\\\Gamma$]\")\n",
    "plt.legend(loc=2);"
   ]
  },
  {
   "cell_type": "markdown",
   "id": "23fe443b",
   "metadata": {},
   "source": [
    "## Introduction for the Jaynes-Cummings system\n",
    "\n",
    "The quantum Jaynes-Cummings (JC) system represents one of the most fundamental models for quantum light-matter interaction, which models the interaction between a quantum two-level system (e.g. an atomic transition) and a single photonic mode. Here, the strong interaction between light and matter creates new quantum states known as polaritons in an anharmonic ladder of states. In a phenomenon known as photon blockade, the most anharmonic polariton is used as a two-level system to produce emission with $g^{(2)}(0)<1$. We will investigate how well the emission compares to that of a two-level system by comparing both its coherent and incoherent components as well as its $g^{(2)}(0)$.\n",
    "\n",
    "In the version we simulate here, the Jaynes-Cummings system is driven by a continuous-mode coherent state, whose dipolar interaction with the system is represented by the following Hamiltonain\n",
    "\n",
    "$$ H =\\hbar \\omega_a a^\\dagger a + \\hbar \\left(\\omega_a+\\Delta\\right) \\sigma^\\dagger \\sigma+ \\hbar g\\left(a^\\dagger\\sigma +a\\sigma^\\dagger\\right) + \\frac{\\hbar\\Omega(t)}{2}\\left( a\\textrm{e}^{-i\\omega_dt} + a^\\dagger \\textrm{e}^{i\\omega_dt}\\right),$$\n",
    "\n",
    "where additionally $\\omega_a$ is the cavity's resonant frequency and $\\Delta$ is the cavity-atom detuning. We will investigate for finite $\\Delta$ because this increases the anharmonicity of the Jaynes-Cummings ladder. The time-dependence can additionally be removed to simplify the simulation by a rotating frame transformation in a very similar manner as before."
   ]
  },
  {
   "cell_type": "markdown",
   "id": "15dca30e",
   "metadata": {},
   "source": [
    "### Setup the JC system properties"
   ]
  },
  {
   "cell_type": "code",
   "execution_count": null,
   "id": "8933026c",
   "metadata": {},
   "outputs": [],
   "source": [
    "# truncate size of cavity's Fock space\n",
    "N = 15\n",
    "\n",
    "# setup system operators\n",
    "sm = tensor(destroy(2), qeye(N))\n",
    "a = tensor(qeye(2), destroy(N))\n",
    "\n",
    "# define system parameters, barely into strong coupling regime\n",
    "kappa = 1\n",
    "g = 0.6 * kappa\n",
    "detuning = 3 * g  # cavity-atom detuning\n",
    "delta_s = detuning / 2 + np.sqrt(detuning**2 / 4 + g**2)\n",
    "\n",
    "# we only consider cavities in the good-emitter limit, where\n",
    "# the atomic decay is irrelevant\n",
    "c_op = [np.sqrt(kappa) * a]"
   ]
  },
  {
   "cell_type": "markdown",
   "id": "a4b62eff",
   "metadata": {},
   "source": [
    "### Effective polaritonic two-level system\n",
    "\n",
    "In the ideal scenario, the most anharmonic polariton and the ground state form an ideal two-level system with effective emission rate of\n",
    "\n",
    "$$\\Gamma_\\mathrm{eff}= \\frac{\\kappa}{2}+2\\,\\textrm{Im} \\left\\{\\sqrt{ g^2-\\left( \\frac{\\kappa}{4}+\\frac{\\textbf{i}\\Delta}{2} \\right)^2 }\\right\\}.$$"
   ]
  },
  {
   "cell_type": "code",
   "execution_count": null,
   "id": "d4d32dd5",
   "metadata": {},
   "outputs": [],
   "source": [
    "effective_gamma = kappa / 2 + 2 * np.imag(\n",
    "    np.sqrt(g**2 - (kappa / 4 + 1j * detuning / 2) ** 2)\n",
    ")\n",
    "\n",
    "# set driving strength based on the effective polariton's\n",
    "# emission rate (driving strength goes as sqrt{gamma})\n",
    "Om = 0.4 * np.sqrt(effective_gamma)"
   ]
  },
  {
   "cell_type": "markdown",
   "id": "440c33c9",
   "metadata": {},
   "source": [
    "### Define reference system for homodyne interference\n",
    "\n",
    "For the purposes of optimally homodyning the JC output, we wish to transmit light through a bare cavity (no atom involved) and calculate its coherent amplitude. (This of course could easily be analytically calculated but QuTiP certainly is trivially capable of such a calculation.)"
   ]
  },
  {
   "cell_type": "code",
   "execution_count": null,
   "id": "4d8c397e",
   "metadata": {},
   "outputs": [],
   "source": [
    "# reference cavity operator\n",
    "a_r = destroy(N)\n",
    "c_op_r = [np.sqrt(kappa) * a_r]\n",
    "\n",
    "# reference cavity Hamiltonian, no atom coupling\n",
    "H_c = Om * (a_r + a_r.dag()) + delta_s * a_r.dag() * a_r\n",
    "\n",
    "# solve for coherent state amplitude at driving strength Om\n",
    "rho_ss_c = steadystate(H_c, c_op_r)\n",
    "alpha = -expect(rho_ss_c, a_r)\n",
    "alpha_c = alpha.conjugate()"
   ]
  },
  {
   "cell_type": "markdown",
   "id": "013d65dc",
   "metadata": {},
   "source": [
    "### Calculate JC emission\n",
    "\n",
    "The steady-state emitted flux from the JC system is given by $T=\\kappa\\langle a^\\dagger a \\rangle$, however with an additional homodyne interference it is $T=\\langle b^\\dagger b \\rangle$, where the operator $b=\\sqrt{\\kappa}/2\\, a + \\beta$ is a new operator representing the interference between the JC emssion and a coherent state of amplitude $\\beta$.\n",
    "\n",
    "The interference present in the operator $b$ now allows for the alteration of the measured portion of the coherently scattered light, though it leaves the incoherent portion unchanged since the incident flux has only a coherent portion. We're interested in studying the optimal homodyne interference to allow the JC emission to match the TLS emission as closely as possible. This optimum is determined from the above reference cavity, such that $\\beta=-\\sqrt{\\kappa}/2\\langle a_\\textrm{ref} \\rangle$."
   ]
  },
  {
   "cell_type": "code",
   "execution_count": null,
   "id": "2e1af950",
   "metadata": {},
   "outputs": [],
   "source": [
    "def calculate_rho_ss(delta_scan):\n",
    "    H = (\n",
    "        Om * (a + a.dag())\n",
    "        + g * (sm.dag() * a + sm * a.dag())\n",
    "        + delta_scan * (sm.dag() * sm + a.dag() * a)\n",
    "        - detuning * sm.dag() * sm\n",
    "    )\n",
    "    return steadystate(H, c_op)\n",
    "\n",
    "\n",
    "delta_list = np.linspace(-6 * g, 9 * g, 200)\n",
    "rho_ss = parallel_map(calculate_rho_ss, delta_list)\n",
    "\n",
    "# calculate JC emission\n",
    "I_jc = expect(a.dag() * a, rho_ss)\n",
    "\n",
    "# calculate JC emission homodyned with optimal state beta\n",
    "I_int = expect((a.dag() + alpha_c) * (a + alpha), rho_ss)"
   ]
  },
  {
   "cell_type": "markdown",
   "id": "0116b0af",
   "metadata": {},
   "source": [
    "### Visualize the emitted flux with and without interference\n",
    "\n",
    "The dashed black line shows the intensity without interference and the violet line shows the intensity with interference. The vertical gray line indicates the spectral position of the anharmonic polariton. Note its narrower linewidth due to the slower effective decay rate (more atom-like since we're in the good-emitter limit)."
   ]
  },
  {
   "cell_type": "code",
   "execution_count": null,
   "id": "daa61aa7",
   "metadata": {},
   "outputs": [],
   "source": [
    "plt.figure(figsize=(8, 5))\n",
    "\n",
    "plt.plot(delta_list / g, I_jc / effective_gamma, \"k\",\n",
    "         linestyle=\"dashed\", label=\"JC\")\n",
    "plt.plot(delta_list / g, I_int / effective_gamma,\n",
    "         \"blueviolet\", label=\"JC w/ interference\")\n",
    "plt.vlines(delta_s / g, 0, 0.7, \"gray\")\n",
    "plt.xlim(-6, 9)\n",
    "plt.ylim(0, 0.7)\n",
    "plt.xlabel(\"Detuning [g]\")\n",
    "plt.ylabel(r\"Noramlized flux [$\\Gamma_\\mathrm{eff}$]\")\n",
    "plt.legend(loc=1);"
   ]
  },
  {
   "cell_type": "markdown",
   "id": "a5ba9207",
   "metadata": {},
   "source": [
    "### Calculate coherent/incoherent portions of emission from JC system and its $g^{(2)}(0)$\n",
    "\n",
    "We note that\n",
    "\n",
    "$$g^{(2)}(0)=\\frac{\\langle a^\\dagger a^\\dagger a a \\rangle}{\\langle a^\\dagger a \\rangle^2}.$$"
   ]
  },
  {
   "cell_type": "code",
   "execution_count": null,
   "id": "fe679774",
   "metadata": {},
   "outputs": [],
   "source": [
    "Om_list = kappa * np.logspace(-2, 1, 300) * np.sqrt(effective_gamma)"
   ]
  },
  {
   "cell_type": "code",
   "execution_count": null,
   "id": "c70c04e5",
   "metadata": {},
   "outputs": [],
   "source": [
    "def calculate_rho_ss(Om):\n",
    "    H = (\n",
    "        Om * (a + a.dag())\n",
    "        + g * (sm.dag() * a + sm * a.dag())\n",
    "        + delta_s * (sm.dag() * sm + a.dag() * a)\n",
    "        - detuning * sm.dag() * sm\n",
    "    )\n",
    "    return steadystate(H, c_op)\n",
    "\n",
    "\n",
    "rho_ss = parallel_map(calculate_rho_ss, Om_list)\n",
    "\n",
    "# decompose emission again into incoherent and coherent portions\n",
    "I_c = expect(a.dag(), rho_ss) * expect(a, rho_ss)\n",
    "I_inc = expect(a.dag() * a, rho_ss) - I_c\n",
    "\n",
    "# additionally calculate g^(2)(0)\n",
    "g20 = expect(a.dag() * a.dag() * a * a, rho_ss) \\\n",
    "        / expect(a.dag() * a, rho_ss) ** 2"
   ]
  },
  {
   "cell_type": "markdown",
   "id": "ff9a5951",
   "metadata": {},
   "source": [
    "### Visualize the results\n",
    "\n",
    "The dashed black line in the top figure represents the coherent portion of the emission and can clearly be seen to dominate the emission for large driving strengths. Here, the emission significantly deviates from that of a two-level system, which saturates by these driving strengths. The lack of saturation for the JC system occurs due to the harmonic ladder above the anharmonic polariton. Additionally, the $g^{(2)}(0)$ values are all quite large relative to the ideal TLS value of zero (bottom plot)."
   ]
  },
  {
   "cell_type": "code",
   "execution_count": null,
   "id": "8f565087",
   "metadata": {},
   "outputs": [],
   "source": [
    "plt.figure(figsize=(8, 8))\n",
    "\n",
    "plt.subplot(211)\n",
    "plt.semilogx(\n",
    "    Om_list / np.sqrt(effective_gamma),\n",
    "    abs(I_c) / kappa,\n",
    "    \"k\",\n",
    "    linestyle=\"dashed\",\n",
    "    label=r\"JC $I_\\mathrm{c}$\",\n",
    ")\n",
    "plt.semilogx(\n",
    "    Om_list / np.sqrt(effective_gamma),\n",
    "    abs(I_inc) / kappa,\n",
    "    \"r\",\n",
    "    linestyle=\"dashed\",\n",
    "    label=r\"JC $I_\\mathrm{inc}$\",\n",
    ")\n",
    "plt.xlabel(r\"Driving strength [$\\Gamma_\\mathrm{eff}$]\")\n",
    "plt.ylabel(r\"Normalized Flux [$\\kappa$]\")\n",
    "plt.legend(loc=2)\n",
    "\n",
    "plt.subplot(212)\n",
    "plt.loglog(Om_list / np.sqrt(effective_gamma), g20, \"k\", linestyle=\"dashed\")\n",
    "lim = (1e-4, 2e0)\n",
    "plt.ylim(lim)\n",
    "plt.xlabel(r\"Driving strength [$\\Gamma_\\mathrm{eff}$]\")\n",
    "plt.ylabel(\"$g^{(2)}(0)$\");"
   ]
  },
  {
   "cell_type": "markdown",
   "id": "4817d1cf",
   "metadata": {},
   "source": [
    "### Calculate homodyned JC emission\n",
    "\n",
    "Now we recalculate the coherent and incoherent portions as well as the $g^{(2)}(0)$ for the homodyned JC emission, but use the operator $b$ instead of $\\sqrt{\\kappa}/2\\,a$. Thus\n",
    "\n",
    "$$g^{(2)}(0)=\\frac{\\langle b^\\dagger b^\\dagger b b \\rangle}{\\langle b^\\dagger b \\rangle^2}.$$"
   ]
  },
  {
   "cell_type": "code",
   "execution_count": null,
   "id": "c6557bd2",
   "metadata": {},
   "outputs": [],
   "source": [
    "def calculate_rho_ss_c(Om):\n",
    "    H_c = Om * (a_r + a_r.dag()) + delta_s * a_r.dag() * a_r\n",
    "    return steadystate(H_c, c_op_r)\n",
    "\n",
    "\n",
    "rho_ss_c = parallel_map(calculate_rho_ss_c, Om_list)\n",
    "\n",
    "# calculate list of interference values for all driving strengths\n",
    "alpha_list = -expect(rho_ss_c, a_r)\n",
    "alpha_c_list = alpha_list.conjugate()\n",
    "\n",
    "# decompose emission for all driving strengths\n",
    "g20_int = []\n",
    "I_c_int = []\n",
    "I_inc_int = []\n",
    "for i, rho in enumerate(rho_ss):\n",
    "    g20_int.append(\n",
    "        expect(\n",
    "            (a.dag() + alpha_c_list[i])\n",
    "            * (a.dag() + alpha_c_list[i])\n",
    "            * (a + alpha_list[i])\n",
    "            * (a + alpha_list[i]),\n",
    "            rho,\n",
    "        )\n",
    "        / expect((a.dag() + alpha_c_list[i]) * (a + alpha_list[i]), rho) ** 2\n",
    "    )\n",
    "    I_c_int.append(\n",
    "        expect(a.dag() + alpha_c_list[i], rho) * expect(a + alpha_list[i], rho)\n",
    "    )\n",
    "    I_inc_int.append(\n",
    "        expect((a.dag() + alpha_c_list[i]) * (a + alpha_list[i]), rho)\n",
    "        - I_c_int[-1]\n",
    "    )"
   ]
  },
  {
   "cell_type": "markdown",
   "id": "55016fe9",
   "metadata": {},
   "source": [
    "### Calculate the results\n",
    "\n",
    "The dashed red and blue lines, which represent the TLS decomposition are now matched well by the JC decomposition with optimal homodyne interference (red and blue). The dashed black line is shown again as a reminder of the JC system's coherent emission without interference, which does not saturate for large driving strengths. Additionally, with the interference the $g^{(2)}(0)$ value improves by many orders of magnitude."
   ]
  },
  {
   "cell_type": "code",
   "execution_count": null,
   "id": "3fe2a064",
   "metadata": {},
   "outputs": [],
   "source": [
    "plt.figure(figsize=(8, 8))\n",
    "\n",
    "plt.subplot(211)\n",
    "plt.semilogx(Om_list_TLS, abs(I_c_TLS),\n",
    "             linestyle=\"dashed\", label=r\"TLS $I_\\mathrm{c}$\")\n",
    "plt.semilogx(\n",
    "    Om_list_TLS, abs(I_inc_TLS), \"r\",\n",
    "    linestyle=\"dashed\", label=r\"TLS $I_\\mathrm{inc}$\"\n",
    ")\n",
    "plt.semilogx(\n",
    "    Om_list / np.sqrt(effective_gamma),\n",
    "    abs(I_c / effective_gamma),\n",
    "    \"k\",\n",
    "    linestyle=\"dashed\",\n",
    "    label=r\"JC $I_\\mathrm{c}$\",\n",
    ")\n",
    "plt.semilogx(\n",
    "    Om_list / np.sqrt(effective_gamma),\n",
    "    abs(I_inc / effective_gamma),\n",
    "    \"r\",\n",
    "    label=r\"JC $I_\\mathrm{inc}$\",\n",
    ")\n",
    "plt.semilogx(\n",
    "    Om_list / np.sqrt(effective_gamma),\n",
    "    abs(I_c_int / effective_gamma),\n",
    "    \"b\",\n",
    "    label=r\"JC w/ homodyne $I_\\mathrm{c}$\",\n",
    ")\n",
    "plt.semilogx(Om_list / np.sqrt(effective_gamma),\n",
    "             abs(I_inc_int / effective_gamma), \"r\")\n",
    "plt.ylim(5e-4, 0.6)\n",
    "plt.xlabel(r\"Driving strength [$\\Gamma_\\mathrm{eff}$]\")\n",
    "plt.ylabel(r\"Normalized flux [$\\Gamma_\\mathrm{eff}$]\")\n",
    "plt.legend(loc=2)\n",
    "\n",
    "plt.subplot(212)\n",
    "plt.loglog(Om_list / np.sqrt(effective_gamma), g20, \"k\",\n",
    "           linestyle=\"dashed\", label=\"JC\")\n",
    "plt.loglog(\n",
    "    Om_list / np.sqrt(effective_gamma),\n",
    "    g20_int,\n",
    "    \"blueviolet\",\n",
    "    label=\"JC w/ interference\",\n",
    ")\n",
    "plt.ylim(lim)\n",
    "plt.xlabel(r\"Driving strength [$\\Gamma_\\mathrm{eff}$]\")\n",
    "plt.ylabel(r\"$g^{(2)}(0)$\")\n",
    "plt.legend(loc=4);"
   ]
  },
  {
   "cell_type": "markdown",
   "id": "3f49bb0f",
   "metadata": {},
   "source": [
    "### Second-order coherence with delay\n",
    "\n",
    "We additionally consider the second-order coherence as a function of time delay, i.e.\n",
    "\n",
    "$$g^{(2)}(\\tau)=\\lim_{t\\rightarrow\\infty}\\frac{\\langle b^\\dagger(t)b^\\dagger(t+\\tau)b(t+\\tau)b(t)\\rangle}{\\langle b^\\dagger(t)b(t)\\rangle^2},$$\n",
    "\n",
    "and show how it is calculated in the context of homodyne interference."
   ]
  },
  {
   "cell_type": "code",
   "execution_count": null,
   "id": "51e6cca5",
   "metadata": {},
   "outputs": [],
   "source": [
    "# first calculate the steady state\n",
    "H = (\n",
    "    Om * (a + a.dag())\n",
    "    + g * (sm.dag() * a + sm * a.dag())\n",
    "    + delta_s * (sm.dag() * sm + a.dag() * a)\n",
    "    - detuning * sm.dag() * sm\n",
    ")\n",
    "rho0 = steadystate(H, c_op)\n",
    "\n",
    "taulist = np.linspace(0, 5 / effective_gamma, 1000)\n",
    "\n",
    "# next evolve the states according the quantum regression theorem\n",
    "\n",
    "# ...with the b operator\n",
    "corr_vec_int = expect(\n",
    "    (a.dag() + alpha.conjugate()) * (a + alpha),\n",
    "    mesolve(\n",
    "        H,\n",
    "        (a + alpha) * rho0 * (a.dag() + alpha.conjugate()),\n",
    "        taulist,\n",
    "        c_op,\n",
    "        [],\n",
    "        options=Options(atol=1e-13, rtol=1e-11),\n",
    "    ).states,\n",
    ")\n",
    "n_int = expect(rho0, (a.dag() + alpha.conjugate()) * (a + alpha))\n",
    "\n",
    "# ...with the a operator\n",
    "corr_vec = expect(\n",
    "    a.dag() * a,\n",
    "    mesolve(\n",
    "        H,\n",
    "        a * rho0 * a.dag(),\n",
    "        taulist,\n",
    "        c_op,\n",
    "        [],\n",
    "        options=Options(atol=1e-12, rtol=1e-10),\n",
    "    ).states,\n",
    ")\n",
    "n = expect(rho0, a.dag() * a)\n",
    "\n",
    "# ...perform the same for the TLS comparison\n",
    "H_TLS = Om * (sm_TLS + sm_TLS.dag()) * np.sqrt(effective_gamma)\n",
    "c_ops_TLS = [sm_TLS * np.sqrt(effective_gamma)]\n",
    "rho0_TLS = steadystate(H_TLS, c_ops_TLS)\n",
    "corr_vec_TLS = expect(\n",
    "    sm_TLS.dag() * sm_TLS,\n",
    "    mesolve(H_TLS, sm_TLS * rho0_TLS * sm_TLS.dag(),\n",
    "            taulist, c_ops_TLS, []).states,\n",
    ")\n",
    "n_TLS = expect(rho0_TLS, sm_TLS.dag() * sm_TLS)"
   ]
  },
  {
   "cell_type": "markdown",
   "id": "39f1c5d2",
   "metadata": {},
   "source": [
    "### Visualize the comparison to TLS correlations\n",
    "\n",
    "At a moderate driving strength, the JC correlation (dashed black line) is seen to significantly deviate from that of the TLS (dotted purple line). On the other hand, after the optimal homodyne inteference, the emission correlations (solid purple line) match the ideal correlations very well."
   ]
  },
  {
   "cell_type": "code",
   "execution_count": null,
   "id": "cec2d842",
   "metadata": {},
   "outputs": [],
   "source": [
    "plt.figure(figsize=(8, 5))\n",
    "\n",
    "(l1,) = plt.plot(\n",
    "    taulist * effective_gamma,\n",
    "    corr_vec_TLS / n_TLS**2,\n",
    "    \"blueviolet\",\n",
    "    linestyle=\"dotted\",\n",
    "    label=\"TLS\",\n",
    ")\n",
    "plt.plot(taulist * effective_gamma, corr_vec / n**2, \"k\",\n",
    "         linestyle=\"dashed\", label=\"JC\")\n",
    "plt.plot(\n",
    "    taulist * effective_gamma,\n",
    "    corr_vec_int / n_int**2,\n",
    "    \"blueviolet\",\n",
    "    label=\"JC w/ interference\",\n",
    ")\n",
    "plt.xlabel(r\"$\\tau$ [$1/\\Gamma_\\mathrm{eff}$]\")\n",
    "plt.ylabel(r\"$g^{(2)}(\\tau)$\")\n",
    "plt.legend(loc=2);"
   ]
  },
  {
   "cell_type": "markdown",
   "id": "1dfca2ea",
   "metadata": {},
   "source": [
    "## Versions"
   ]
  },
  {
   "cell_type": "code",
   "execution_count": null,
   "id": "0513717d",
   "metadata": {},
   "outputs": [],
   "source": [
    "about()"
   ]
  }
 ],
 "metadata": {
  "jupytext": {
   "cell_metadata_filter": "-all",
   "notebook_metadata_filter": "-jupytext.cell_metadata_filter,-jupytext.notebook_metadata_filter"
  },
  "kernelspec": {
   "display_name": "Python 3 (ipykernel)",
   "language": "python",
   "name": "python3"
  }
 },
 "nbformat": 4,
 "nbformat_minor": 5
}
