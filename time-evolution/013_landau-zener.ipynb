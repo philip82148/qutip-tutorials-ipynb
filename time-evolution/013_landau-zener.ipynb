{
 "cells": [
  {
   "cell_type": "code",
   "execution_count": null,
   "id": "ccc567c1",
   "metadata": {},
   "outputs": [],
   "source": [
    "!pip3 install qutip==4.7.0 qutip-qip==0.2.1 numpy==1.21.0 scipy==1.8.1 matplotlib==3.5.2 jupytext==1.13.8 black==22.3.0 flake8==4.0.1 nbqa==1.3.1 isort==5.10.1"
   ]
  },
  {
   "cell_type": "markdown",
   "id": "49fb3ab2",
   "metadata": {},
   "source": [
    "# Time-dependent Master Equation: Landau-Zener transitions"
   ]
  },
  {
   "cell_type": "markdown",
   "id": "b9308b1e",
   "metadata": {},
   "source": [
    "J.R. Johansson and P.D. Nation\n",
    "\n",
    "For more information about QuTiP see [http://qutip.org](http://qutip.org)"
   ]
  },
  {
   "cell_type": "code",
   "execution_count": null,
   "id": "4aa697f0",
   "metadata": {},
   "outputs": [],
   "source": [
    "import time\n",
    "\n",
    "import matplotlib.pyplot as plt\n",
    "import numpy as np\n",
    "from qutip import (Odeoptions, about, basis, destroy, expect, mesolve,\n",
    "                   propagator, propagator_steadystate, sigmax, sigmaz)\n",
    "\n",
    "%matplotlib inline"
   ]
  },
  {
   "cell_type": "code",
   "execution_count": null,
   "id": "d74ff921",
   "metadata": {},
   "outputs": [],
   "source": [
    "def hamiltonian_t(t, args):\n",
    "    \"\"\"evaluate the hamiltonian at time t.\"\"\"\n",
    "    H0 = args[0]\n",
    "    H1 = args[1]\n",
    "\n",
    "    return H0 + t * H1"
   ]
  },
  {
   "cell_type": "code",
   "execution_count": null,
   "id": "bf76a72f",
   "metadata": {},
   "outputs": [],
   "source": [
    "def qubit_integrate(delta, eps0, A, gamma1, gamma2, psi0, tlist):\n",
    "\n",
    "    # Hamiltonian\n",
    "    sx = sigmax()\n",
    "    sz = sigmaz()\n",
    "    sm = destroy(2)\n",
    "\n",
    "    H0 = -delta / 2.0 * sx - eps0 / 2.0 * sz\n",
    "    H1 = -A / 2.0 * sz\n",
    "\n",
    "    # collapse operators\n",
    "    c_op_list = []\n",
    "\n",
    "    n_th = 0.0  # zero temperature\n",
    "\n",
    "    # relaxation\n",
    "    rate = gamma1 * (1 + n_th)\n",
    "    if rate > 0.0:\n",
    "        c_op_list.append(np.sqrt(rate) * sm)\n",
    "\n",
    "    # excitation\n",
    "    rate = gamma1 * n_th\n",
    "    if rate > 0.0:\n",
    "        c_op_list.append(np.sqrt(rate) * sm.dag())\n",
    "\n",
    "    # dephasing\n",
    "    rate = gamma2\n",
    "    if rate > 0.0:\n",
    "        c_op_list.append(np.sqrt(rate) * sz)\n",
    "\n",
    "    # evolve and calculate expectation values\n",
    "\n",
    "    # method 1: function callback which returns the time-depdent qobj\n",
    "    # H_args = (H0, H1)\n",
    "    # output = mesolve(hamiltonian_t,\n",
    "    #                  psi0, tlist, c_op_list, [sm.dag() * sm], H_args)\n",
    "\n",
    "    # method 2: a function callback that returns the coefficient for a qobj\n",
    "    # H = [H0, [H1, lambda x,y: x]]\n",
    "    # output = mesolve(H, psi0, tlist, c_op_list, [sm.dag() * sm], {})\n",
    "\n",
    "    # method 3: a string that defines the coefficient. The solver generates\n",
    "    # and compiles C code using cython. This method is usually the fastest\n",
    "    # for large systems or long time evolutions, but there is fixed-time\n",
    "    # overhead that makes it inefficient for small and short-time evolutions.\n",
    "    H = [H0, [H1, \"t\"]]\n",
    "    output = mesolve(H, psi0, tlist, c_op_list, [sm.dag() * sm], {})\n",
    "\n",
    "    return output.expect[0]"
   ]
  },
  {
   "cell_type": "code",
   "execution_count": null,
   "id": "b9b479e7",
   "metadata": {},
   "outputs": [],
   "source": [
    "#\n",
    "# set up the calculation\n",
    "#\n",
    "delta = 0.5 * 2 * np.pi  # qubit sigma_x coefficient\n",
    "eps0 = 0.0 * 2 * np.pi  # qubit sigma_z coefficient\n",
    "A = 2.0 * 2 * np.pi  # sweep rate\n",
    "gamma1 = 0.0  # relaxation rate\n",
    "gamma2 = 0.0  # dephasing  rate\n",
    "psi0 = basis(2, 0)  # initial state\n",
    "\n",
    "tlist = np.linspace(-20.0, 20.0, 5000)"
   ]
  },
  {
   "cell_type": "code",
   "execution_count": null,
   "id": "c4ccaff9",
   "metadata": {},
   "outputs": [],
   "source": [
    "start_time = time.time()\n",
    "p_ex = qubit_integrate(delta, eps0, A, gamma1, gamma2, psi0, tlist)\n",
    "print(\"time elapsed = \" + str(time.time() - start_time))"
   ]
  },
  {
   "cell_type": "code",
   "execution_count": null,
   "id": "d51ea483",
   "metadata": {},
   "outputs": [],
   "source": [
    "fig, ax = plt.subplots(figsize=(12, 8))\n",
    "ax.plot(tlist, np.real(p_ex), \"b\", tlist, np.real(1 - p_ex), \"r\")\n",
    "ax.plot(tlist, 1 - np.exp(-np.pi * delta**2 / (2 * A)) *\n",
    "        np.ones(tlist.shape[0]), \"k\")\n",
    "ax.set_xlabel(\"Time\")\n",
    "ax.set_ylabel(\"Occupation probability\")\n",
    "ax.set_title(\"Landau-Zener transition\")\n",
    "ax.legend((\"Excited state\", \"Ground state\", \"Landau-Zener formula\"), loc=0);"
   ]
  },
  {
   "cell_type": "markdown",
   "id": "9d141f6b",
   "metadata": {},
   "source": [
    "## Steady state of strongly driven two-level system (repeated LZ transitions)"
   ]
  },
  {
   "cell_type": "code",
   "execution_count": null,
   "id": "55838c87",
   "metadata": {},
   "outputs": [],
   "source": [
    "def qubit_integrate(delta, eps0, A, omega, gamma1,\n",
    "                    gamma2, psi0, tlist, option):\n",
    "\n",
    "    # Hamiltonian\n",
    "    sx = sigmax()\n",
    "    sz = sigmaz()\n",
    "    sm = destroy(2)\n",
    "\n",
    "    H0 = -delta / 2.0 * sx - eps0 / 2.0 * sz\n",
    "    H1 = -A / 2.0 * sz\n",
    "\n",
    "    H = [H0, [H1, \"cos(w*t)\"]]\n",
    "    H_args = {\"w\": omega}\n",
    "    # collapse operators\n",
    "    c_op_list = []\n",
    "\n",
    "    n_th = 0.0  # zero temperature\n",
    "\n",
    "    # relaxation\n",
    "    rate = gamma1 * (1 + n_th)\n",
    "    if rate > 0.0:\n",
    "        c_op_list.append(np.sqrt(rate) * sm)\n",
    "\n",
    "    # excitation\n",
    "    rate = gamma1 * n_th\n",
    "    if rate > 0.0:\n",
    "        c_op_list.append(np.sqrt(rate) * sm.dag())\n",
    "\n",
    "    # dephasing\n",
    "    rate = gamma2\n",
    "    if rate > 0.0:\n",
    "        c_op_list.append(np.sqrt(rate) * sz)\n",
    "\n",
    "    if option == \"dynamics\":\n",
    "        # evolve and calculate expectation values\n",
    "        output = mesolve(H, psi0, tlist, c_op_list, [sm.dag() * sm], H_args)\n",
    "\n",
    "        return output.expect[0]\n",
    "\n",
    "    else:  # option = steadystate\n",
    "\n",
    "        # find the propagator for one driving period\n",
    "        T = 2 * np.pi / omega\n",
    "        U = propagator(H, T, c_op_list, H_args,\n",
    "                       options=Odeoptions(nsteps=2500))\n",
    "\n",
    "        # find the steady state of successive application of the propagator\n",
    "        rho_ss = propagator_steadystate(U)\n",
    "\n",
    "        return np.real(expect(sm.dag() * sm, rho_ss))"
   ]
  },
  {
   "cell_type": "code",
   "execution_count": null,
   "id": "11a669ca",
   "metadata": {},
   "outputs": [],
   "source": [
    "#\n",
    "# set up the calculation: a strongly driven two-level system\n",
    "# (repeated LZ transitions)\n",
    "#\n",
    "delta = 0.05 * 2 * np.pi  # qubit sigma_x coefficient\n",
    "eps0 = 0.0 * 2 * np.pi  # qubit sigma_z coefficient\n",
    "A = 2.0 * 2 * np.pi  # sweep rate\n",
    "gamma1 = 0.0001  # relaxation rate\n",
    "gamma2 = 0.005  # dephasing  rate\n",
    "psi0 = basis(2, 0)  # initial state\n",
    "omega = 0.05 * 2 * np.pi  # driving frequency\n",
    "T = (2 * np.pi) / omega  # driving period\n",
    "\n",
    "tlist = np.linspace(0.0, 3 * T, 1500)"
   ]
  },
  {
   "cell_type": "markdown",
   "id": "9e7b3cf8",
   "metadata": {},
   "source": [
    "### Steady state and dynamics for a fixed driving amplitude"
   ]
  },
  {
   "cell_type": "code",
   "execution_count": null,
   "id": "1b296856",
   "metadata": {},
   "outputs": [],
   "source": [
    "start_time = time.time()\n",
    "p_ex = qubit_integrate(delta, eps0, A, omega, gamma1,\n",
    "                       gamma2, psi0, tlist, \"dynamics\")\n",
    "print(\"dynamics: time elapsed = \" + str(time.time() - start_time))"
   ]
  },
  {
   "cell_type": "code",
   "execution_count": null,
   "id": "c037e032",
   "metadata": {},
   "outputs": [],
   "source": [
    "start_time = time.time()\n",
    "p_ex_ss = qubit_integrate(\n",
    "    delta, eps0, A, omega, gamma1, gamma2, psi0, tlist, \"steadystate\"\n",
    ")\n",
    "print(\"steady state: time elapsed = \" + str(time.time() - start_time))"
   ]
  },
  {
   "cell_type": "code",
   "execution_count": null,
   "id": "13712937",
   "metadata": {},
   "outputs": [],
   "source": [
    "fig, (ax1, ax2) = plt.subplots(2, 1, figsize=(12, 8))\n",
    "\n",
    "ax1.plot(\n",
    "    tlist,\n",
    "    np.real(p_ex),\n",
    "    \"b\",\n",
    "    tlist,\n",
    "    np.real(1 - p_ex),\n",
    "    \"r\",\n",
    "    tlist,\n",
    "    np.ones(np.shape(tlist)) * p_ex_ss,\n",
    "    \"k\",\n",
    ")\n",
    "ax1.set_xlabel(\"Time\")\n",
    "ax1.set_ylabel(\"Probability\")\n",
    "ax1.set_title(\"Repeated Landau-Zener-like transitions\")\n",
    "ax1.legend((\"Excited state\", \"Ground state\", \"Excited steady state\"), loc=0)\n",
    "\n",
    "ax2.plot(tlist, -delta / 2.0 * np.ones(np.shape(tlist)), \"r\")\n",
    "ax2.plot(tlist, -(eps0 / 2.0 + A / 2.0 * np.cos(omega * tlist)), \"b\")\n",
    "ax2.legend((\"sx coeff\", \"sz coeff\"))\n",
    "ax2.set_xlabel(\"Time\")\n",
    "ax2.set_ylabel(\"Coefficients in the Hamiltonian\");"
   ]
  },
  {
   "cell_type": "markdown",
   "id": "24481d67",
   "metadata": {},
   "source": [
    "### Steady state as a function of driving amplitude"
   ]
  },
  {
   "cell_type": "code",
   "execution_count": null,
   "id": "406864e6",
   "metadata": {},
   "outputs": [],
   "source": [
    "start_time = time.time()\n",
    "\n",
    "# increase the number of points and the range\n",
    "# to obtain a more detailed result\n",
    "# note that this increases the calculation time\n",
    "A_vec = 2 * np.pi * np.linspace(1.9, 2.1, 5)\n",
    "\n",
    "p_ex_ss_vec = np.zeros(len(A_vec))\n",
    "idx = 0\n",
    "start_time = time.time()\n",
    "for A in A_vec:\n",
    "    print(A)\n",
    "\n",
    "    p_ex_ss_vec[idx] = qubit_integrate(\n",
    "        delta, eps0, A, omega, gamma1, gamma2, psi0, tlist, \"steadystate\"\n",
    "    )\n",
    "    idx += 1\n",
    "\n",
    "print(\"time elapsed = \" + str(time.time() - start_time))"
   ]
  },
  {
   "cell_type": "code",
   "execution_count": null,
   "id": "d10ab518",
   "metadata": {},
   "outputs": [],
   "source": [
    "fig, ax = plt.subplots()\n",
    "\n",
    "ax.plot(A_vec / (2 * np.pi), p_ex_ss_vec, \"b.-\")\n",
    "ax.set_title(\"Steady state of repeated LZ transitions\")\n",
    "ax.set_xlabel(\"driving amplitude\")\n",
    "ax.set_ylabel(\"Occupation probability\");"
   ]
  },
  {
   "cell_type": "markdown",
   "id": "66f0c07e",
   "metadata": {},
   "source": [
    "## Steadystate of a strongly driven two-level system as a function of driving amplitude and qubit bias"
   ]
  },
  {
   "cell_type": "markdown",
   "id": "57842965",
   "metadata": {},
   "source": [
    "Find the steady state of a strongly driven qubit as a function of driving amplitude and qubit bias. \n",
    "\n",
    "Note: This calculation can takes a long time."
   ]
  },
  {
   "cell_type": "code",
   "execution_count": null,
   "id": "172be3fa",
   "metadata": {},
   "outputs": [],
   "source": [
    "def sd_qubit_integrate(delta, eps0_vec, A_vec, w, gamma1, gamma2):\n",
    "\n",
    "    # Hamiltonian\n",
    "    sx = sigmax()\n",
    "    sz = sigmaz()\n",
    "    sm = destroy(2)\n",
    "\n",
    "    # collapse operators\n",
    "    c_op_list = []\n",
    "\n",
    "    n_th = 0.0  # zero temperature\n",
    "\n",
    "    # relaxation\n",
    "    rate = gamma1 * (1 + n_th)\n",
    "    if rate > 0.0:\n",
    "        c_op_list.append(np.sqrt(rate) * sm)\n",
    "\n",
    "    # excitation\n",
    "    rate = gamma1 * n_th\n",
    "    if rate > 0.0:\n",
    "        c_op_list.append(np.sqrt(rate) * sm.dag())\n",
    "\n",
    "    # dephasing\n",
    "    rate = gamma2\n",
    "    if rate > 0.0:\n",
    "        c_op_list.append(np.sqrt(rate) * sz)\n",
    "\n",
    "    N = len(A_vec)\n",
    "    M = len(eps0_vec)\n",
    "    p_ex = np.zeros([N, M])  # , dtype=complex)\n",
    "\n",
    "    T = 2 * np.pi / w\n",
    "\n",
    "    sn = sm.dag() * sm\n",
    "\n",
    "    # sweep over the driving amplitude and bias point, find the steady state\n",
    "    # for each point and store in a matrix\n",
    "    for n in range(0, N):\n",
    "        for m in range(0, M):\n",
    "\n",
    "            H0 = -delta / 2.0 * sx - eps0_vec[m] / 2.0 * sz\n",
    "            H1 = -A_vec[n] * sx\n",
    "\n",
    "            H = [H0, [H1, \"sin(w * t)\"]]\n",
    "\n",
    "            H_args = {\"w\": omega}\n",
    "\n",
    "            # find the propagator for one period of the time-dependent\n",
    "            # hamiltonian\n",
    "            U = propagator(H, T, c_op_list, H_args)\n",
    "\n",
    "            # find the steady state of the driven system\n",
    "            rho_ss = propagator_steadystate(U)\n",
    "\n",
    "            p_ex[n, m] = np.real(expect(sn, rho_ss))\n",
    "\n",
    "    return p_ex"
   ]
  },
  {
   "cell_type": "code",
   "execution_count": null,
   "id": "41750539",
   "metadata": {},
   "outputs": [],
   "source": [
    "#\n",
    "# set up the parameters\n",
    "#\n",
    "delta = 0.2 * 2 * np.pi  # qubit sigma_x coefficient\n",
    "w = 1.0 * 2 * np.pi  # qubit sigma_z coefficient\n",
    "\n",
    "A_vec = np.linspace(0.0, 4.0, 3) * 2 * np.pi  # driving amplitude\n",
    "eps0_vec = np.linspace(0.0, 4.0, 3) * 2 * np.pi  # qubit sigma-z bias point\n",
    "\n",
    "gamma1 = 0.05  # relaxation rate\n",
    "gamma2 = 0.0  # dephasing  rate"
   ]
  },
  {
   "cell_type": "code",
   "execution_count": null,
   "id": "5c06e6b9",
   "metadata": {},
   "outputs": [],
   "source": [
    "start_time = time.time()\n",
    "p_ex = sd_qubit_integrate(delta, eps0_vec, A_vec, w, gamma1, gamma2)\n",
    "print(\"time elapsed = \" + str(time.time() - start_time))"
   ]
  },
  {
   "cell_type": "code",
   "execution_count": null,
   "id": "2a366479",
   "metadata": {},
   "outputs": [],
   "source": [
    "fig, ax = plt.subplots(figsize=(10, 10))\n",
    "p = ax.pcolor(A_vec, eps0_vec, np.real(p_ex), shading=\"auto\")\n",
    "p.set_cmap(\"RdYlBu_r\")\n",
    "ax.set_ylabel(r\"$A/\\omega$\", fontsize=20)\n",
    "ax.set_xlabel(r\"$\\epsilon_0/\\omega$\", fontsize=20)\n",
    "ax.axis(\"tight\")\n",
    "ax.set_title(\"Excitation probabilty of qubit, in steady state\", fontsize=16);"
   ]
  },
  {
   "cell_type": "markdown",
   "id": "99b32b8f",
   "metadata": {},
   "source": [
    "## Versions"
   ]
  },
  {
   "cell_type": "code",
   "execution_count": null,
   "id": "cd3c4fe6",
   "metadata": {},
   "outputs": [],
   "source": [
    "about()"
   ]
  },
  {
   "cell_type": "code",
   "execution_count": null,
   "id": "f44f18e0",
   "metadata": {},
   "outputs": [],
   "source": []
  }
 ],
 "metadata": {
  "jupytext": {
   "cell_metadata_filter": "-all",
   "notebook_metadata_filter": "-jupytext.cell_metadata_filter,-jupytext.notebook_metadata_filter"
  },
  "kernelspec": {
   "display_name": "Python 3 (ipykernel)",
   "language": "python",
   "name": "python3"
  }
 },
 "nbformat": 4,
 "nbformat_minor": 5
}
