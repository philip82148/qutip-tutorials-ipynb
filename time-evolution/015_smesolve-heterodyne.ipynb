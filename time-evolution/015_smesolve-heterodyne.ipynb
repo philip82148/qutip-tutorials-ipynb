{
 "cells": [
  {
   "cell_type": "code",
   "execution_count": null,
   "id": "ccc567c1",
   "metadata": {},
   "outputs": [],
   "source": [
    "!pip3 install qutip==4.7.3 qutip-qip==0.2.1 numpy==1.25.2 scipy==1.11.2 matplotlib==3.5.2 jupytext==1.13.8 black==22.3.0 flake8==4.0.1 nbqa==1.3.1 isort==5.10.1"
   ]
  },
  {
   "cell_type": "markdown",
   "id": "b68fb473",
   "metadata": {},
   "source": [
    "# Stochastic Solver: Heterodyne Detection"
   ]
  },
  {
   "cell_type": "markdown",
   "id": "606b5194",
   "metadata": {},
   "source": [
    "Copyright (C) 2011 and later, Paul D. Nation & Robert J. Johansson"
   ]
  },
  {
   "cell_type": "code",
   "execution_count": null,
   "id": "97ee33b0",
   "metadata": {},
   "outputs": [],
   "source": [
    "import matplotlib.pyplot as plt\n",
    "import numpy as np\n",
    "import scipy as sp\n",
    "from qutip import (Options, about, coherent, destroy, general_stochastic,\n",
    "                   ket2dm, lindblad_dissipator, liouvillian, mesolve,\n",
    "                   parallel_map, plot_expectation_values, smesolve, spost,\n",
    "                   spre, stochastic_solvers)\n",
    "from qutip.expect import expect_rho_vec\n",
    "\n",
    "%matplotlib inline"
   ]
  },
  {
   "cell_type": "markdown",
   "id": "db5e3c75",
   "metadata": {},
   "source": [
    "## Introduction"
   ]
  },
  {
   "cell_type": "markdown",
   "id": "c0194a8d",
   "metadata": {},
   "source": [
    "Homodyne and hetrodyne detection are techniques for measuring the quadratures of a field using photocounters. Homodyne detection (on-resonant) measures one quadrature and with heterodyne detection (off-resonant) both quadratures can be detected simulateously.\n",
    "\n",
    "The evolution of a quantum system that is coupled to a field that is monitored with homodyne and heterodyne detector can be described with stochastic master equations. This notebook compares two different ways to implement the heterodyne detection stochastic master equation in QuTiP."
   ]
  },
  {
   "cell_type": "markdown",
   "id": "b1f079c4",
   "metadata": {},
   "source": [
    "## Deterministic reference"
   ]
  },
  {
   "cell_type": "code",
   "execution_count": null,
   "id": "241d143b",
   "metadata": {},
   "outputs": [],
   "source": [
    "N = 15\n",
    "w0 = 1.0 * 2 * np.pi\n",
    "A = 0.1 * 2 * np.pi\n",
    "times = np.linspace(0, 15, 201)\n",
    "gamma = 0.25\n",
    "\n",
    "ntraj = 50\n",
    "nsubsteps = 50\n",
    "\n",
    "a = destroy(N)\n",
    "x = a + a.dag()\n",
    "y = -1.0j * (a - a.dag())\n",
    "\n",
    "H = w0 * a.dag() * a + A * (a + a.dag())\n",
    "\n",
    "rho0 = coherent(N, np.sqrt(5.0), method=\"analytic\")\n",
    "c_ops = [np.sqrt(gamma) * a]\n",
    "e_ops = [a.dag() * a, x, y]"
   ]
  },
  {
   "cell_type": "code",
   "execution_count": null,
   "id": "33b27105",
   "metadata": {},
   "outputs": [],
   "source": [
    "result_ref = mesolve(H, rho0, times, c_ops, e_ops)"
   ]
  },
  {
   "cell_type": "code",
   "execution_count": null,
   "id": "66dcaec4",
   "metadata": {},
   "outputs": [],
   "source": [
    "plot_expectation_values(result_ref);"
   ]
  },
  {
   "cell_type": "markdown",
   "id": "1a9cbd04",
   "metadata": {},
   "source": [
    "## Heterodyne implementation #1"
   ]
  },
  {
   "cell_type": "markdown",
   "id": "8947fcac",
   "metadata": {},
   "source": [
    "Stochastic master equation for heterodyne in Milburn's formulation\n",
    "\n",
    "$\\displaystyle d\\rho(t) = -i[H, \\rho(t)]dt + \\gamma\\mathcal{D}[a]\\rho(t) dt + \\frac{1}{\\sqrt{2}} dW_1(t) \\sqrt{\\gamma} \\mathcal{H}[a] \\rho(t) + \\frac{1}{\\sqrt{2}} dW_2(t) \\sqrt{\\gamma} \\mathcal{H}[-ia] \\rho(t)$\n",
    "\n",
    "where $\\mathcal{D}$ is the standard Lindblad dissipator superoperator, and $\\mathcal{H}$ is defined as above,\n",
    "and $dW_i(t)$ is a normal distributed increment with $E[dW_i(t)] = \\sqrt{dt}$.\n",
    "\n",
    "\n",
    "In QuTiP format we have:\n",
    "\n",
    "$\\displaystyle d\\rho(t) = -i[H, \\rho(t)]dt +  D_{1}[A]\\rho(t) dt + D_{2}^{(1)}[A]\\rho(t) dW_1 + D_{2}^{(2)}[A]\\rho(t) dW_2$\n",
    "\n",
    "where $A = \\sqrt{\\gamma} a$, so we can identify"
   ]
  },
  {
   "cell_type": "markdown",
   "id": "67fa7fca",
   "metadata": {},
   "source": [
    "$\\displaystyle D_{1}[A]\\rho = \\gamma \\mathcal{D}[a]\\rho = \\mathcal{D}[A]\\rho$"
   ]
  },
  {
   "cell_type": "code",
   "execution_count": null,
   "id": "5270c732",
   "metadata": {},
   "outputs": [],
   "source": [
    "L = liouvillian(H)\n",
    "D = lindblad_dissipator(c_ops[0])\n",
    "d1_operator = L + D\n",
    "\n",
    "\n",
    "def d1_rho_func(t, rho_vec):\n",
    "    return d1_operator * rho_vec"
   ]
  },
  {
   "cell_type": "markdown",
   "id": "3f854d6c",
   "metadata": {},
   "source": [
    "$D_{2}^{(1)}[A]\\rho = \\frac{1}{\\sqrt{2}} \\sqrt{\\gamma} \\mathcal{H}[a] \\rho =\n",
    "\\frac{1}{\\sqrt{2}} \\mathcal{H}[A] \\rho =\n",
    "\\frac{1}{\\sqrt{2}}(A\\rho + \\rho A^\\dagger - \\mathrm{Tr}[A\\rho + \\rho A^\\dagger] \\rho)\n",
    "\\rightarrow \\frac{1}{\\sqrt{2}} \\left\\{(A_L +  A_R^\\dagger)\\rho_v - \\mathrm{Tr}[(A_L +  A_R^\\dagger)\\rho_v] \\rho_v\\right\\}$\n",
    "\n",
    "$D_{2}^{(2)}[A]\\rho = \\frac{1}{\\sqrt{2}} \\sqrt{\\gamma} \\mathcal{H}[-ia] \\rho \n",
    "= \\frac{1}{\\sqrt{2}} \\mathcal{H}[-iA] \\rho =\n",
    "\\frac{-i}{\\sqrt{2}}(A\\rho - \\rho A^\\dagger - \\mathrm{Tr}[A\\rho - \\rho A^\\dagger] \\rho)\n",
    "\\rightarrow \\frac{-i}{\\sqrt{2}} \\left\\{(A_L -  A_R^\\dagger)\\rho_v - \\mathrm{Tr}[(A_L - A_R^\\dagger)\\rho_v] \\rho_v\\right\\}$"
   ]
  },
  {
   "cell_type": "code",
   "execution_count": null,
   "id": "b41b7d11",
   "metadata": {},
   "outputs": [],
   "source": [
    "B1 = spre(c_ops[0]) + spost(c_ops[0].dag())\n",
    "B2 = spre(c_ops[0]) + spost(c_ops[0].dag())\n",
    "\n",
    "\n",
    "def d2_rho_func(t, rho_vec):\n",
    "    e1 = expect_rho_vec(B1.data, rho_vec, False)\n",
    "    drho1 = B1 * rho_vec - e1 * rho_vec\n",
    "\n",
    "    e1 = expect_rho_vec(B2.data, rho_vec, False)\n",
    "    drho2 = B2 * rho_vec - e1 * rho_vec\n",
    "\n",
    "    return np.vstack([1.0 / np.sqrt(2) * drho1, -1.0j / np.sqrt(2) * drho2])"
   ]
  },
  {
   "cell_type": "markdown",
   "id": "6b120653",
   "metadata": {},
   "source": [
    "The heterodyne currents for the $x$ and $y$ quadratures are\n",
    "\n",
    "$J_x(t) = \\sqrt{\\gamma}\\left<x\\right> + \\sqrt{2} \\xi(t)$\n",
    "\n",
    "$J_y(t) = \\sqrt{\\gamma}\\left<y\\right> + \\sqrt{2} \\xi(t)$\n",
    "\n",
    "where $\\xi(t) = \\frac{dW}{dt}$.\n",
    "\n",
    "In qutip we define these measurement operators using the `m_ops = [[x, y]]` and the coefficients to the noise terms `dW_factor = [sqrt(2/gamma), sqrt(2/gamma)]`."
   ]
  },
  {
   "cell_type": "code",
   "execution_count": null,
   "id": "56f541c1",
   "metadata": {},
   "outputs": [],
   "source": [
    "result = general_stochastic(\n",
    "    ket2dm(rho0),\n",
    "    times,\n",
    "    d1_rho_func,\n",
    "    d2_rho_func,\n",
    "    e_ops=[spre(op) for op in e_ops],\n",
    "    len_d2=2,\n",
    "    ntraj=ntraj,\n",
    "    nsubsteps=nsubsteps,\n",
    "    solver=\"platen\",\n",
    "    dW_factors=[np.sqrt(2 / gamma), np.sqrt(2 / gamma)],\n",
    "    m_ops=[spre(x), spre(y)],\n",
    "    store_measurement=True,\n",
    "    map_func=parallel_map,\n",
    ")"
   ]
  },
  {
   "cell_type": "code",
   "execution_count": null,
   "id": "2091b3eb",
   "metadata": {},
   "outputs": [],
   "source": [
    "plot_expectation_values([result, result_ref]);"
   ]
  },
  {
   "cell_type": "code",
   "execution_count": null,
   "id": "ac402f30",
   "metadata": {},
   "outputs": [],
   "source": [
    "fig, ax = plt.subplots(figsize=(8, 4))\n",
    "\n",
    "for m in result.measurement:\n",
    "    ax.plot(times, m[:, 0].real, \"b\", alpha=0.05)\n",
    "    ax.plot(times, m[:, 1].real, \"r\", alpha=0.05)\n",
    "\n",
    "ax.plot(times, result_ref.expect[1], \"b\", lw=2)\n",
    "ax.plot(times, result_ref.expect[2], \"r\", lw=2)\n",
    "\n",
    "ax.set_ylim(-10, 10)\n",
    "ax.set_xlim(0, times.max())\n",
    "ax.set_xlabel(\"time\", fontsize=12)\n",
    "ax.plot(times, np.array(result.measurement).mean(axis=0)[:, 0].real, \"k\", lw=2)\n",
    "ax.plot(times, np.array(result.measurement).mean(axis=0)[:, 1].real, \"k\", lw=2);"
   ]
  },
  {
   "cell_type": "markdown",
   "id": "07a38bcf",
   "metadata": {},
   "source": [
    "## Heterodyne implementation #2: using two homodyne measurements"
   ]
  },
  {
   "cell_type": "markdown",
   "id": "b3fcefe4",
   "metadata": {},
   "source": [
    "\n",
    "We can also write the heterodyne equation as\n",
    "\n",
    "$\\displaystyle d\\rho(t) = -i[H, \\rho(t)]dt + \\frac{1}{2}\\gamma\\mathcal{D}[a]\\rho(t) dt + \\frac{1}{\\sqrt{2}} dW_1(t) \\sqrt{\\gamma} \\mathcal{H}[a] \\rho(t) + \\frac{1}{2}\\gamma\\mathcal{D}[a]\\rho(t) dt + \\frac{1}{\\sqrt{2}} dW_2(t) \\sqrt{\\gamma} \\mathcal{H}[-ia] \\rho(t)$\n",
    "\n",
    "\n",
    "And using the QuTiP format for two stochastic collapse operators, we have:\n",
    "\n",
    "$\\displaystyle d\\rho(t) = -i[H, \\rho(t)]dt + D_{1}[A_1]\\rho(t) dt + D_{2}[A_1]\\rho(t) dW_1 + D_{1}[A_2]\\rho(t) dt + D_{2}[A_2]\\rho(t) dW_2$\n",
    "\n",
    "so we can also identify"
   ]
  },
  {
   "cell_type": "markdown",
   "id": "fd7b5e54",
   "metadata": {},
   "source": [
    "$\\displaystyle D_{1}[A_1]\\rho = \\frac{1}{2}\\gamma \\mathcal{D}[a]\\rho = \\mathcal{D}[\\sqrt{\\gamma}a/\\sqrt{2}]\\rho = \\mathcal{D}[A_1]\\rho$\n",
    "\n",
    "$\\displaystyle D_{1}[A_2]\\rho = \\frac{1}{2}\\gamma \\mathcal{D}[a]\\rho = \\mathcal{D}[-i\\sqrt{\\gamma}a/\\sqrt{2}]\\rho = \\mathcal{D}[A_2]\\rho$\n"
   ]
  },
  {
   "cell_type": "markdown",
   "id": "d3eaab20",
   "metadata": {},
   "source": [
    "$D_{2}[A_1]\\rho = \\frac{1}{\\sqrt{2}} \\sqrt{\\gamma} \\mathcal{H}[a] \\rho = \\mathcal{H}[A_1] \\rho$\n",
    "\n",
    "$D_{2}[A_2]\\rho = \\frac{1}{\\sqrt{2}} \\sqrt{\\gamma} \\mathcal{H}[-ia] \\rho  = \\mathcal{H}[A_2] \\rho $"
   ]
  },
  {
   "cell_type": "markdown",
   "id": "e0370871",
   "metadata": {},
   "source": [
    "where $A_1 = \\sqrt{\\gamma} a / \\sqrt{2}$ and $A_2 = -i \\sqrt{\\gamma} a / \\sqrt{2}$."
   ]
  },
  {
   "cell_type": "markdown",
   "id": "6e6faaff",
   "metadata": {},
   "source": [
    "In summary we have\n",
    "\n",
    "$\\displaystyle d\\rho(t) = -i[H, \\rho(t)]dt + \\sum_i\\left\\{\\mathcal{D}[A_i]\\rho(t) dt + \\mathcal{H}[A_i]\\rho(t) dW_i\\right\\}$\n",
    "\n",
    "which is a simultaneous homodyne detection with $A_1 = \\sqrt{\\gamma}a/\\sqrt{2}$ and $A_2 = -i\\sqrt{\\gamma}a/\\sqrt{2}$"
   ]
  },
  {
   "cell_type": "markdown",
   "id": "e2e76287",
   "metadata": {},
   "source": [
    "Here the two heterodyne currents for the $x$ and $y$ quadratures are\n",
    "\n",
    "$J_x(t) = \\sqrt{\\gamma/2}\\left<x\\right> + \\xi(t)$\n",
    "\n",
    "$J_y(t) = \\sqrt{\\gamma/2}\\left<y\\right> + \\xi(t)$\n",
    "\n",
    "where $\\xi(t) = \\frac{dW}{dt}$.\n",
    "\n",
    "In qutip we can use the predefined homodyne solver for solving this problem."
   ]
  },
  {
   "cell_type": "code",
   "execution_count": null,
   "id": "ab715f0a",
   "metadata": {},
   "outputs": [],
   "source": [
    "opt = Options()\n",
    "opt.store_states = True\n",
    "result = smesolve(\n",
    "    H,\n",
    "    rho0,\n",
    "    times,\n",
    "    [],\n",
    "    [np.sqrt(gamma / 2) * a, -1.0j * np.sqrt(gamma / 2) * a],\n",
    "    e_ops,\n",
    "    ntraj=100,\n",
    "    nsubsteps=nsubsteps,\n",
    "    solver=\"taylor15\",\n",
    "    m_ops=[x, y],\n",
    "    dW_factors=[np.sqrt(2 / gamma), np.sqrt(2 / gamma)],\n",
    "    method=\"homodyne\",\n",
    "    store_measurement=True,\n",
    "    map_func=parallel_map,\n",
    ")"
   ]
  },
  {
   "cell_type": "code",
   "execution_count": null,
   "id": "d5b56003",
   "metadata": {},
   "outputs": [],
   "source": [
    "plot_expectation_values([result, result_ref]);"
   ]
  },
  {
   "cell_type": "code",
   "execution_count": null,
   "id": "352110bc",
   "metadata": {},
   "outputs": [],
   "source": [
    "fig, ax = plt.subplots(figsize=(8, 4))\n",
    "\n",
    "for m in result.measurement:\n",
    "    ax.plot(times, m[:, 0].real, \"b\", alpha=0.05)\n",
    "    ax.plot(times, m[:, 1].real, \"r\", alpha=0.05)\n",
    "\n",
    "ax.plot(times, result_ref.expect[1], \"b\", lw=2)\n",
    "ax.plot(times, result_ref.expect[2], \"r\", lw=2)\n",
    "\n",
    "ax.set_xlim(0, times.max())\n",
    "ax.set_ylim(-25, 25)\n",
    "ax.set_xlabel(\"time\", fontsize=12)\n",
    "ax.plot(times, np.array(result.measurement).mean(axis=0)[:, 0].real, \"k\", lw=2)\n",
    "ax.plot(times, np.array(result.measurement).mean(axis=0)[:, 1].real, \"k\", lw=2);"
   ]
  },
  {
   "cell_type": "markdown",
   "id": "24d231f8",
   "metadata": {},
   "source": [
    "## Implementation #3: builtin function for heterodyne"
   ]
  },
  {
   "cell_type": "code",
   "execution_count": null,
   "id": "341ca3cb",
   "metadata": {},
   "outputs": [],
   "source": [
    "result = smesolve(\n",
    "    H,\n",
    "    rho0,\n",
    "    times,\n",
    "    [],\n",
    "    [np.sqrt(gamma) * a],\n",
    "    e_ops,\n",
    "    ntraj=ntraj,\n",
    "    nsubsteps=nsubsteps,\n",
    "    solver=\"taylor15\",\n",
    "    method=\"heterodyne\",\n",
    "    store_measurement=True,\n",
    "    map_func=parallel_map,\n",
    ")"
   ]
  },
  {
   "cell_type": "code",
   "execution_count": null,
   "id": "bd18fdbd",
   "metadata": {},
   "outputs": [],
   "source": [
    "plot_expectation_values([result, result_ref]);"
   ]
  },
  {
   "cell_type": "code",
   "execution_count": null,
   "id": "bedd0d7c",
   "metadata": {},
   "outputs": [],
   "source": [
    "fig, ax = plt.subplots(figsize=(8, 4))\n",
    "\n",
    "for m in result.measurement:\n",
    "    ax.plot(times, m[:, 0, 0].real / np.sqrt(gamma), \"b\", alpha=0.05)\n",
    "    ax.plot(times, m[:, 0, 1].real / np.sqrt(gamma), \"r\", alpha=0.05)\n",
    "\n",
    "ax.plot(times, result_ref.expect[1], \"b\", lw=2)\n",
    "ax.plot(times, result_ref.expect[2], \"r\", lw=2)\n",
    "\n",
    "ax.set_xlim(0, times.max())\n",
    "ax.set_ylim(-15, 15)\n",
    "ax.set_xlabel(\"time\", fontsize=12)\n",
    "ax.plot(\n",
    "    times,\n",
    "    np.array(result.measurement).mean(axis=0)[:, 0, 0].real / np.sqrt(gamma),\n",
    "    \"k\",\n",
    "    lw=2,\n",
    ")\n",
    "ax.plot(\n",
    "    times,\n",
    "    np.array(result.measurement).mean(axis=0)[:, 0, 1].real / np.sqrt(gamma),\n",
    "    \"k\",\n",
    "    lw=2,\n",
    ");"
   ]
  },
  {
   "cell_type": "markdown",
   "id": "9c128fe6",
   "metadata": {},
   "source": [
    "## Common problem\n",
    "\n",
    "For some systems, the resulting density matrix can become unphysical due to the accumulation of computation error."
   ]
  },
  {
   "cell_type": "code",
   "execution_count": null,
   "id": "9f1294d3",
   "metadata": {},
   "outputs": [],
   "source": [
    "N = 5\n",
    "w0 = 1.0 * 2 * np.pi\n",
    "A = 0.1 * 2 * np.pi\n",
    "times = np.linspace(0, 15, 301)\n",
    "gamma = 0.25\n",
    "\n",
    "ntraj = 150\n",
    "nsubsteps = 50\n",
    "\n",
    "a = destroy(N)\n",
    "x = a + a.dag()\n",
    "y = -1.0j * (a - a.dag())\n",
    "\n",
    "H = w0 * a.dag() * a + A * (a + a.dag())\n",
    "\n",
    "rho0 = coherent(N, np.sqrt(5.0), method=\"analytic\")\n",
    "c_ops = [np.sqrt(gamma) * a]\n",
    "e_ops = [a.dag() * a, x, y]\n",
    "\n",
    "opt = Options()\n",
    "opt.store_states = True\n",
    "result = smesolve(\n",
    "    H,\n",
    "    rho0,\n",
    "    times,\n",
    "    [],\n",
    "    [np.sqrt(gamma) * a],\n",
    "    e_ops,\n",
    "    ntraj=1,\n",
    "    nsubsteps=5,\n",
    "    solver=\"euler\",\n",
    "    method=\"heterodyne\",\n",
    "    store_measurement=True,\n",
    "    map_func=parallel_map,\n",
    "    options=opt,\n",
    "    normalize=False,\n",
    ")"
   ]
  },
  {
   "cell_type": "code",
   "execution_count": null,
   "id": "c6895ed9",
   "metadata": {},
   "outputs": [],
   "source": [
    "result.states[0][100].full()"
   ]
  },
  {
   "cell_type": "code",
   "execution_count": null,
   "id": "78b51864",
   "metadata": {},
   "outputs": [],
   "source": [
    "sp.linalg.eigh(result.states[0][10].full())"
   ]
  },
  {
   "cell_type": "markdown",
   "id": "da518669",
   "metadata": {},
   "source": [
    "Using smaller integration steps by increasing the nsubstep will lower the numerical errors.  \n",
    "The solver algorithm used affect the convergence and numerical error.\n",
    "Notable solvers are:  \n",
    "- euler: order 0.5 fastest, but lowest order. Only solver that accept non-commuting sc_ops\n",
    "- rouchon: order 1.0?, build to keep the density matrix physical\n",
    "- taylor1.5: order 1.5, default solver, reasonably fast for good convergence.\n",
    "- taylor2.0: order 2.0, even better convergence but can only take 1 homodyne sc_ops.\n",
    "\n",
    "\n",
    "To list list all available solver, use help(stochastic_solvers)"
   ]
  },
  {
   "cell_type": "code",
   "execution_count": null,
   "id": "c49f91dc",
   "metadata": {},
   "outputs": [],
   "source": [
    "help(stochastic_solvers)"
   ]
  },
  {
   "cell_type": "markdown",
   "id": "e1881410",
   "metadata": {},
   "source": [
    "## About"
   ]
  },
  {
   "cell_type": "code",
   "execution_count": null,
   "id": "7d2691f3",
   "metadata": {},
   "outputs": [],
   "source": [
    "about()"
   ]
  },
  {
   "cell_type": "code",
   "execution_count": null,
   "id": "8df71cb7",
   "metadata": {},
   "outputs": [],
   "source": []
  }
 ],
 "metadata": {
  "jupytext": {
   "cell_metadata_filter": "-all",
   "notebook_metadata_filter": "-jupytext.cell_metadata_filter,-jupytext.notebook_metadata_filter"
  },
  "kernelspec": {
   "display_name": "Python 3 (ipykernel)",
   "language": "python",
   "name": "python3"
  }
 },
 "nbformat": 4,
 "nbformat_minor": 5
}
