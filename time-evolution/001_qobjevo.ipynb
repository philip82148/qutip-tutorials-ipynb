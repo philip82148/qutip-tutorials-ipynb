{
 "cells": [
  {
   "cell_type": "markdown",
   "id": "921eceda",
   "metadata": {},
   "source": [
    "# <code>QobjEvo</code>: time-dependent quantum objects\n",
    "Made by Eric Giguere, updated by Jake Lishman"
   ]
  },
  {
   "cell_type": "code",
   "execution_count": null,
   "id": "226fe080",
   "metadata": {},
   "outputs": [],
   "source": [
    "# Basic setup\n",
    "import numpy as np\n",
    "import qutip\n",
    "\n",
    "size = 4\n",
    "t = 1.0\n",
    "a = qutip.destroy(size)\n",
    "ad = qutip.create(size)\n",
    "n = qutip.num(size)\n",
    "Id = qutip.qeye(size)"
   ]
  },
  {
   "cell_type": "markdown",
   "id": "a7df5454",
   "metadata": {},
   "source": [
    "## Contents\n",
    "\n",
    "- [Motivation](#Motivation)\n",
    "- [Instantiation](#Instantiation)\n",
    "    * [Functional time dependence](#Function-time-dependence)\n",
    "    * [String time dependence](#String-time-dependence)\n",
    "    * [Array dependence](#Array-dependence)\n",
    "- [Evaluation](#Evaluation)\n",
    "- [Compilation](#Compilation)\n",
    "- [Arguments](#Arguments)\n",
    "    * [Function form](#Function-form)\n",
    "    * [String form](#String-form)\n",
    "    * [Using objects](#Using-objects)\n",
    "    * [Dynamic arguments](#Dynamic-arguments)\n",
    "- [Mathematics](#Mathematics)\n",
    "- [Superoperators](#Superoperators)"
   ]
  },
  {
   "cell_type": "markdown",
   "id": "b004b673",
   "metadata": {},
   "source": [
    "## Motivation\n",
    "A `Qobj` is a generic quantum object, but it only represents constant objects.  When we need to represent time-dependent objects, the relevant functions take a list of `(Qobj, <time-dependence>)` tuples, where the time dependence is a function, a string or an array.  Inside the function, this is then converted into a new, time-dependent class `QobjEvo`.  We then use this for several compilation and optimisation steps to ensure that the solvers run quickly.\n",
    "\n",
    "You do not _need_ to use `QobjEvo`, but if you are planning to reuse some large operators for a long-running integration, you can instantiate one yourself and manually call the C compilation methods.  This will have a one-off start-up cost of a couple of seconds, but will make all uses of it faster afterwards.  This trade-off is often worthwhile if the integration will take over around 15 minutes, even if you do not reuse the object."
   ]
  },
  {
   "cell_type": "markdown",
   "id": "27f18b56",
   "metadata": {},
   "source": [
    "## Instantiation\n",
    "\n",
    "`QobjEvo` is instantiated with the same time-dependent list that is passed to, say, `mesolve`.  This doesn't even _have_ to be time dependent, but constant ones will not have significant benefits over varying ones.  The three types of scalar time dependence are:\n",
    "  - function\n",
    "  - string\n",
    "  - array\n",
    "\n",
    "This can represent objects of the form\n",
    "$$\n",
    "A(t) = \\sum_k f_k(t) A_k\n",
    "$$\n",
    "where the $f_k(t)$ are time-dependent scalars, and the $A_k$ are constant `Qobj` objects.  The list then looks like\n",
    "```\n",
    "[A0, [A1, f1], [A2, f2], ...]\n",
    "```\n",
    "where all the `Ak` are constant `Qobj`s, and the `fk` are time dependences in one of the available forms.\n",
    "\n",
    "It is not recommended to mix formats within one `QobjEvo`, as the available optimisations will typically be reduced."
   ]
  },
  {
   "cell_type": "code",
   "execution_count": null,
   "id": "e9b075b1",
   "metadata": {},
   "outputs": [],
   "source": [
    "constant_form = qutip.QobjEvo([n])"
   ]
  },
  {
   "cell_type": "markdown",
   "id": "ed9afd75",
   "metadata": {},
   "source": [
    "### Function time dependence\n",
    "\n",
    "This should be a valid Python function with the signature\n",
    "```python\n",
    "(t: float, args: dict) -> complex\n",
    "```\n",
    "where `t` is the time, `args` is a dictionary containing arguments which you can change without needing a new `QobjEvo`, and the return value is the complex value of $f_k$.  We'll look more at `args` later."
   ]
  },
  {
   "cell_type": "code",
   "execution_count": null,
   "id": "c732eb63",
   "metadata": {},
   "outputs": [],
   "source": [
    "def cos_t(t, args):\n",
    "    return np.cos(t)\n",
    "\n",
    "\n",
    "function_form = qutip.QobjEvo([n, [a + ad, cos_t]])"
   ]
  },
  {
   "cell_type": "markdown",
   "id": "1ac37c36",
   "metadata": {},
   "source": [
    "If you need something more complex, such as a state with memory or to build a parametrised set of functions where the arguments will not change once set, you can use a class which implements `__call__`."
   ]
  },
  {
   "cell_type": "code",
   "execution_count": null,
   "id": "96af2e43",
   "metadata": {},
   "outputs": [],
   "source": [
    "class callable_time_dependence:\n",
    "    def __init__(self, add):\n",
    "        self.add = add\n",
    "\n",
    "    def __call__(self, t, args):\n",
    "        return self.add + np.cos(t)\n",
    "\n",
    "\n",
    "callable_form = qutip.QobjEvo([n, [a + ad, callable_time_dependence(2)]])"
   ]
  },
  {
   "cell_type": "markdown",
   "id": "65c18881",
   "metadata": {},
   "source": [
    "### String time dependence\n",
    "\n",
    "This should be a valid single Python expression that evaluates to a `complex`.  Roughly, if you could do `eval(x)` and get a valid `complex`, you will be fine.  In addition to `t` being the time, the following symbols are also defined in scope with their usual definitions:\n",
    "```\n",
    "sin  cos  tan   asin  acos  atan\n",
    "sinh cosh tanh  asinh acosh atanh  \n",
    "exp  log  log10 erf   zerf  sqrt  \n",
    "real imag conj  abs   norm  arg\n",
    "proj pi\n",
    "```\n",
    "In addition, `np` refers to `numpy` and `spe` to `scipy.special`.\n",
    "\n",
    "String dependence can be compiled down to C code if Cython is available (or to pure Python if it isn't).  Compiling to C takes a comparatively long time, but if you plan to reuse the same time dependence a lot, this will produce the fastest code."
   ]
  },
  {
   "cell_type": "code",
   "execution_count": null,
   "id": "6c1f1cff",
   "metadata": {},
   "outputs": [],
   "source": [
    "string_form = qutip.QobjEvo([n, [a + ad, \"cos(t)\"]])"
   ]
  },
  {
   "cell_type": "markdown",
   "id": "b8c868f2",
   "metadata": {},
   "source": [
    "### Array dependence\n",
    "\n",
    "If the time dependence is particularly costly to compute, you may pass an array containing the value of the functions evaluated at different times, and separately pass the corresponding list of times to the `tlist` keyword argument of the `QobjEvo` constructor.  All times inbetween will be interpolated with cubic splines.\n",
    "\n",
    "The times in `tlist` must be sorted, but they don't need to be evenly distributed.  If you use this for more than one entry, all entries must have the same values for `tlist` (you can only pass one)."
   ]
  },
  {
   "cell_type": "code",
   "execution_count": null,
   "id": "5c300c48",
   "metadata": {},
   "outputs": [],
   "source": [
    "tlist = np.linspace(0, 10, 101)\n",
    "values = np.cos(tlist)\n",
    "array_form = qutip.QobjEvo([n, [a + ad, values]], tlist=tlist)"
   ]
  },
  {
   "cell_type": "markdown",
   "id": "51b8ed66",
   "metadata": {},
   "source": [
    "## Evaluation\n",
    "\n",
    "No matter what type of time dependence was used, or even if only a constant was created, you can always call your `QobjEvo` instance like a function to get the value at that time.  This will return a `Qobj`."
   ]
  },
  {
   "cell_type": "code",
   "execution_count": null,
   "id": "403c266d",
   "metadata": {},
   "outputs": [],
   "source": [
    "constant_form(2)"
   ]
  },
  {
   "cell_type": "code",
   "execution_count": null,
   "id": "984926b4",
   "metadata": {},
   "outputs": [],
   "source": [
    "function_form(2)"
   ]
  },
  {
   "cell_type": "code",
   "execution_count": null,
   "id": "4031cefd",
   "metadata": {},
   "outputs": [],
   "source": [
    "callable_form(2)"
   ]
  },
  {
   "cell_type": "code",
   "execution_count": null,
   "id": "297f7c0a",
   "metadata": {},
   "outputs": [],
   "source": [
    "string_form(2)"
   ]
  },
  {
   "cell_type": "code",
   "execution_count": null,
   "id": "ee276fdf",
   "metadata": {},
   "outputs": [],
   "source": [
    "array_form(2)"
   ]
  },
  {
   "cell_type": "markdown",
   "id": "71012fbe",
   "metadata": {},
   "source": [
    "## Compilation"
   ]
  },
  {
   "cell_type": "markdown",
   "id": "5c199121",
   "metadata": {},
   "source": [
    "If you have Cython available, `QobjEvo` can compile itself down to C code for speed.  This will be most successful with the string format of time dependence.  The compilation process is likely to be slow, but afterwards the `QobjEvo` should return values significantly faster.\n",
    "\n",
    "Compilation is done with the `QobjEvo.compile()` method, and modifies the object in-place.  Calling the same method again will not force a recompilation.  This is important for re-using compiled `QobjEvo` objects - the solvers will not need to recompile each time the same object is passed."
   ]
  },
  {
   "cell_type": "code",
   "execution_count": null,
   "id": "d920cc26",
   "metadata": {},
   "outputs": [],
   "source": [
    "string_form.compile()\n",
    "string_form(4)"
   ]
  },
  {
   "cell_type": "markdown",
   "id": "393736b4",
   "metadata": {},
   "source": [
    "## Arguments\n",
    "\n",
    "Data can be passed to the coefficient functions or strings using an `args` dictionary.  In the functional form, this is passed as an explicit parameter.  In the string form, `args` acts like additional variable definitions for the scope of the function.  In other words, `'x + 2'` will work and return a value if, for example, `args` is `{'x': 1}`.  \n",
    "The keys of `args` should always be strings representing valid Python identifiers (variable names), and they should not begin with an underscore (\\_).\n",
    "\n",
    "Values _can_ be any type, but if Cython compilation is used with string dependence, there will be a large performance penalty for using anything other than valid C numeric types (including `complex`), `numpy` arrays, or any object that Cython cannot call natively.\n",
    "\n",
    "You can pass `args` directly at instantiation, and these will be used in every call, unless you specifically override them using the `args` keyword argument in the call.  The overriding is temporary, and all subsequent calls will use the values given at initialisation."
   ]
  },
  {
   "cell_type": "markdown",
   "id": "b58b34ec",
   "metadata": {},
   "source": [
    "### Function form"
   ]
  },
  {
   "cell_type": "code",
   "execution_count": null,
   "id": "870ef5b1",
   "metadata": {},
   "outputs": [],
   "source": [
    "def coeff_with_args(t, args):\n",
    "    return t + args[\"delta\"]\n",
    "\n",
    "\n",
    "td_args = qutip.QobjEvo([Id, coeff_with_args], args={\"delta\": 1.0})\n",
    "td_args(2)"
   ]
  },
  {
   "cell_type": "code",
   "execution_count": null,
   "id": "eb67fb83",
   "metadata": {},
   "outputs": [],
   "source": [
    "# Temporarily overriding the arguments.\n",
    "td_args(2, args={\"delta\": 10})"
   ]
  },
  {
   "cell_type": "code",
   "execution_count": null,
   "id": "a6c5d693",
   "metadata": {},
   "outputs": [],
   "source": [
    "# A subsequent regular call will still use the args given at initialisation.\n",
    "td_args(2)"
   ]
  },
  {
   "cell_type": "markdown",
   "id": "a6168113",
   "metadata": {},
   "source": [
    "### String form"
   ]
  },
  {
   "cell_type": "code",
   "execution_count": null,
   "id": "8b4a1e67",
   "metadata": {},
   "outputs": [],
   "source": [
    "td_args_str = qutip.QobjEvo([Id, \"t + delta\"], args={\"delta\": 1.0})\n",
    "td_args_str(2)"
   ]
  },
  {
   "cell_type": "code",
   "execution_count": null,
   "id": "1bb7b7f0",
   "metadata": {},
   "outputs": [],
   "source": [
    "td_args_str(2, args={\"delta\": 10})"
   ]
  },
  {
   "cell_type": "markdown",
   "id": "f83dcb9e",
   "metadata": {},
   "source": [
    "### Using objects\n",
    "\n",
    "The argument value need not just be a number.  Even Cython-compiled strings can accept functions which Cython can call natively, such as the core `numpy` functions."
   ]
  },
  {
   "cell_type": "code",
   "execution_count": null,
   "id": "022b9b67",
   "metadata": {},
   "outputs": [],
   "source": [
    "td_args_str = qutip.QobjEvo([Id, \"f(t)\"], args={\"f\": np.cos})\n",
    "td_args_str.compile()\n",
    "td_args_str(0.0)"
   ]
  },
  {
   "cell_type": "code",
   "execution_count": null,
   "id": "42f05573",
   "metadata": {},
   "outputs": [],
   "source": [
    "td_args_str(np.pi)"
   ]
  },
  {
   "cell_type": "markdown",
   "id": "ae64a1b5",
   "metadata": {},
   "source": [
    "### Dynamic arguments\n",
    "\n",
    "When `QobjEvo` is used in the solvers, certain dynamic arguments will be populated at each iteration, if and only if their names are present in the `args` dictionary used at `QobjEvo` intialisation.  The initial values of all of these dynamic arguments will be a representation of `0` in the corresponding type, for example `\"state\"` will be `qzero()` of the correct dimensions.\n",
    "\n",
    "There several of these \"magic\" variables, mostly revolving around the state currently being evolved:\n",
    "  - `\"state\"` or `\"state_qobj\"`: a `Qobj` of the current state.\n",
    "  - `\"state_mat\"`: a dense 2D `np.ndarray` of the state as a matrix, similar to `state.full()`\n",
    "  - `\"state_vec\"`: a dense 1D `np.ndarray` of the state as a vector.  This only generally makes sense for kets.\n",
    "  - `\"expect_op_<n>\"`: `complex`, where `<n>` is an index into `e_ops`, the current expectation value of `e_ops[n]` (the `<>` should not appear, e.g. `\"expect_op_0\"`).\n",
    "  - `\"collapse\"`: a `list` of `(t: float, n: int)` indicating the time `t` a collapse occurred, and which of `c_ops` caused it.  Only present when using `mcsolve`.\n"
   ]
  },
  {
   "cell_type": "code",
   "execution_count": null,
   "id": "783ff267",
   "metadata": {},
   "outputs": [],
   "source": [
    "args = {\"state\": None}\n",
    "\n",
    "\n",
    "def print_args(t, args):\n",
    "    print(\"\\n\".join(['\"' + key + '\":\\n' +\n",
    "                     repr(value) for key, value in args.items()]))\n",
    "    return t\n",
    "\n",
    "\n",
    "td_args = qutip.QobjEvo([Id, print_args], args=args)\n",
    "td_args(0)"
   ]
  },
  {
   "cell_type": "code",
   "execution_count": null,
   "id": "7eb307af",
   "metadata": {},
   "outputs": [],
   "source": [
    "# The `state` keyword argument is typically unused.\n",
    "# Here it just simulates being inside a solver at a particular state.\n",
    "td_args(0, state=qutip.basis(4, 2))"
   ]
  },
  {
   "cell_type": "markdown",
   "id": "a2883c7a",
   "metadata": {},
   "source": [
    "## Mathematics\n",
    "\n",
    "`QobjEvo` supports the basic mathematical operations which make sense for time-dependent quantum objects:\n",
    "  - addition of `QobjEvo` and `Qobj`\n",
    "  - subtraction of `QobjEvo` and `Qobj`\n",
    "  - product with `QobjEvo`, `Qobj` or scalars\n",
    "  - division by a scalar\n",
    "  - negation: `-x`\n",
    "  - conjugation: `QobjEvo.conj()`\n",
    "  - adjoint (dagger): `QobjEvo.dag()`\n",
    "  - transpose: `QobjEvo.trans`"
   ]
  },
  {
   "cell_type": "code",
   "execution_count": null,
   "id": "5d9c8748",
   "metadata": {},
   "outputs": [],
   "source": [
    "(array_form * 2)(0)"
   ]
  },
  {
   "cell_type": "code",
   "execution_count": null,
   "id": "15acd994",
   "metadata": {},
   "outputs": [],
   "source": [
    "(array_form + 1 + a)(0)"
   ]
  },
  {
   "cell_type": "markdown",
   "id": "6744a1c4",
   "metadata": {},
   "source": [
    "## Superoperators\n",
    "\n",
    "The functions in `qutip.superoperator` can also be used for `QobjEvo`.  Of particular importance is `liouvillian`, as `mesolve` can take the Liouvillian as its first argument (and will be faster this way), in place of separated Hamiltonians and collapse operators."
   ]
  },
  {
   "cell_type": "code",
   "execution_count": null,
   "id": "c6991926",
   "metadata": {},
   "outputs": [],
   "source": [
    "liouv = qutip.liouvillian(array_form, c_ops=[constant_form])\n",
    "liouv(0)"
   ]
  },
  {
   "cell_type": "markdown",
   "id": "c89bfb55",
   "metadata": {},
   "source": [
    "## Epilogue"
   ]
  },
  {
   "cell_type": "code",
   "execution_count": null,
   "id": "f91cfd99",
   "metadata": {},
   "outputs": [],
   "source": [
    "qutip.about()"
   ]
  }
 ],
 "metadata": {
  "jupytext": {
   "cell_metadata_filter": "-all",
   "notebook_metadata_filter": "-jupytext.cell_metadata_filter,-jupytext.notebook_metadata_filter"
  },
  "kernelspec": {
   "display_name": "Python 3 (ipykernel)",
   "language": "python",
   "name": "python3"
  }
 },
 "nbformat": 4,
 "nbformat_minor": 5
}
