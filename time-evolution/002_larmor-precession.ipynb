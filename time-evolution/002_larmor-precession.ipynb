{
 "cells": [
  {
   "cell_type": "code",
   "execution_count": null,
   "id": "ccc567c1",
   "metadata": {},
   "outputs": [],
   "source": [
    "!pip3 install qutip==4.7.3 qutip-qip==0.3.0 numpy==1.25.2 scipy==1.11.2 matplotlib==3.5.2 jupytext==1.13.8 black==22.3.0 flake8==4.0.1 nbqa==1.3.1 isort==5.10.1"
   ]
  },
  {
   "cell_type": "markdown",
   "id": "f1598013",
   "metadata": {
    "lines_to_next_cell": 0
   },
   "source": [
    "# Schrödinger Equation Solver: Larmor precession\n",
    "\n",
    "Author: C. Staufenbiel, 2022\n",
    "\n",
    "### Introduction\n",
    "\n",
    "This notebook guides you through the process of setting up a Schrödinger \n",
    "equation in QuTiP and using the corresponding solver to obtain the time \n",
    "evolution. We will investigate the example of the Larmor precession to \n",
    "explore the functionality of [`qutip.sesolve()`](https://qutip.org/docs/latest/apidoc/functions.html?highlight=sesolve#module-qutip.sesolve).\n",
    "\n",
    "You can also find more on time evolutions with QuTiP [here](https://qutip.org/docs/latest/guide/guide-dynamics.html).\n",
    "\n",
    "### Setup\n",
    "\n",
    "First thing is to import the required functions, classes and modules."
   ]
  },
  {
   "cell_type": "code",
   "execution_count": null,
   "id": "8a5108de",
   "metadata": {},
   "outputs": [],
   "source": [
    "import matplotlib.pyplot as plt\n",
    "import numpy as np\n",
    "import qutip\n",
    "from qutip import Bloch, QobjEvo, basis, sesolve, sigmay, sigmaz\n",
    "\n",
    "%matplotlib inline"
   ]
  },
  {
   "cell_type": "markdown",
   "id": "43af79de",
   "metadata": {},
   "source": [
    "We setup a arbitrary qubit state, which is in a superposition of the two qubit states. We use the `qutip.Bloch` class to visualize the state on the Bloch sphere."
   ]
  },
  {
   "cell_type": "code",
   "execution_count": null,
   "id": "35ab22ff",
   "metadata": {},
   "outputs": [],
   "source": [
    "psi = (2.0 * basis(2, 0) + basis(2, 1)).unit()\n",
    "b = Bloch()\n",
    "b.add_states(psi)\n",
    "b.show()"
   ]
  },
  {
   "cell_type": "markdown",
   "id": "313583ef",
   "metadata": {},
   "source": [
    "### Simulation with constant magnetic field\n",
    "\n",
    "Let's define a simple Hamiltonian and use `qutip.sesolve` to solve the\n",
    "Schrödinger equation. The Hamiltonian describes a constant magnetic field \n",
    "along the z-axis. We can describe this magnetic field by the corresponding \n",
    "Pauli matrix, which is defined as `qutip.sigmaz()` in QuTiP.\n",
    "\n",
    "To solve the Schrödinger equation for this particular Hamiltonian, we have to pass the Hamiltonian, the initial state, the times for which we want to simulate the system, and a set of observables that we evaluate at these times.\n",
    "\n",
    "Here, we are for example interested in the time evolution of the expectation value for $\\sigma_y$. We pass these properties to `sesolve` in the following."
   ]
  },
  {
   "cell_type": "code",
   "execution_count": null,
   "id": "ab409560",
   "metadata": {},
   "outputs": [],
   "source": [
    "# simulate the unitary dynamics\n",
    "H = sigmaz()\n",
    "times = np.linspace(0, 10, 100)\n",
    "result = sesolve(H, psi, times, [sigmay()])"
   ]
  },
  {
   "cell_type": "markdown",
   "id": "376aa497",
   "metadata": {},
   "source": [
    "`result.expect` holds the expecation values for the times that we passed to `sesolve`. `result.expect` is a two dimensional array, where the first dimension refers to the different expectation operators that we passed to `sesolve` before. \n",
    "\n",
    "Above we passed `sigmay()` as the only expectation operator and therefore we can access its values by `result.expect[0]`. Below we plot the evolution of the expecation value."
   ]
  },
  {
   "cell_type": "code",
   "execution_count": null,
   "id": "14a56c95",
   "metadata": {},
   "outputs": [],
   "source": [
    "plt.plot(times, result.expect[0])\n",
    "plt.xlabel(\"Time\"), plt.ylabel(\"<sigma_y>\")\n",
    "plt.show()"
   ]
  },
  {
   "cell_type": "markdown",
   "id": "b3744d18",
   "metadata": {},
   "source": [
    "Above we gave `sigmay()` as an operator to `sesolve` to directly calculate it's expectation value. If we pass an empty list at this argument to `sesolve` it will return the quantum state of the system for each time step in `times`. We can access the states by `result.states` and use them for example to plot the states on the Bloch sphere to see the precession. If the solver take a long time to run, it is also a good idea to return the states, so you can calculate different things, without specifying before the calculation."
   ]
  },
  {
   "cell_type": "code",
   "execution_count": null,
   "id": "5aa74e9c",
   "metadata": {},
   "outputs": [],
   "source": [
    "res = sesolve(H, psi, times, [])\n",
    "b = Bloch()\n",
    "b.add_states(res.states[1:30])\n",
    "b.show()"
   ]
  },
  {
   "cell_type": "markdown",
   "id": "b268e573",
   "metadata": {},
   "source": [
    "## Simulation with varying magnetic field\n",
    "\n",
    "Above we passed a constant Hamiltonian to `sesolve`. In QuTiP these constant operators are represented by `Qobj`. However, `sesolve` can also take time-dependent operators as an argument, which are represented by [`QobjEvo`](https://qutip.org/docs/latest/apidoc/classes.html?highlight=qobjevo#qutip.QobjEvo) in QuTiP. In this section we define the magnetic field with a linear and a periodic field strength, and observe the changes in the expecation value of $\\sigma_y$.\n",
    "You can find more information on `QobjEvo` in [this notebook](https://nbviewer.jupyter.org/github/qutip/qutip-notebooks/blob/master/examples/qobjevo.ipynb).\n",
    "\n",
    "We start by defining two functions for the field strength of the magnetic field. To be passed on to `QobjEvo` the functions need two arguments: the times and optional arguments.\n"
   ]
  },
  {
   "cell_type": "code",
   "execution_count": null,
   "id": "9fe29cae",
   "metadata": {},
   "outputs": [],
   "source": [
    "def linear(t, args):\n",
    "    return 0.3 * t\n",
    "\n",
    "\n",
    "def periodic(t, args):\n",
    "    return np.cos(0.5 * t)\n",
    "\n",
    "\n",
    "# Define QobjEvos\n",
    "H_lin = QobjEvo([[sigmaz(), linear]], tlist=times)\n",
    "H_per = QobjEvo([[sigmaz(), periodic]], tlist=times)"
   ]
  },
  {
   "cell_type": "markdown",
   "id": "130ea5d6",
   "metadata": {},
   "source": [
    "We can now continue as in the previous section and use `sesolve` to solve the Schrödinger equation."
   ]
  },
  {
   "cell_type": "code",
   "execution_count": null,
   "id": "7d0eaee3",
   "metadata": {},
   "outputs": [],
   "source": [
    "result_lin = sesolve(H_lin, psi, times, [sigmay()])\n",
    "result_per = sesolve(H_per, psi, times, [sigmay()])\n",
    "\n",
    "\n",
    "# Plot <sigma_y> for linear increasing field strength\n",
    "plt.plot(times, result_lin.expect[0])\n",
    "plt.xlabel(\"Time\"), plt.ylabel(\"<sigma_y>\")\n",
    "plt.show()"
   ]
  },
  {
   "cell_type": "markdown",
   "id": "bdf33ab5",
   "metadata": {},
   "source": [
    "We can see that the frequency of the Larmor precession increases with the time. This is a direct result of the time-dependent Hamiltonian. We can generate the same plot for the periodically varying field strength."
   ]
  },
  {
   "cell_type": "code",
   "execution_count": null,
   "id": "317f1779",
   "metadata": {},
   "outputs": [],
   "source": [
    "plt.plot(times, result_per.expect[0])\n",
    "plt.xlabel(\"Time\"), plt.ylabel(\"<sigma_y>\")\n",
    "plt.show()"
   ]
  },
  {
   "cell_type": "markdown",
   "id": "b3eda2cc",
   "metadata": {},
   "source": [
    "### Conclusion\n",
    "We can use `sesolve` to solve unitary time evolutions. This is not only \n",
    "limited to constant Hamiltonians, but we can also make use of time-dependent Hamiltonians using `QobjEvo`. \n",
    "\n",
    "### About"
   ]
  },
  {
   "cell_type": "code",
   "execution_count": null,
   "id": "d9c997ad",
   "metadata": {},
   "outputs": [],
   "source": [
    "qutip.about()"
   ]
  },
  {
   "cell_type": "markdown",
   "id": "18a27d95",
   "metadata": {},
   "source": [
    "### Testing\n",
    "\n",
    "This section can include some tests to verify that the expected outputs are\n",
    "generated within the notebook. We put this section at the end of the notebook,\n",
    "so it's not interfering with the user experience. Please, define the tests\n",
    "using `assert`, so that the cell execution fails if a wrong output is generated."
   ]
  },
  {
   "cell_type": "code",
   "execution_count": null,
   "id": "8f09676d",
   "metadata": {},
   "outputs": [],
   "source": [
    "assert np.allclose(result.expect[0][0], 0)\n",
    "assert np.allclose(result_lin.expect[0][0], 0)\n",
    "assert np.allclose(result_per.expect[0][0], 0)\n",
    "assert 1 == 1"
   ]
  }
 ],
 "metadata": {
  "jupytext": {
   "cell_metadata_filter": "-all",
   "notebook_metadata_filter": "-jupytext.cell_metadata_filter,-jupytext.notebook_metadata_filter"
  },
  "kernelspec": {
   "display_name": "Python 3 (ipykernel)",
   "language": "python",
   "name": "python3"
  }
 },
 "nbformat": 4,
 "nbformat_minor": 5
}
