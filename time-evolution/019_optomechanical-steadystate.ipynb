{
 "cells": [
  {
   "cell_type": "code",
   "execution_count": null,
   "id": "ccc567c1",
   "metadata": {},
   "outputs": [],
   "source": [
    "!pip3 install qutip==4.7.3 qutip-qip==0.3.0 numpy==1.25.2 scipy==1.11.2 matplotlib==3.5.2 jupytext==1.13.8 black==22.3.0 flake8==4.0.1 nbqa==1.3.1 isort==5.10.1"
   ]
  },
  {
   "cell_type": "markdown",
   "id": "3676c2f9",
   "metadata": {},
   "source": [
    "# Steady-State: Optomechanical System in the Single-Photon Strong-Coupling Regime"
   ]
  },
  {
   "cell_type": "markdown",
   "id": "b130ad61",
   "metadata": {},
   "source": [
    "P.D. Nation and J.R. Johansson\n",
    "\n",
    "For more information about QuTiP see [http://qutip.org](http://qutip.org)"
   ]
  },
  {
   "cell_type": "code",
   "execution_count": null,
   "id": "d413c25e",
   "metadata": {},
   "outputs": [],
   "source": [
    "import matplotlib.pyplot as plt\n",
    "import numpy as np\n",
    "from IPython.display import Image\n",
    "from qutip import (about, destroy, hinton, ptrace, qdiags, qeye, steadystate,\n",
    "                   tensor, wigner, wigner_cmap)\n",
    "\n",
    "%matplotlib inline"
   ]
  },
  {
   "cell_type": "markdown",
   "id": "a47e1b01",
   "metadata": {},
   "source": [
    "## Optomechanical Hamiltonian"
   ]
  },
  {
   "cell_type": "markdown",
   "id": "eb774eb1",
   "metadata": {},
   "source": [
    "The optomechanical Hamiltonian arises from the radiation pressure interaction of light in an optical cavity where one of the cavity mirrors is mechanically compliant."
   ]
  },
  {
   "cell_type": "code",
   "execution_count": null,
   "id": "b6145c1e",
   "metadata": {},
   "outputs": [],
   "source": [
    "Image(filename=\"images/optomechanical_setup.png\", width=500, embed=True)"
   ]
  },
  {
   "cell_type": "markdown",
   "id": "8f560a01",
   "metadata": {},
   "source": [
    "Assuming that $a^{+}$, $a$ and $b^{+}$,$b$ are the raising and lowering operators for the cavity and mechanical oscillator, respectively, the Hamiltonian for an optomechanical system driven by a classical monochromatic pump term can be written as "
   ]
  },
  {
   "cell_type": "markdown",
   "id": "ce0bc520",
   "metadata": {},
   "source": [
    "\\begin{equation}\n",
    "\\frac{\\hat{H}}{\\hbar}=-\\Delta\\hat{a}^{+}\\hat{a}+\\omega_{m}\\hat{b}^{+}\\hat{b}+g_{0}(\\hat{b}+\\hat{b}^{+})\\hat{a}^{+}\\hat{a}+E\\left(\\hat{a}+\\hat{a}^{+}\\right),\n",
    "\\end{equation}"
   ]
  },
  {
   "cell_type": "markdown",
   "id": "690a7142",
   "metadata": {},
   "source": [
    "where $\\Delta=\\omega_{p}-\\omega_{c}$ is the detuning between the pump ($\\omega_{p}$) and cavity ($\\omega_{c}$) mode frequencies, $g_{0}$ is the single-photon coupling strength, and $E$ is the amplitude of the pump mode. It is known that in the single-photon strong-coupling regime, where the cavity frequency shift per phonon is larger than the cavity line width, $g_{0}/\\kappa \\gtrsim 1$ where $\\kappa$ is the decay rate of the cavity, and a single single photon displaces the mechanical oscillator by more than its zero-point amplitude $g_{0}/\\omega_{m} \\gtrsim 1$, or equiviently, $g^{2}_{0}/\\kappa\\omega_{m} \\gtrsim 1$, the mechanical oscillator can be driven into a nonclassical steady state of the system$+$environment dynamics.  Here, we will use the steady state solvers in QuTiP to explore such a state and compare the various solvers."
   ]
  },
  {
   "cell_type": "markdown",
   "id": "e1bcc1a4",
   "metadata": {},
   "source": [
    "## Solving for the Steady State Density Matrix"
   ]
  },
  {
   "cell_type": "markdown",
   "id": "ae51f110",
   "metadata": {},
   "source": [
    "The steady state density matrix of the optomechanical system plus the environment can be found from the Liouvillian superoperator $\\mathcal{L}$ via\n",
    "\n",
    "\\begin{equation}\n",
    "\\frac{d\\rho}{dt}=\\mathcal{L}\\rho=0\\rho,\n",
    "\\end{equation}\n",
    "\n",
    "where $\\mathcal{L}$ is typically given in Lindblad form\n",
    "\\begin{align}\n",
    "\\mathcal{L}[\\hat{\\rho}]=&-i[\\hat{H},\\hat{\\rho}]+\\kappa \\mathcal{D}\\left[\\hat{a},\\hat{\\rho}\\right]\\\\\n",
    "&+\\Gamma_{m}(1+n_{\\rm{th}})\\mathcal{D}[\\hat{b},\\hat{\\rho}]+\\Gamma_{m}n_{\\rm th}\\mathcal{D}[\\hat{b}^{+},\\hat{\\rho}], \\nonumber\n",
    "\\end{align}\n",
    "\n",
    "where $\\Gamma_{m}$ is the coulping strength of the mechanical oscillator to its thermal environment with average occupation number $n_{th}$.  As is customary, here we assume that the cavity mode is coupled to the vacuum.\n",
    "\n",
    "Although, the steady state solution is nothing but an eigenvalue equation, the numerical solution to this equation is anything but trivial due to the non-Hermitian structure of $\\mathcal{L}$ and its worsening condition number as the dimensionality of the truncated Hilbert space increases."
   ]
  },
  {
   "cell_type": "markdown",
   "id": "f4c81a65",
   "metadata": {},
   "source": [
    "## Steady State Solvers in QuTiP v3.0+"
   ]
  },
  {
   "cell_type": "markdown",
   "id": "06888294",
   "metadata": {},
   "source": [
    "As of QuTiP version 3.0, the following steady state solvers are available:\n",
    "\n",
    "- **direct**: Direct LU factorization\n",
    "- **eigen**: Calculates the eigenvector associated with the zero eigenvalue of $\\mathcal{L}\\rho$.\n",
    "- **power**: Finds zero eigenvector using inverse-power method.\n",
    "- **iterative-gmres**: Iterative solution via the GMRES solver.\n",
    "- **iterative-lgmres**: Iterative solution via the LGMRES solver.\n",
    "- **iterative-bicgstab**: Iterative solution via the BICGSTAB solver.\n",
    "- **svd**: Solution via SVD decomposition (dense matrices only)."
   ]
  },
  {
   "cell_type": "markdown",
   "id": "2310f45a",
   "metadata": {},
   "source": [
    "## Setup and Solution"
   ]
  },
  {
   "cell_type": "markdown",
   "id": "3d2f0898",
   "metadata": {},
   "source": [
    "### System Parameters"
   ]
  },
  {
   "cell_type": "code",
   "execution_count": null,
   "id": "9d340e19",
   "metadata": {},
   "outputs": [],
   "source": [
    "# System Parameters (in units of wm)\n",
    "# -----------------------------------\n",
    "Nc = 4  # Number of cavity states\n",
    "Nm = 30  # Number of mech states\n",
    "kappa = 0.3  # Cavity damping rate\n",
    "E = 0.1  # Driving Amplitude\n",
    "g0 = 2.4 * kappa  # Coupling strength\n",
    "Qm = 0.3 * 1e4  # Mech quality factor\n",
    "gamma = 1 / Qm  # Mech damping rate\n",
    "n_th = 1  # Mech bath temperature\n",
    "delta = -0.43  # Detuning"
   ]
  },
  {
   "cell_type": "markdown",
   "id": "60f29330",
   "metadata": {},
   "source": [
    "### Build Hamiltonian and Collapse Operators"
   ]
  },
  {
   "cell_type": "code",
   "execution_count": null,
   "id": "d20c32c4",
   "metadata": {},
   "outputs": [],
   "source": [
    "# Operators\n",
    "# ----------\n",
    "a = tensor(destroy(Nc), qeye(Nm))\n",
    "b = tensor(qeye(Nc), destroy(Nm))\n",
    "num_b = b.dag() * b\n",
    "num_a = a.dag() * a\n",
    "\n",
    "# Hamiltonian\n",
    "# ------------\n",
    "H = -delta * (num_a) + num_b + g0 * (b.dag() + b) * num_a + E * (a.dag() + a)\n",
    "\n",
    "# Collapse operators\n",
    "# -------------------\n",
    "cc = np.sqrt(kappa) * a\n",
    "cm = np.sqrt(gamma * (1.0 + n_th)) * b\n",
    "cp = np.sqrt(gamma * n_th) * b.dag()\n",
    "c_ops = [cc, cm, cp]"
   ]
  },
  {
   "cell_type": "markdown",
   "id": "72abb764",
   "metadata": {},
   "source": [
    "### Run Steady State Solvers"
   ]
  },
  {
   "cell_type": "code",
   "execution_count": null,
   "id": "0cb6b199",
   "metadata": {},
   "outputs": [],
   "source": [
    "# all possible solvers\n",
    "possible_solvers = [\"direct\", \"eigen\", \"power\", \"iterative-gmres\",\n",
    "                    \"iterative-bicgstab\"]\n",
    "# solvers used here\n",
    "solvers = [\"direct\", \"iterative-gmres\"]\n",
    "mech_dms = []\n",
    "\n",
    "for ss in solvers:\n",
    "    if ss in [\"iterative-gmres\", \"iterative-bicgstab\"]:\n",
    "        use_rcm = True\n",
    "    else:\n",
    "        use_rcm = False\n",
    "    rho_ss, info = steadystate(\n",
    "        H,\n",
    "        c_ops,\n",
    "        method=ss,\n",
    "        use_precond=True,\n",
    "        use_rcm=use_rcm,\n",
    "        tol=1e-15,\n",
    "        return_info=True,\n",
    "    )\n",
    "    print(ss, \"solution time =\", info[\"solution_time\"])\n",
    "    rho_mech = ptrace(rho_ss, 1)\n",
    "    mech_dms.append(rho_mech)\n",
    "mech_dms = np.asarray(mech_dms)"
   ]
  },
  {
   "cell_type": "markdown",
   "id": "596bcbcd",
   "metadata": {},
   "source": [
    "### Check Consistency of Solutions"
   ]
  },
  {
   "cell_type": "markdown",
   "id": "961d8fea",
   "metadata": {},
   "source": [
    "Can check to see if the solutions are the same by looking at the number of nonzero elements (NNZ) in the difference between mechanical density matrices."
   ]
  },
  {
   "cell_type": "code",
   "execution_count": null,
   "id": "6be955c5",
   "metadata": {},
   "outputs": [],
   "source": [
    "for kk in range(len(mech_dms)):\n",
    "    c = np.where(\n",
    "            np.abs(mech_dms[kk].flatten() - mech_dms[0].flatten()) > 1e-5\n",
    "        )[0]\n",
    "    print(\"#NNZ for k = {}: {}\".format(kk, len(c)))"
   ]
  },
  {
   "cell_type": "markdown",
   "id": "4bd219cf",
   "metadata": {},
   "source": [
    "## Plot the Mechanical Oscillator Wigner Function"
   ]
  },
  {
   "cell_type": "markdown",
   "id": "b84bd143",
   "metadata": {},
   "source": [
    "It is known that the density matrix for the mechanical oscillator is diagonal in the Fock basis due to phase diffusion. If we look at the `hinton()` plot of the density matrix, we can see the magnitude of the diagonal elements is higher, such that the non-diagonal have a vanishing importance."
   ]
  },
  {
   "cell_type": "code",
   "execution_count": null,
   "id": "684d83a8",
   "metadata": {},
   "outputs": [],
   "source": [
    "hinton(rho_mech, xlabels=[\"\"] * Nm, ylabels=[\"\"] * Nm);"
   ]
  },
  {
   "cell_type": "markdown",
   "id": "11a1154f",
   "metadata": {},
   "source": [
    "However some small off-diagonal terms show up during the factorization process, which we can display by the using `plt.spy()`."
   ]
  },
  {
   "cell_type": "code",
   "execution_count": null,
   "id": "b45e7b1b",
   "metadata": {},
   "outputs": [],
   "source": [
    "plt.spy(rho_mech.data, ms=1)"
   ]
  },
  {
   "cell_type": "markdown",
   "id": "f67d4f74",
   "metadata": {},
   "source": [
    "Therefore, to remove this error, let use explicitly take the diagonal elements and form a new operator out of them."
   ]
  },
  {
   "cell_type": "code",
   "execution_count": null,
   "id": "29fef073",
   "metadata": {},
   "outputs": [],
   "source": [
    "diag = rho_mech.diag()\n",
    "rho_mech2 = qdiags(diag, 0, dims=rho_mech.dims, shape=rho_mech.shape)\n",
    "hinton(rho_mech2, xlabels=[\"\"] * Nm, ylabels=[\"\"] * Nm);"
   ]
  },
  {
   "cell_type": "markdown",
   "id": "44c921a9",
   "metadata": {},
   "source": [
    "Now lets compute the oscillator Wigner function and plot it to see if there are any regions of negativity."
   ]
  },
  {
   "cell_type": "code",
   "execution_count": null,
   "id": "aa647c0f",
   "metadata": {},
   "outputs": [],
   "source": [
    "xvec = np.linspace(-20, 20, 256)\n",
    "W = wigner(rho_mech2, xvec, xvec)\n",
    "wmap = wigner_cmap(W, shift=-1e-5)"
   ]
  },
  {
   "cell_type": "code",
   "execution_count": null,
   "id": "b93535fd",
   "metadata": {},
   "outputs": [],
   "source": [
    "fig, ax = plt.subplots(figsize=(8, 6))\n",
    "c = ax.contourf(xvec, xvec, W, 256, cmap=wmap)\n",
    "ax.set_xlim([-10, 10])\n",
    "ax.set_ylim([-10, 10])\n",
    "plt.colorbar(c, ax=ax);"
   ]
  },
  {
   "cell_type": "markdown",
   "id": "a206a70a",
   "metadata": {},
   "source": [
    "## About"
   ]
  },
  {
   "cell_type": "code",
   "execution_count": null,
   "id": "ed886b02",
   "metadata": {},
   "outputs": [],
   "source": [
    "about()"
   ]
  }
 ],
 "metadata": {
  "jupytext": {
   "cell_metadata_filter": "-all",
   "notebook_metadata_filter": "-jupytext.cell_metadata_filter,-jupytext.notebook_metadata_filter"
  },
  "kernelspec": {
   "display_name": "Python 3 (ipykernel)",
   "language": "python",
   "name": "python3"
  }
 },
 "nbformat": 4,
 "nbformat_minor": 5
}
